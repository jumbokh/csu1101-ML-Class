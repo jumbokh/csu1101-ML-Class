{
  "nbformat": 4,
  "nbformat_minor": 0,
  "metadata": {
    "colab": {
      "name": "Check-BP-GradientVanish.ipynb",
      "provenance": [],
      "authorship_tag": "ABX9TyP9GFi85MxqYhSFjtMvT+eB",
      "include_colab_link": true
    },
    "kernelspec": {
      "name": "python3",
      "display_name": "Python 3"
    },
    "language_info": {
      "name": "python"
    }
  },
  "cells": [
    {
      "cell_type": "markdown",
      "metadata": {
        "id": "view-in-github",
        "colab_type": "text"
      },
      "source": [
        "<a href=\"https://colab.research.google.com/github/jumbokh/csu1101-ML-Class/blob/main/notebooks/Check_BP_GradientVanish.ipynb\" target=\"_parent\"><img src=\"https://colab.research.google.com/assets/colab-badge.svg\" alt=\"Open In Colab\"/></a>"
      ]
    },
    {
      "cell_type": "markdown",
      "metadata": {
        "id": "uflW4UHIcF-k"
      },
      "source": [
        "## 博碩 MP22004 Ch5"
      ]
    },
    {
      "cell_type": "code",
      "metadata": {
        "id": "6BEv-oRQb3pS"
      },
      "source": [
        "import tensorflow as tf"
      ],
      "execution_count": 1,
      "outputs": []
    },
    {
      "cell_type": "markdown",
      "metadata": {
        "id": "1ZgwRPc5cS67"
      },
      "source": [
        "### 宣告輸入、權重和預測輸出"
      ]
    },
    {
      "cell_type": "code",
      "metadata": {
        "id": "3kq9KTJLcQIU"
      },
      "source": [
        "x=0.4\n",
        "w1, w2=tf.Variable(1.0),tf.Variable(1.0)\n",
        "y=1"
      ],
      "execution_count": 3,
      "outputs": []
    },
    {
      "cell_type": "markdown",
      "metadata": {
        "id": "cer3pWHYcxln"
      },
      "source": [
        "### 正向傳遞會被記錄到 \"tape\"中"
      ]
    },
    {
      "cell_type": "code",
      "metadata": {
        "id": "7PY2z9FSctqt"
      },
      "source": [
        "with tf.GradientTape() as tape:\n",
        "  # 正向傳遞的計算\n",
        "  h1 = x * w1\n",
        "  h2 = tf.sigmoid(h1)\n",
        "  h3 = h2 * w2\n",
        "  y_hat = tf.sigmoid(h3)\n",
        "  loss = (y - y_hat)**2"
      ],
      "execution_count": 4,
      "outputs": []
    },
    {
      "cell_type": "markdown",
      "metadata": {
        "id": "M2N0iTdldX__"
      },
      "source": [
        "### 反向傳遞\"tape\"計算權重w1梯度"
      ]
    },
    {
      "cell_type": "code",
      "metadata": {
        "colab": {
          "base_uri": "https://localhost:8080/"
        },
        "id": "te3xbxhCdhBg",
        "outputId": "7eab5456-7fe1-4a33-a49b-75eeaa7ccb51"
      },
      "source": [
        "gradients = tape.gradient(loss, w1)\n",
        "print(gradients)"
      ],
      "execution_count": 5,
      "outputs": [
        {
          "output_type": "stream",
          "name": "stdout",
          "text": [
            "tf.Tensor(-0.01560118, shape=(), dtype=float32)\n"
          ]
        }
      ]
    },
    {
      "cell_type": "markdown",
      "metadata": {
        "id": "igvtD_EJeSgO"
      },
      "source": [
        "## 改善梯度消失, 權重初始化"
      ]
    },
    {
      "cell_type": "code",
      "metadata": {
        "id": "gNdDQlfGdpNJ"
      },
      "source": [
        "import numpy as np\n",
        "import tensorflow as tf\n",
        "import matplotlib.pyplot as plt\n",
        "from tensorflow import keras\n",
        "from tensorflow.keras import layers\n",
        "from tensorflow.keras import initializers"
      ],
      "execution_count": 6,
      "outputs": []
    },
    {
      "cell_type": "markdown",
      "metadata": {
        "id": "QKWCIX2Xee2Y"
      },
      "source": [
        "### 標準差為1的常態分佈和 Sigmoid 激活函數的網路模型"
      ]
    },
    {
      "cell_type": "code",
      "metadata": {
        "id": "61EUq9YyetB9"
      },
      "source": [
        "inputs = keras.Input(shape=(100,))\n",
        "x1 = layers.Dense(100, 'sigmoid', False, initializers.RandomNormal(0, 1))(inputs)\n",
        "x2 = layers.Dense(100, 'sigmoid', False, initializers.RandomNormal(0, 1))(x1)\n",
        "x3 = layers.Dense(100, 'sigmoid', False, initializers.RandomNormal(0, 1))(x2)\n",
        "x4 = layers.Dense(100, 'sigmoid', False, initializers.RandomNormal(0, 1))(x3)\n",
        "x5 = layers.Dense(100, 'sigmoid', False, initializers.RandomNormal(0, 1))(x4)\n",
        "model_1 = keras.Model(inputs, [x1, x2, x3, x4, x5])"
      ],
      "execution_count": 7,
      "outputs": []
    },
    {
      "cell_type": "markdown",
      "metadata": {
        "id": "Z9yPE10Me2xh"
      },
      "source": [
        "### 顯示每層網路的輸出分布"
      ]
    },
    {
      "cell_type": "code",
      "metadata": {
        "colab": {
          "base_uri": "https://localhost:8080/",
          "height": 281
        },
        "id": "N79Ik-T9e0OW",
        "outputId": "2f1adfa2-d94e-42e7-cbdf-6ccde9af73ae"
      },
      "source": [
        "x = np.random.randn(100, 100)\n",
        "outputs = model_1.predict(x)\n",
        "for i, layer_output in enumerate(outputs):\n",
        "    plt.subplot(1, 5, i+1)  # 選擇顯示在表中的哪個格子裡\n",
        "    plt.title(str(i+1) + \"-layer\")  # 設定值方圖的標題\n",
        "    if i != 0: plt.yticks([], [])  # 只顯示第一列值方圖的y軸\n",
        "    plt.hist(layer_output.flatten(), 30, range=[0,1])  # 畫出值方圖\n",
        "plt.show()"
      ],
      "execution_count": 8,
      "outputs": [
        {
          "output_type": "display_data",
          "data": {
            "image/png": "[encoded data removed]",
            "text/plain": [
              "<Figure size 432x288 with 5 Axes>"
            ]
          },
          "metadata": {
            "needs_background": "light"
          }
        }
      ]
    },
    {
      "cell_type": "markdown",
      "metadata": {
        "id": "2cRuBEkMfH6b"
      },
      "source": [
        "### 標準差為0.05的常態分佈和 Sigmoid 激活函數的網路模型"
      ]
    },
    {
      "cell_type": "code",
      "metadata": {
        "id": "rXZOwJTIfBYl"
      },
      "source": [
        "inputs = keras.Input(shape=(100,))\n",
        "x1 = layers.Dense(100, 'sigmoid', False, initializers.RandomNormal(0, 0.01))(inputs)\n",
        "x2 = layers.Dense(100, 'sigmoid', False, initializers.RandomNormal(0, 0.01))(x1)\n",
        "x3 = layers.Dense(100, 'sigmoid', False, initializers.RandomNormal(0, 0.01))(x2)\n",
        "x4 = layers.Dense(100, 'sigmoid', False, initializers.RandomNormal(0, 0.01))(x3)\n",
        "x5 = layers.Dense(100, 'sigmoid', False, initializers.RandomNormal(0, 0.01))(x4)\n",
        "model_2 = keras.Model(inputs, [x1, x2, x3, x4, x5])"
      ],
      "execution_count": 9,
      "outputs": []
    },
    {
      "cell_type": "markdown",
      "metadata": {
        "id": "97S7hE9Xfu-D"
      },
      "source": [
        "### 顯示每層網路的輸出分布"
      ]
    },
    {
      "cell_type": "code",
      "metadata": {
        "colab": {
          "base_uri": "https://localhost:8080/",
          "height": 281
        },
        "id": "qyNM_2Sbfvo0",
        "outputId": "f069bb7e-aae7-4e48-fea3-1d07ead5810a"
      },
      "source": [
        "x = np.random.randn(100, 100)\n",
        "outputs = model_2.predict(x)\n",
        "for i, layer_output in enumerate(outputs):\n",
        "    plt.subplot(1, 5, i+1)  # 選擇顯示在表中的哪個格子裡\n",
        "    plt.title(str(i+1) + \"-layer\")  # 設定值方圖的標題\n",
        "    if i != 0: plt.yticks([], [])  # 只顯示第一列值方圖的y軸\n",
        "    plt.hist(layer_output.flatten(), 30, range=[0,1])  # 畫出值方圖\n",
        "plt.show()"
      ],
      "execution_count": 10,
      "outputs": [
        {
          "output_type": "display_data",
          "data": {
            "image/png": "[encoded data removed]",
            "text/plain": [
              "<Figure size 432x288 with 5 Axes>"
            ]
          },
          "metadata": {
            "needs_background": "light"
          }
        }
      ]
    },
    {
      "cell_type": "code",
      "metadata": {
        "id": "lPLA3CRvf1AU"
      },
      "source": [
        ""
      ],
      "execution_count": null,
      "outputs": []
    }
  ]
}