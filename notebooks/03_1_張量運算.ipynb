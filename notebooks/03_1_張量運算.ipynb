{
  "nbformat": 4,
  "nbformat_minor": 0,
  "metadata": {
    "colab": {
      "name": "03_1_張量運算.ipynb",
      "provenance": [],
      "collapsed_sections": [],
      "include_colab_link": true
    },
    "kernelspec": {
      "display_name": "Python 3",
      "language": "python",
      "name": "python3"
    },
    "language_info": {
      "codemirror_mode": {
        "name": "ipython",
        "version": 3
      },
      "file_extension": ".py",
      "mimetype": "text/x-python",
      "name": "python",
      "nbconvert_exporter": "python",
      "pygments_lexer": "ipython3",
      "version": "3.8.3"
    }
  },
  "cells": [
    {
      "cell_type": "markdown",
      "metadata": {
        "id": "view-in-github",
        "colab_type": "text"
      },
      "source": [
        "<a href=\"https://colab.research.google.com/github/jumbokh/csu1101-ML-Class/blob/main/notebooks/03_1_%E5%BC%B5%E9%87%8F%E9%81%8B%E7%AE%97.ipynb\" target=\"_parent\"><img src=\"https://colab.research.google.com/assets/colab-badge.svg\" alt=\"Open In Colab\"/></a>"
      ]
    },
    {
      "cell_type": "code",
      "metadata": {
        "colab": {
          "base_uri": "https://localhost:8080/",
          "height": 34
        },
        "id": "Cqe7bDRVnJuK",
        "scrolled": true,
        "outputId": "e1fbb20f-01cf-4126-93c6-8598f15a65ac"
      },
      "source": [
        "# 載入套件\n",
        "import tensorflow as tf\n",
        "\n",
        "# 顯示版本\n",
        "print(tf.__version__)"
      ],
      "execution_count": null,
      "outputs": [
        {
          "name": "stdout",
          "output_type": "stream",
          "text": [
            "2.4.1\n"
          ]
        }
      ]
    },
    {
      "cell_type": "markdown",
      "metadata": {
        "id": "G4PgTI3suEGL"
      },
      "source": [
        "## 檢查 GPU 是否存在"
      ]
    },
    {
      "cell_type": "code",
      "metadata": {
        "id": "s44jBQR0uEGM",
        "outputId": "fb590329-bb8e-4d78-b434-7c472a8b1bde"
      },
      "source": [
        "# check cuda available\n",
        "tf.config.list_physical_devices('GPU')"
      ],
      "execution_count": null,
      "outputs": [
        {
          "data": {
            "text/plain": [
              "[PhysicalDevice(name='/physical_device:GPU:0', device_type='GPU')]"
            ]
          },
          "execution_count": 2,
          "metadata": {},
          "output_type": "execute_result"
        }
      ]
    },
    {
      "cell_type": "markdown",
      "metadata": {
        "id": "GqJIGzqDuEGN"
      },
      "source": [
        "## 宣告 tensor 常數(constant)，參數可以是常數、list、numpy array"
      ]
    },
    {
      "cell_type": "code",
      "metadata": {
        "id": "x4swMa9XnMn_"
      },
      "source": [
        "# 宣告常數(constant)，參數可以是常數、list、numpy array\n",
        "x = tf.constant([[1, 2]])"
      ],
      "execution_count": null,
      "outputs": []
    },
    {
      "cell_type": "markdown",
      "metadata": {
        "id": "YViFJmmJuEGO"
      },
      "source": [
        "## 以四則運算符號計算"
      ]
    },
    {
      "cell_type": "code",
      "metadata": {
        "id": "au1sZXMOuEGO",
        "outputId": "4a0cbffd-3530-4d7a-cea5-5beec53cbd27"
      },
      "source": [
        "print(x+10)\n",
        "print(x-10)\n",
        "print(x*2)\n",
        "print(x/2)"
      ],
      "execution_count": null,
      "outputs": [
        {
          "name": "stdout",
          "output_type": "stream",
          "text": [
            "tf.Tensor([[11 12]], shape=(1, 2), dtype=int32)\n",
            "tf.Tensor([[-9 -8]], shape=(1, 2), dtype=int32)\n",
            "tf.Tensor([[2 4]], shape=(1, 2), dtype=int32)\n",
            "tf.Tensor([[0.5 1. ]], shape=(1, 2), dtype=float64)\n"
          ]
        }
      ]
    },
    {
      "cell_type": "code",
      "metadata": {
        "id": "4pLwJNO0uEGO",
        "outputId": "f0f43890-16f5-43aa-d4fb-3e59f701cab4"
      },
      "source": [
        "# 轉換為 NumPy Array\n",
        "(x+10).numpy()"
      ],
      "execution_count": null,
      "outputs": [
        {
          "data": {
            "text/plain": [
              "array([[11, 12]])"
            ]
          },
          "execution_count": 5,
          "metadata": {},
          "output_type": "execute_result"
        }
      ]
    },
    {
      "cell_type": "code",
      "metadata": {
        "colab": {
          "base_uri": "https://localhost:8080/",
          "height": 34
        },
        "id": "_41ETIDunkMe",
        "outputId": "bb74f2ed-2b5d-47ac-ea4a-2a9578d9af05"
      },
      "source": [
        "type(x.numpy())"
      ],
      "execution_count": null,
      "outputs": [
        {
          "data": {
            "text/plain": [
              "numpy.ndarray"
            ]
          },
          "execution_count": 6,
          "metadata": {},
          "output_type": "execute_result"
        }
      ]
    },
    {
      "cell_type": "markdown",
      "metadata": {
        "id": "3GDBs24huEGP"
      },
      "source": [
        "## 使用 TensorFlow 函數"
      ]
    },
    {
      "cell_type": "code",
      "metadata": {
        "id": "izde9lNDuEGP",
        "outputId": "8cced810-28e9-48e6-f754-ff1e037bd872"
      },
      "source": [
        "# 轉為負數\n",
        "print(tf.negative(x))\n",
        "\n",
        "# 常數、List、Numpy array 均可運算\n",
        "print(tf.add(1, 2))\n",
        "print(tf.add([1, 2], [3, 4]))\n",
        "\n",
        "print(tf.square(5))\n",
        "print(tf.reduce_sum([1, 2, 3]))\n",
        "\n",
        "# 混用四則運算符號及TensorFlow 函數\n",
        "print(tf.square(2) + tf.square(3))"
      ],
      "execution_count": null,
      "outputs": [
        {
          "name": "stdout",
          "output_type": "stream",
          "text": [
            "tf.Tensor([[-1 -2]], shape=(1, 2), dtype=int32)\n",
            "tf.Tensor(3, shape=(), dtype=int32)\n",
            "tf.Tensor([4 6], shape=(2,), dtype=int32)\n",
            "tf.Tensor(25, shape=(), dtype=int32)\n",
            "tf.Tensor(6, shape=(), dtype=int32)\n",
            "tf.Tensor(13, shape=(), dtype=int32)\n"
          ]
        }
      ]
    },
    {
      "cell_type": "markdown",
      "metadata": {
        "id": "7DjxkzR1uEGQ"
      },
      "source": [
        "## TensorFlow 會自動決定在 cpu or gpu 運算"
      ]
    },
    {
      "cell_type": "code",
      "metadata": {
        "scrolled": true,
        "id": "DUY_aMJkuEGQ",
        "outputId": "df9d8755-837d-40c7-c934-63aab240ba58"
      },
      "source": [
        "x1 = tf.constant([[1, 2, 3]], dtype=float)\n",
        "print(\"x1 是否在 GPU #0 上:  \", x1.device.endswith('GPU:0'))\n",
        "\n",
        "# 設定 x 為均勻分配亂數 3x3\n",
        "x2 = tf.random.uniform([3, 3])\n",
        "print(\"x2 是否在 GPU #0 上:  \", x2.device.endswith('GPU:0'))\n",
        "\n",
        "x3=x1+x2\n",
        "print(\"x3 是否在 GPU #0 上:  \", x3.device.endswith('GPU:0'))"
      ],
      "execution_count": null,
      "outputs": [
        {
          "name": "stdout",
          "output_type": "stream",
          "text": [
            "x1 是否在 GPU #0 上:   False\n",
            "x2 是否在 GPU #0 上:   True\n",
            "x3 是否在 GPU #0 上:   True\n"
          ]
        }
      ]
    },
    {
      "cell_type": "markdown",
      "metadata": {
        "id": "5rnsaVdvuEGQ"
      },
      "source": [
        "## 強制指定在cpu或gpu運算"
      ]
    },
    {
      "cell_type": "code",
      "metadata": {
        "id": "SzCuXPM5uEGR",
        "outputId": "f3b77036-06df-4c81-a280-35035ead16a3"
      },
      "source": [
        "import time\n",
        "\n",
        "# 計算 10 次的時間\n",
        "def time_matmul(x):\n",
        "    start = time.time()\n",
        "    for loop in range(10):\n",
        "        tf.matmul(x, x)\n",
        "\n",
        "    result = time.time()-start\n",
        "    print(\"{:0.2f}ms\".format(1000*result))\n",
        "\n",
        "# 強制指定在cpu運算\n",
        "print(\"On CPU:\", end='')\n",
        "with tf.device(\"CPU:0\"):\n",
        "    x = tf.random.uniform([1000, 1000])\n",
        "    assert x.device.endswith(\"CPU:0\")\n",
        "    time_matmul(x)\n",
        "\n",
        "# 強制指定在gpu運算\n",
        "if tf.config.list_physical_devices(\"GPU\"):\n",
        "    print(\"On GPU:\", end='')\n",
        "    with tf.device(\"GPU:0\"): \n",
        "        x = tf.random.uniform([1000, 1000])\n",
        "        assert x.device.endswith(\"GPU:0\")\n",
        "        time_matmul(x)"
      ],
      "execution_count": null,
      "outputs": [
        {
          "name": "stdout",
          "output_type": "stream",
          "text": [
            "On CPU:58.00ms\n",
            "On GPU:1.00ms\n"
          ]
        }
      ]
    },
    {
      "cell_type": "markdown",
      "metadata": {
        "id": "n3p1syNRuEGR"
      },
      "source": [
        "## 稀疏矩陣(sparse matrix)"
      ]
    },
    {
      "cell_type": "code",
      "metadata": {
        "id": "r4PqzKU5uEGR",
        "outputId": "61886abc-a40e-479c-d539-5f912f38ea7d"
      },
      "source": [
        "from IPython.display import Image\n",
        "Image('./images/sparse matrix.png')"
      ],
      "execution_count": null,
      "outputs": [
        {
          "data": {
            "image/png": "[encoded data removed]",
            "text/plain": [
              "<IPython.core.display.Image object>"
            ]
          },
          "execution_count": 12,
          "metadata": {},
          "output_type": "execute_result"
        }
      ]
    },
    {
      "cell_type": "code",
      "metadata": {
        "id": "X9BzZwFVuEGS",
        "outputId": "00470d29-6e08-447f-a398-8298edc48a58"
      },
      "source": [
        "# 稀疏矩陣只需設定有值的位置及數值\n",
        "sparse_tensor = tf.sparse.SparseTensor(indices=[[0, 0], [1, 2]],\n",
        "                                       values=[1, 2],\n",
        "                                       dense_shape=[3, 4])\n",
        "print(sparse_tensor)"
      ],
      "execution_count": null,
      "outputs": [
        {
          "name": "stdout",
          "output_type": "stream",
          "text": [
            "SparseTensor(indices=tf.Tensor(\n",
            "[[0 0]\n",
            " [1 2]], shape=(2, 2), dtype=int64), values=tf.Tensor([1 2], shape=(2,), dtype=int32), dense_shape=tf.Tensor([3 4], shape=(2,), dtype=int64))\n"
          ]
        }
      ]
    },
    {
      "cell_type": "code",
      "metadata": {
        "id": "oP02kjWYuEGS",
        "outputId": "71c1d771-2044-47cf-e1b0-07182452589a"
      },
      "source": [
        "# 轉為正常的矩陣格式\n",
        "x = tf.sparse.to_dense(sparse_tensor)\n",
        "print(type(x))\n",
        "\n",
        "# 2.31 以前版本會出錯\n",
        "x.numpy()"
      ],
      "execution_count": null,
      "outputs": [
        {
          "name": "stdout",
          "output_type": "stream",
          "text": [
            "<class 'tensorflow.python.framework.ops.EagerTensor'>\n"
          ]
        },
        {
          "data": {
            "text/plain": [
              "array([[1, 0, 0, 0],\n",
              "       [0, 0, 2, 0],\n",
              "       [0, 0, 0, 0]])"
            ]
          },
          "execution_count": 15,
          "metadata": {},
          "output_type": "execute_result"
        }
      ]
    },
    {
      "cell_type": "markdown",
      "metadata": {
        "id": "2NG-2KKXuEGT"
      },
      "source": [
        "## 回歸 TF 1.x 版 Graph Execution Mode"
      ]
    },
    {
      "cell_type": "code",
      "metadata": {
        "colab": {
          "base_uri": "https://localhost:8080/",
          "height": 87
        },
        "id": "VfcB-umQn79k",
        "outputId": "60c49364-d0b3-4fe9-93b0-964d920dda8c"
      },
      "source": [
        "if tf.__version__[0] != '1':           # 是否為 TensorFlow 1.x版\n",
        "    import tensorflow.compat.v1 as tf  # 改變載入套件的命名空間(Namespace)\n",
        "    tf.disable_v2_behavior()           # 使 2.x 版功能失效(Disable)"
      ],
      "execution_count": null,
      "outputs": [
        {
          "name": "stdout",
          "output_type": "stream",
          "text": [
            "WARNING:tensorflow:From C:\\anaconda3\\lib\\site-packages\\tensorflow\\python\\compat\\v2_compat.py:96: disable_resource_variables (from tensorflow.python.ops.variable_scope) is deprecated and will be removed in a future version.\n",
            "Instructions for updating:\n",
            "non-resource variables are not supported in the long term\n"
          ]
        }
      ]
    },
    {
      "cell_type": "code",
      "metadata": {
        "colab": {
          "base_uri": "https://localhost:8080/",
          "height": 34
        },
        "id": "eTGjPHFnnW83",
        "outputId": "2cc47013-73fa-4bd1-9b30-715d640596ee"
      },
      "source": [
        "# 測試1.x版程式\n",
        "x = tf.constant([[1, 2]])\n",
        "neg_x = tf.negative(x)\n",
        "\n",
        "with tf.Session() as sess:   # 使用 session\n",
        "    result = sess.run(neg_x)\n",
        "    print(result)"
      ],
      "execution_count": null,
      "outputs": [
        {
          "name": "stdout",
          "output_type": "stream",
          "text": [
            "[[-1 -2]]\n"
          ]
        }
      ]
    },
    {
      "cell_type": "markdown",
      "metadata": {
        "id": "byMIOI32uEGU"
      },
      "source": [
        "## GPU記憶體管理"
      ]
    },
    {
      "cell_type": "code",
      "metadata": {
        "id": "vmbeqza0nbf_",
        "outputId": "92ccf293-e157-4f5f-bc27-1832b31f582b"
      },
      "source": [
        "# 限制 TensorFlow 只能使用 GPU 2GB 記憶體\n",
        "gpus = tf.config.experimental.list_physical_devices('GPU')\n",
        "if gpus:    \n",
        "    try:\n",
        "        # 限制 第一顆 GPU 只能使用 2GB 記憶體\n",
        "        tf.config.experimental.set_virtual_device_configuration(gpus[0],\n",
        "            [tf.config.experimental.VirtualDeviceConfiguration(memory_limit=1024*2)])\n",
        "        \n",
        "        # 顯示 GPU 個數\n",
        "        logical_gpus = tf.config.experimental.list_logical_devices('GPU')\n",
        "        print(len(gpus), \"Physical GPUs,\", len(logical_gpus), \"Logical GPUs\")\n",
        "    except RuntimeError as e:\n",
        "        # 顯示錯誤訊息\n",
        "        print(e)"
      ],
      "execution_count": null,
      "outputs": [
        {
          "name": "stdout",
          "output_type": "stream",
          "text": [
            "1 Physical GPUs, 1 Logical GPUs\n"
          ]
        }
      ]
    },
    {
      "cell_type": "markdown",
      "metadata": {
        "id": "qWZeZZRNuEGV"
      },
      "source": [
        "## Disable GPU"
      ]
    },
    {
      "cell_type": "code",
      "metadata": {
        "id": "tm1MhQ19uEGV"
      },
      "source": [
        "import os\n",
        "\n",
        "os.environ[\"CUDA_VISIBLE_DEVICES\"] = \"-1\""
      ],
      "execution_count": null,
      "outputs": []
    },
    {
      "cell_type": "code",
      "metadata": {
        "id": "BkvMGleiuEGV"
      },
      "source": [
        ""
      ],
      "execution_count": null,
      "outputs": []
    }
  ]
}