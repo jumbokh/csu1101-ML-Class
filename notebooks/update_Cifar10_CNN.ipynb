{
  "nbformat": 4,
  "nbformat_minor": 0,
  "metadata": {
    "colab": {
      "name": "update-Cifar10-CNN.ipynb",
      "provenance": [],
      "authorship_tag": "ABX9TyPNLrAGLQ3tQifXiNoWEr37",
      "include_colab_link": true
    },
    "kernelspec": {
      "name": "python3",
      "display_name": "Python 3"
    },
    "language_info": {
      "name": "python"
    },
    "accelerator": "GPU"
  },
  "cells": [
    {
      "cell_type": "markdown",
      "metadata": {
        "id": "view-in-github",
        "colab_type": "text"
      },
      "source": [
        "<a href=\"https://colab.research.google.com/github/jumbokh/csu1101-ML-Class/blob/main/notebooks/update_Cifar10_CNN.ipynb\" target=\"_parent\"><img src=\"https://colab.research.google.com/assets/colab-badge.svg\" alt=\"Open In Colab\"/></a>"
      ]
    },
    {
      "cell_type": "markdown",
      "metadata": {
        "id": "M0ZLLOo-3eRR"
      },
      "source": [
        "## [Keras] 使用 CNN 建立 Cifar-10 的分類器 (實戰篇)\n",
        "#### https://clay-atlas.com/blog/2019/10/03/python-chinese-tutorial-keras-cnn-cifar10/"
      ]
    },
    {
      "cell_type": "code",
      "metadata": {
        "colab": {
          "base_uri": "https://localhost:8080/"
        },
        "id": "IGP0ntpY1vys",
        "outputId": "79c5c17c-a21e-4e62-d3a8-b35b140637b3"
      },
      "source": [
        "!pip install keras.utils\n",
        "!pip install graphViz\n",
        "!pip install pydot==1.2.4"
      ],
      "execution_count": 13,
      "outputs": [
        {
          "output_type": "stream",
          "name": "stdout",
          "text": [
            "Requirement already satisfied: keras.utils in /usr/local/lib/python3.7/dist-packages (1.0.13)\n",
            "Requirement already satisfied: Keras>=2.1.5 in /usr/local/lib/python3.7/dist-packages (from keras.utils) (2.6.0)\n",
            "Requirement already satisfied: graphViz in /usr/local/lib/python3.7/dist-packages (0.10.1)\n",
            "Requirement already satisfied: pydot==1.2.4 in /usr/local/lib/python3.7/dist-packages (1.2.4)\n",
            "Requirement already satisfied: pyparsing>=2.1.4 in /usr/local/lib/python3.7/dist-packages (from pydot==1.2.4) (2.4.7)\n"
          ]
        }
      ]
    },
    {
      "cell_type": "code",
      "metadata": {
        "colab": {
          "base_uri": "https://localhost:8080/"
        },
        "id": "WKzlXtW3cKiF",
        "outputId": "1ac3928a-4ca1-4536-9871-788969c68062"
      },
      "source": [
        "from google.colab import drive\n",
        "drive.mount('/content/gdrive')\n",
        "!ln -fs /content/gdrive/My\\ Drive /app\n",
        "!tar -xzvf /app/cuDNN/cudnn-10.0-linux-x64-v7.5.0.56.tgz -C /usr/local/\n",
        "!chmod a+r /usr/local/cuda/include/cudnn.h\n",
        "\n",
        "# 檢查是否安裝成功\n",
        "!cat /usr/local/cuda/include/cudnn.h | grep CUDNN_MAJOR -A 2"
      ],
      "execution_count": 14,
      "outputs": [
        {
          "output_type": "stream",
          "name": "stdout",
          "text": [
            "Drive already mounted at /content/gdrive; to attempt to forcibly remount, call drive.mount(\"/content/gdrive\", force_remount=True).\n",
            "ln: failed to create symbolic link '/app/My Drive': Input/output error\n",
            "cuda/include/cudnn.h\n",
            "cuda/NVIDIA_SLA_cuDNN_Support.txt\n",
            "cuda/lib64/libcudnn.so\n",
            "cuda/lib64/libcudnn.so.7\n",
            "cuda/lib64/libcudnn.so.7.5.0\n",
            "cuda/lib64/libcudnn_static.a\n",
            "#define CUDNN_MAJOR 7\n",
            "#define CUDNN_MINOR 5\n",
            "#define CUDNN_PATCHLEVEL 0\n",
            "--\n",
            "#define CUDNN_VERSION (CUDNN_MAJOR * 1000 + CUDNN_MINOR * 100 + CUDNN_PATCHLEVEL)\n",
            "\n",
            "#include \"driver_types.h\"\n"
          ]
        }
      ]
    },
    {
      "cell_type": "code",
      "metadata": {
        "id": "N_BFKXaO2ATO"
      },
      "source": [
        "import os\n",
        "import numpy as np\n",
        "import matplotlib.pyplot as plt\n",
        "import pandas as pd\n",
        "\n",
        "from keras.models import Sequential, load_model\n",
        "from keras.datasets import cifar10\n",
        "from keras.utils import np_utils\n",
        "from keras.utils.vis_utils import plot_model\n",
        "from keras.layers import Dense, Dropout, Flatten, Conv2D, MaxPool2D"
      ],
      "execution_count": 15,
      "outputs": []
    },
    {
      "cell_type": "code",
      "metadata": {
        "id": "6ilu9-Qa12Wu"
      },
      "source": [
        "(X_train, Y_train), (X_test, Y_test) = cifar10.load_data()\n",
        "x_train = X_train.astype('float32')/255\n",
        "x_test = X_test.astype('float32')/255\n",
        "y_train = np_utils.to_categorical(Y_train)\n",
        "y_test = np_utils.to_categorical(Y_test)"
      ],
      "execution_count": 16,
      "outputs": []
    },
    {
      "cell_type": "code",
      "metadata": {
        "id": "Sv7BRac13ADm"
      },
      "source": [
        "model = Sequential()\n",
        "model.add(Conv2D(filters=64, kernel_size=3, input_shape=(32, 32, 3), activation='relu', padding='same'))\n",
        "model.add(Conv2D(filters=64, kernel_size=3, input_shape=(32, 32, 3), activation='relu', padding='same'))\n",
        "model.add(MaxPool2D(pool_size=2))\n",
        "\n",
        "model.add(Conv2D(filters=128, kernel_size=3, activation='relu', padding='same'))\n",
        "model.add(Conv2D(filters=128, kernel_size=3, activation='relu', padding='same'))\n",
        "model.add(MaxPool2D(pool_size=2))\n",
        "\n",
        "model.add(Conv2D(filters=128, kernel_size=3, activation='relu', padding='same'))\n",
        "model.add(Conv2D(filters=128, kernel_size=3, activation='relu', padding='same'))\n",
        "model.add(MaxPool2D(pool_size=2))\n",
        "\n",
        "model.add(Flatten())\n",
        "model.add(Dense(512, activation='relu'))\n",
        "model.add(Dropout(rate=0.25))\n",
        "model.add(Dense(10, activation='softmax'))"
      ],
      "execution_count": 17,
      "outputs": []
    },
    {
      "cell_type": "code",
      "metadata": {
        "colab": {
          "base_uri": "https://localhost:8080/"
        },
        "id": "OyukWLhc3Dj7",
        "outputId": "bcf5f151-012c-4d84-d730-bc7dfcd3b042"
      },
      "source": [
        "print(model.summary())"
      ],
      "execution_count": 18,
      "outputs": [
        {
          "output_type": "stream",
          "name": "stdout",
          "text": [
            "Model: \"sequential_1\"\n",
            "_________________________________________________________________\n",
            "Layer (type)                 Output Shape              Param #   \n",
            "=================================================================\n",
            "conv2d_6 (Conv2D)            (None, 32, 32, 64)        1792      \n",
            "_________________________________________________________________\n",
            "conv2d_7 (Conv2D)            (None, 32, 32, 64)        36928     \n",
            "_________________________________________________________________\n",
            "max_pooling2d_3 (MaxPooling2 (None, 16, 16, 64)        0         \n",
            "_________________________________________________________________\n",
            "conv2d_8 (Conv2D)            (None, 16, 16, 128)       73856     \n",
            "_________________________________________________________________\n",
            "conv2d_9 (Conv2D)            (None, 16, 16, 128)       147584    \n",
            "_________________________________________________________________\n",
            "max_pooling2d_4 (MaxPooling2 (None, 8, 8, 128)         0         \n",
            "_________________________________________________________________\n",
            "conv2d_10 (Conv2D)           (None, 8, 8, 128)         147584    \n",
            "_________________________________________________________________\n",
            "conv2d_11 (Conv2D)           (None, 8, 8, 128)         147584    \n",
            "_________________________________________________________________\n",
            "max_pooling2d_5 (MaxPooling2 (None, 4, 4, 128)         0         \n",
            "_________________________________________________________________\n",
            "flatten_1 (Flatten)          (None, 2048)              0         \n",
            "_________________________________________________________________\n",
            "dense_2 (Dense)              (None, 512)               1049088   \n",
            "_________________________________________________________________\n",
            "dropout_1 (Dropout)          (None, 512)               0         \n",
            "_________________________________________________________________\n",
            "dense_3 (Dense)              (None, 10)                5130      \n",
            "=================================================================\n",
            "Total params: 1,609,546\n",
            "Trainable params: 1,609,546\n",
            "Non-trainable params: 0\n",
            "_________________________________________________________________\n",
            "None\n"
          ]
        }
      ]
    },
    {
      "cell_type": "code",
      "metadata": {
        "colab": {
          "base_uri": "https://localhost:8080/"
        },
        "id": "RB9gRbRX3F_K",
        "outputId": "b2e2fdb7-c3d7-4178-ab6d-3efeed1d4358"
      },
      "source": [
        "model.compile(loss='categorical_crossentropy', optimizer='adam', metrics=['accuracy'])\n",
        "history = model.fit(x_train, y_train, epochs=10, batch_size=64, verbose=1,validation_split=0.2)"
      ],
      "execution_count": 19,
      "outputs": [
        {
          "output_type": "stream",
          "name": "stdout",
          "text": [
            "Epoch 1/10\n",
            "625/625 [==============================] - 20s 31ms/step - loss: 1.5434 - accuracy: 0.4335 - val_loss: 1.1386 - val_accuracy: 0.5894\n",
            "Epoch 2/10\n",
            "625/625 [==============================] - 19s 30ms/step - loss: 1.0169 - accuracy: 0.6394 - val_loss: 0.8877 - val_accuracy: 0.6844\n",
            "Epoch 3/10\n",
            "625/625 [==============================] - 19s 30ms/step - loss: 0.7973 - accuracy: 0.7199 - val_loss: 0.7870 - val_accuracy: 0.7276\n",
            "Epoch 4/10\n",
            "625/625 [==============================] - 19s 30ms/step - loss: 0.6469 - accuracy: 0.7714 - val_loss: 0.7021 - val_accuracy: 0.7611\n",
            "Epoch 5/10\n",
            "625/625 [==============================] - 19s 30ms/step - loss: 0.5247 - accuracy: 0.8177 - val_loss: 0.6838 - val_accuracy: 0.7784\n",
            "Epoch 6/10\n",
            "625/625 [==============================] - 19s 31ms/step - loss: 0.4263 - accuracy: 0.8498 - val_loss: 0.7136 - val_accuracy: 0.7770\n",
            "Epoch 7/10\n",
            "625/625 [==============================] - 19s 31ms/step - loss: 0.3450 - accuracy: 0.8784 - val_loss: 0.7313 - val_accuracy: 0.7743\n",
            "Epoch 8/10\n",
            "625/625 [==============================] - 19s 31ms/step - loss: 0.2747 - accuracy: 0.9026 - val_loss: 0.7571 - val_accuracy: 0.7768\n",
            "Epoch 9/10\n",
            "625/625 [==============================] - 19s 31ms/step - loss: 0.2260 - accuracy: 0.9207 - val_loss: 0.8800 - val_accuracy: 0.7869\n",
            "Epoch 10/10\n",
            "625/625 [==============================] - 19s 31ms/step - loss: 0.1905 - accuracy: 0.9324 - val_loss: 0.9047 - val_accuracy: 0.7783\n"
          ]
        }
      ]
    },
    {
      "cell_type": "code",
      "metadata": {
        "colab": {
          "base_uri": "https://localhost:8080/"
        },
        "id": "yHtekSBq3JeK",
        "outputId": "46da4038-476a-4ed3-f612-bee1452de4a1"
      },
      "source": [
        "loss, accuracy = model.evaluate(x_test, y_test)\n",
        "print('Test:')\n",
        "print('Loss:', loss)\n",
        "print('Accuracy:', accuracy)"
      ],
      "execution_count": 20,
      "outputs": [
        {
          "output_type": "stream",
          "name": "stdout",
          "text": [
            "313/313 [==============================] - 2s 7ms/step - loss: 0.9294 - accuracy: 0.7770\n",
            "Test:\n",
            "Loss: 0.9293813705444336\n",
            "Accuracy: 0.7770000100135803\n"
          ]
        }
      ]
    },
    {
      "cell_type": "code",
      "metadata": {
        "colab": {
          "base_uri": "https://localhost:8080/"
        },
        "id": "R6Mx_bA0d9EG",
        "outputId": "e81189e6-c300-43f5-ef81-0247181651ff"
      },
      "source": [
        "history_dict = history.history\n",
        "history_dict.keys()"
      ],
      "execution_count": 21,
      "outputs": [
        {
          "output_type": "execute_result",
          "data": {
            "text/plain": [
              "dict_keys(['loss', 'accuracy', 'val_loss', 'val_accuracy'])"
            ]
          },
          "metadata": {},
          "execution_count": 21
        }
      ]
    },
    {
      "cell_type": "code",
      "metadata": {
        "colab": {
          "base_uri": "https://localhost:8080/",
          "height": 295
        },
        "id": "wOyqC1H3eBbb",
        "outputId": "82414386-bb5b-473c-90a8-2afa4efbc064"
      },
      "source": [
        "import matplotlib.pyplot as plt\n",
        "\n",
        "acc = history.history['accuracy']\n",
        "loss = history.history['loss']\n",
        "valacc = history.history['val_accuracy']\n",
        "valloss = history.history['val_loss']\n",
        "\n",
        "epochs = range(1, len(acc) + 1)\n",
        "\n",
        "# \"bo\" is for \"blue dot\"\n",
        "plt.plot(epochs, loss, 'b', label='Training loss')\n",
        "plt.plot(epochs, valloss, 'r', label='Validation loss')\n",
        "# b is for \"solid blue line\"\n",
        "plt.title('Training and validation loss')\n",
        "plt.xlabel('Epochs')\n",
        "plt.ylabel('Loss')\n",
        "plt.legend()\n",
        "\n",
        "plt.show()"
      ],
      "execution_count": 25,
      "outputs": [
        {
          "output_type": "display_data",
          "data": {
            "image/png": "[encoded data removed]",
            "text/plain": [
              "<Figure size 432x288 with 1 Axes>"
            ]
          },
          "metadata": {
            "needs_background": "light"
          }
        }
      ]
    },
    {
      "cell_type": "code",
      "metadata": {
        "colab": {
          "base_uri": "https://localhost:8080/"
        },
        "id": "v6Kn8UK5gkIS",
        "outputId": "040c68ac-f1a4-4153-d4ab-ac35353b59bf"
      },
      "source": [
        "print(accuracy)"
      ],
      "execution_count": 23,
      "outputs": [
        {
          "output_type": "stream",
          "name": "stdout",
          "text": [
            "0.7770000100135803\n"
          ]
        }
      ]
    },
    {
      "cell_type": "code",
      "metadata": {
        "colab": {
          "base_uri": "https://localhost:8080/",
          "height": 295
        },
        "id": "h_HrQ2P3f0h9",
        "outputId": "6ff315b6-da1e-4405-fb3a-994df0a71217"
      },
      "source": [
        "plt.clf()   # clear figure\n",
        "acc_values = history_dict['accuracy']\n",
        "valacc_values = history_dict['val_accuracy']\n",
        "\n",
        "plt.plot(epochs, acc_values, 'b', label='Training accuracy')\n",
        "plt.plot(epochs, valacc_values, 'r', label='Validation accuracy')\n",
        "plt.title('Training accuracy')\n",
        "plt.xlabel('Epochs')\n",
        "plt.ylabel('Accuracy')\n",
        "plt.legend()\n",
        "\n",
        "plt.show()"
      ],
      "execution_count": 26,
      "outputs": [
        {
          "output_type": "display_data",
          "data": {
            "image/png": "[encoded data removed]",
            "text/plain": [
              "<Figure size 432x288 with 1 Axes>"
            ]
          },
          "metadata": {
            "needs_background": "light"
          }
        }
      ]
    },
    {
      "cell_type": "code",
      "metadata": {
        "id": "h4wMLHBybiRY"
      },
      "source": [
        ""
      ],
      "execution_count": null,
      "outputs": []
    }
  ]
}