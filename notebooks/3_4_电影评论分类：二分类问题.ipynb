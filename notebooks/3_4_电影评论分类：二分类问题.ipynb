{
  "nbformat": 4,
  "nbformat_minor": 0,
  "metadata": {
    "kernelspec": {
      "display_name": "Python 3",
      "language": "python",
      "name": "python3"
    },
    "language_info": {
      "codemirror_mode": {
        "name": "ipython",
        "version": 3
      },
      "file_extension": ".py",
      "mimetype": "text/x-python",
      "name": "python",
      "nbconvert_exporter": "python",
      "pygments_lexer": "ipython3",
      "version": "3.6.3"
    },
    "colab": {
      "name": "3.4 电影评论分类：二分类问题.ipynb",
      "provenance": [],
      "include_colab_link": true
    }
  },
  "cells": [
    {
      "cell_type": "markdown",
      "metadata": {
        "id": "view-in-github",
        "colab_type": "text"
      },
      "source": [
        "<a href=\"https://colab.research.google.com/github/jumbokh/csu1101-ML-Class/blob/main/notebooks/3_4_%E7%94%B5%E5%BD%B1%E8%AF%84%E8%AE%BA%E5%88%86%E7%B1%BB%EF%BC%9A%E4%BA%8C%E5%88%86%E7%B1%BB%E9%97%AE%E9%A2%98.ipynb\" target=\"_parent\"><img src=\"https://colab.research.google.com/assets/colab-badge.svg\" alt=\"Open In Colab\"/></a>"
      ]
    },
    {
      "cell_type": "markdown",
      "metadata": {
        "id": "MmKwRbZYGp-u"
      },
      "source": [
        "## 1 准备数据\n",
        "IMDB数据集，内置于Keras库中，它包含来自互联网电影数据库（IMDB）的 50 000 条严重两极分\n",
        "化的评论。数据集被分为用于训练的 25 000 条评论与用于测试的 25 000 条评论，训练集和测试\n",
        "集都包含 50% 的正面评论和 50% 的负面评论"
      ]
    },
    {
      "cell_type": "code",
      "metadata": {
        "id": "kZFCCrtMZVK0"
      },
      "source": [
        ""
      ],
      "execution_count": null,
      "outputs": []
    },
    {
      "cell_type": "code",
      "metadata": {
        "colab": {
          "base_uri": "https://localhost:8080/"
        },
        "id": "IrtZ9jjDGp-1",
        "outputId": "8abd89ad-7b69-488a-cecd-7c38a5b2866a"
      },
      "source": [
        "# 1 准备数据\n",
        "\n",
        "# 防止报错 OMP: Error #15: Initializing libiomp5.dylib, but found libiomp5.dylib already initialized.\n",
        "import os\n",
        "os.environ[\"KMP_DUPLICATE_LIB_OK\"]=\"TRUE\"\n",
        "\n",
        "# 加载数据\n",
        "from keras.datasets import imdb\n",
        "#限定为前10000个最长见的单词\n",
        "(train_data, train_labels), (test_data, test_labels) = imdb.load_data(num_words=10000)\n",
        "\n",
        "# 将整数序列编码为二进制矩阵 ,one-hot编码\n",
        "import numpy as np\n",
        "def vectorize_sequences(sequences, dimension=10000):\n",
        "    results = np.zeros((len(sequences), dimension))\n",
        "    for i, sequence in enumerate(sequences):\n",
        "        results[i, sequence] = 1.\n",
        "    return results\n",
        "x_train = vectorize_sequences(train_data)\n",
        "x_test = vectorize_sequences(test_data) \n",
        "\n",
        "y_train = np.asarray(train_labels).astype('float32')\n",
        "y_test = np.asarray(test_labels).astype('float32')\n",
        "\n",
        "# 留出10000个样本作为验证集\n",
        "x_val = x_train[:10000]\n",
        "partial_x_train = x_train[10000:]\n",
        "y_val = y_train[:10000]\n",
        "partial_y_train = y_train[10000:]"
      ],
      "execution_count": 1,
      "outputs": [
        {
          "output_type": "stream",
          "name": "stdout",
          "text": [
            "Downloading data from https://storage.googleapis.com/tensorflow/tf-keras-datasets/imdb.npz\n",
            "17465344/17464789 [==============================] - 0s 0us/step\n",
            "17473536/17464789 [==============================] - 0s 0us/step\n"
          ]
        }
      ]
    },
    {
      "cell_type": "code",
      "metadata": {
        "colab": {
          "base_uri": "https://localhost:8080/"
        },
        "id": "PbGI4WTIGp-6",
        "outputId": "a3e3090f-ee9e-46ae-e9e7-6cf43c3e6ab0"
      },
      "source": [
        "# 由于num_words = 10000， 所以最大值为9999\n",
        "max([max(sequence) for sequence in train_data])"
      ],
      "execution_count": 2,
      "outputs": [
        {
          "output_type": "execute_result",
          "data": {
            "text/plain": [
              "9999"
            ]
          },
          "metadata": {},
          "execution_count": 2
        }
      ]
    },
    {
      "cell_type": "code",
      "metadata": {
        "collapsed": true,
        "colab": {
          "base_uri": "https://localhost:8080/"
        },
        "id": "_gmWofsiGp-8",
        "outputId": "1455dfad-87f4-46ea-f442-8c558435e1e5"
      },
      "source": [
        "# 将某条评论迅速解码为英文单词\n",
        "\n",
        "word_index = imdb.get_word_index()\n",
        "reverse_word_index = dict(\n",
        "    [(value,key) for (key,value)  in word_index.items()])\n",
        "decoded_review = ' '.join(\n",
        " [reverse_word_index.get(i - 3, '?') for i in train_data[0]]) "
      ],
      "execution_count": 3,
      "outputs": [
        {
          "output_type": "stream",
          "name": "stdout",
          "text": [
            "Downloading data from https://storage.googleapis.com/tensorflow/tf-keras-datasets/imdb_word_index.json\n",
            "1646592/1641221 [==============================] - 0s 0us/step\n",
            "1654784/1641221 [==============================] - 0s 0us/step\n"
          ]
        }
      ]
    },
    {
      "cell_type": "code",
      "metadata": {
        "colab": {
          "base_uri": "https://localhost:8080/",
          "height": 103
        },
        "id": "BBXwlbBKGp-9",
        "outputId": "59ab3207-54f2-4c3b-f8f5-1817966017e2"
      },
      "source": [
        "decoded_review"
      ],
      "execution_count": 4,
      "outputs": [
        {
          "output_type": "execute_result",
          "data": {
            "application/vnd.google.colaboratory.intrinsic+json": {
              "type": "string"
            },
            "text/plain": [
              "\"? this film was just brilliant casting location scenery story direction everyone's really suited the part they played and you could just imagine being there robert ? is an amazing actor and now the same being director ? father came from the same scottish island as myself so i loved the fact there was a real connection with this film the witty remarks throughout the film were great it was just brilliant so much that i bought the film as soon as it was released for ? and would recommend it to everyone to watch and the fly fishing was amazing really cried at the end it was so sad and you know what they say if you cry at a film it must have been good and this definitely was also ? to the two little boy's that played the ? of norman and paul they were just brilliant children are often left out of the ? list i think because the stars that play them all grown up are such a big profile for the whole film but these children are amazing and should be praised for what they have done don't you think the whole story was so lovely because it was true and was someone's life after all that was shared with us all\""
            ]
          },
          "metadata": {},
          "execution_count": 4
        }
      ]
    },
    {
      "cell_type": "markdown",
      "metadata": {
        "id": "E_rBZKO_Gp--"
      },
      "source": [
        "## 2 构建网络"
      ]
    },
    {
      "cell_type": "code",
      "metadata": {
        "id": "JamHPO5eGp-_"
      },
      "source": [
        "# 2 定义模型\n",
        "from keras import models\n",
        "from keras import layers\n",
        "model = models.Sequential()\n",
        "model.add(layers.Dense(16, activation='relu', input_shape=(10000,)))\n",
        "model.add(layers.Dense(16, activation='relu'))\n",
        "model.add(layers.Dense(1, activation='sigmoid'))"
      ],
      "execution_count": 5,
      "outputs": []
    },
    {
      "cell_type": "markdown",
      "metadata": {
        "id": "Hk_LmDAmGp_A"
      },
      "source": [
        "## 3 配置优化器、损失函数和指标"
      ]
    },
    {
      "cell_type": "code",
      "metadata": {
        "collapsed": true,
        "id": "o0Tls_CxGp_B"
      },
      "source": [
        "# 3 配置优化器、损失函数和指标\n",
        "model.compile(optimizer='rmsprop',\n",
        "              loss='binary_crossentropy',\n",
        "              metrics=['accuracy'])\n",
        "\n",
        "# # 也可以自定义优化器、损失和指标\n",
        "# from keras import optimizers\n",
        "# from keras import losses\n",
        "# from keras import metrics\n",
        "# model.compile(optimizer=optimizers.RMSprop(lr=0.001),\n",
        "#               loss=losses.binary_crossentropy,\n",
        "#               metrics=[metrics.binary_accuracy])"
      ],
      "execution_count": 6,
      "outputs": []
    },
    {
      "cell_type": "markdown",
      "metadata": {
        "id": "snAnRfrFGp_D"
      },
      "source": [
        "## 4 训练模型"
      ]
    },
    {
      "cell_type": "code",
      "metadata": {
        "scrolled": true,
        "colab": {
          "base_uri": "https://localhost:8080/"
        },
        "id": "gvIamxAFGp_D",
        "outputId": "8738dafb-0f18-4fe3-e53a-ee256e5dda39"
      },
      "source": [
        "#训练模型\n",
        "history = model.fit(partial_x_train,\n",
        "              partial_y_train,\n",
        "              epochs=20,\n",
        "              batch_size=512,\n",
        "              validation_data=(x_val, y_val))"
      ],
      "execution_count": 7,
      "outputs": [
        {
          "output_type": "stream",
          "name": "stdout",
          "text": [
            "Epoch 1/20\n",
            "30/30 [==============================] - 3s 48ms/step - loss: 0.5158 - accuracy: 0.7832 - val_loss: 0.3927 - val_accuracy: 0.8579\n",
            "Epoch 2/20\n",
            "30/30 [==============================] - 1s 35ms/step - loss: 0.3061 - accuracy: 0.9008 - val_loss: 0.3054 - val_accuracy: 0.8872\n",
            "Epoch 3/20\n",
            "30/30 [==============================] - 1s 35ms/step - loss: 0.2227 - accuracy: 0.9288 - val_loss: 0.2787 - val_accuracy: 0.8913\n",
            "Epoch 4/20\n",
            "30/30 [==============================] - 1s 34ms/step - loss: 0.1749 - accuracy: 0.9447 - val_loss: 0.2998 - val_accuracy: 0.8793\n",
            "Epoch 5/20\n",
            "30/30 [==============================] - 1s 34ms/step - loss: 0.1395 - accuracy: 0.9552 - val_loss: 0.2817 - val_accuracy: 0.8897\n",
            "Epoch 6/20\n",
            "30/30 [==============================] - 1s 34ms/step - loss: 0.1139 - accuracy: 0.9654 - val_loss: 0.3333 - val_accuracy: 0.8744\n",
            "Epoch 7/20\n",
            "30/30 [==============================] - 1s 34ms/step - loss: 0.0946 - accuracy: 0.9727 - val_loss: 0.3368 - val_accuracy: 0.8785\n",
            "Epoch 8/20\n",
            "30/30 [==============================] - 1s 34ms/step - loss: 0.0771 - accuracy: 0.9779 - val_loss: 0.3558 - val_accuracy: 0.8755\n",
            "Epoch 9/20\n",
            "30/30 [==============================] - 1s 35ms/step - loss: 0.0609 - accuracy: 0.9848 - val_loss: 0.3610 - val_accuracy: 0.8775\n",
            "Epoch 10/20\n",
            "30/30 [==============================] - 1s 34ms/step - loss: 0.0492 - accuracy: 0.9872 - val_loss: 0.4052 - val_accuracy: 0.8720\n",
            "Epoch 11/20\n",
            "30/30 [==============================] - 1s 34ms/step - loss: 0.0411 - accuracy: 0.9889 - val_loss: 0.4166 - val_accuracy: 0.8761\n",
            "Epoch 12/20\n",
            "30/30 [==============================] - 1s 34ms/step - loss: 0.0303 - accuracy: 0.9939 - val_loss: 0.4759 - val_accuracy: 0.8696\n",
            "Epoch 13/20\n",
            "30/30 [==============================] - 1s 35ms/step - loss: 0.0228 - accuracy: 0.9965 - val_loss: 0.4778 - val_accuracy: 0.8737\n",
            "Epoch 14/20\n",
            "30/30 [==============================] - 1s 35ms/step - loss: 0.0175 - accuracy: 0.9979 - val_loss: 0.5162 - val_accuracy: 0.8729\n",
            "Epoch 15/20\n",
            "30/30 [==============================] - 1s 35ms/step - loss: 0.0142 - accuracy: 0.9988 - val_loss: 0.5559 - val_accuracy: 0.8706\n",
            "Epoch 16/20\n",
            "30/30 [==============================] - 1s 34ms/step - loss: 0.0116 - accuracy: 0.9985 - val_loss: 0.5905 - val_accuracy: 0.8703\n",
            "Epoch 17/20\n",
            "30/30 [==============================] - 1s 35ms/step - loss: 0.0078 - accuracy: 0.9991 - val_loss: 0.6342 - val_accuracy: 0.8679\n",
            "Epoch 18/20\n",
            "30/30 [==============================] - 1s 34ms/step - loss: 0.0045 - accuracy: 0.9999 - val_loss: 0.6574 - val_accuracy: 0.8680\n",
            "Epoch 19/20\n",
            "30/30 [==============================] - 1s 34ms/step - loss: 0.0069 - accuracy: 0.9987 - val_loss: 0.6952 - val_accuracy: 0.8669\n",
            "Epoch 20/20\n",
            "30/30 [==============================] - 1s 34ms/step - loss: 0.0024 - accuracy: 0.9999 - val_loss: 0.7324 - val_accuracy: 0.8660\n"
          ]
        }
      ]
    },
    {
      "cell_type": "markdown",
      "metadata": {
        "id": "AMpcHfSpGp_E"
      },
      "source": [
        "## 5 模型评估"
      ]
    },
    {
      "cell_type": "code",
      "metadata": {
        "collapsed": true,
        "id": "CvEiN9VjGp_E"
      },
      "source": [
        "history_dict = history.history"
      ],
      "execution_count": 8,
      "outputs": []
    },
    {
      "cell_type": "code",
      "metadata": {
        "colab": {
          "base_uri": "https://localhost:8080/"
        },
        "id": "mSTEsEHwGp_F",
        "outputId": "310263f2-ae3a-477d-ea74-d6f4fab2f4b7"
      },
      "source": [
        "history_dict.keys()"
      ],
      "execution_count": 9,
      "outputs": [
        {
          "output_type": "execute_result",
          "data": {
            "text/plain": [
              "dict_keys(['loss', 'accuracy', 'val_loss', 'val_accuracy'])"
            ]
          },
          "metadata": {},
          "execution_count": 9
        }
      ]
    },
    {
      "cell_type": "code",
      "metadata": {
        "colab": {
          "base_uri": "https://localhost:8080/",
          "height": 573
        },
        "id": "N_H7BJi1Gp_G",
        "outputId": "5ce431b8-c1f3-473e-ca81-af79cd1b5fcc"
      },
      "source": [
        "#绘制训练损失和验证损失\n",
        "import matplotlib.pyplot as plt\n",
        "%matplotlib inline \n",
        "history_dict = history.history\n",
        "loss_values = history_dict['loss']\n",
        "val_loss_values = history_dict['val_loss']\n",
        "epochs = range(1, len(loss_values) + 1)\n",
        "plt.plot(epochs, loss_values, 'bo', label='Training loss')\n",
        "plt.plot(epochs, val_loss_values, 'b', label='Validation loss')\n",
        "plt.title('Training and validation loss')\n",
        "plt.xlabel('Epochs')\n",
        "plt.ylabel('Loss')\n",
        "plt.legend()\n",
        "plt.show()\n",
        "\n",
        "# 绘制训练精度和验证精度\n",
        "plt.clf()\n",
        "acc = history_dict['accuracy']\n",
        "val_acc = history_dict['val_accuracy']\n",
        "plt.plot(epochs, acc, 'bo', label='Training acc')\n",
        "plt.plot(epochs, val_acc, 'b', label='Validation acc')\n",
        "plt.title('Training and validation accuracy')\n",
        "plt.xlabel('Epochs')\n",
        "plt.ylabel('Accuracy')\n",
        "plt.legend()\n",
        "plt.show()"
      ],
      "execution_count": 10,
      "outputs": [
        {
          "output_type": "display_data",
          "data": {
            "image/png": "[encoded data removed]",
            "text/plain": [
              "<Figure size 432x288 with 1 Axes>"
            ]
          },
          "metadata": {
            "needs_background": "light"
          }
        },
        {
          "output_type": "display_data",
          "data": {
            "image/png": "[encoded data removed]",
            "text/plain": [
              "<Figure size 432x288 with 1 Axes>"
            ]
          },
          "metadata": {
            "needs_background": "light"
          }
        }
      ]
    },
    {
      "cell_type": "markdown",
      "metadata": {
        "id": "cB9A-btSGp_H"
      },
      "source": [
        " 从上图可以看出，从第4轮开始达到最佳值，之后出现过拟合现象。\n",
        " \n",
        " 为了防止过拟合，可以在 3 轮之后停止训练\n",
        " 从头开始训练一个新的网络，训练 4 轮，然后在测试数据上评估模型"
      ]
    },
    {
      "cell_type": "code",
      "metadata": {
        "colab": {
          "base_uri": "https://localhost:8080/"
        },
        "id": "uRMDQRRWGp_H",
        "outputId": "1f0d3c42-05e7-4d13-952b-3d26248255ee"
      },
      "source": [
        "# 从新调整模型\n",
        "\n",
        "model = models.Sequential()\n",
        "model.add(layers.Dense(16, activation='relu', input_shape=(10000,)))\n",
        "model.add(layers.Dense(16, activation='relu'))\n",
        "model.add(layers.Dense(1, activation='sigmoid'))\n",
        "\n",
        "model.compile(optimizer='rmsprop',\n",
        "              loss='binary_crossentropy',\n",
        "              metrics=['accuracy'])\n",
        "\n",
        "model.fit(x_train, y_train, epochs=4, batch_size=512)\n",
        "\n",
        "results = model.evaluate(x_test, y_test)"
      ],
      "execution_count": 11,
      "outputs": [
        {
          "output_type": "stream",
          "name": "stdout",
          "text": [
            "Epoch 1/4\n",
            "49/49 [==============================] - 2s 27ms/step - loss: 0.4518 - accuracy: 0.8217\n",
            "Epoch 2/4\n",
            "49/49 [==============================] - 1s 27ms/step - loss: 0.2593 - accuracy: 0.9106\n",
            "Epoch 3/4\n",
            "49/49 [==============================] - 1s 27ms/step - loss: 0.2009 - accuracy: 0.9284\n",
            "Epoch 4/4\n",
            "49/49 [==============================] - 1s 27ms/step - loss: 0.1692 - accuracy: 0.9384\n",
            "782/782 [==============================] - 1s 2ms/step - loss: 0.2924 - accuracy: 0.8838\n"
          ]
        }
      ]
    },
    {
      "cell_type": "code",
      "metadata": {
        "colab": {
          "base_uri": "https://localhost:8080/"
        },
        "id": "WyXI1_aeGp_I",
        "outputId": "fa9d5246-cd92-40e8-c2b4-d023f5c0402e"
      },
      "source": [
        "results"
      ],
      "execution_count": 12,
      "outputs": [
        {
          "output_type": "execute_result",
          "data": {
            "text/plain": [
              "[0.2923957109451294, 0.8837599754333496]"
            ]
          },
          "metadata": {},
          "execution_count": 12
        }
      ]
    },
    {
      "cell_type": "markdown",
      "metadata": {
        "id": "Y2i_ZwYyGp_J"
      },
      "source": [
        "## 6 预测结果"
      ]
    },
    {
      "cell_type": "code",
      "metadata": {
        "colab": {
          "base_uri": "https://localhost:8080/"
        },
        "id": "FGYYwFnZGp_J",
        "outputId": "a3ff4c0a-bf75-432e-99bf-1dbb371f3922"
      },
      "source": [
        " model.predict(x_test)"
      ],
      "execution_count": 13,
      "outputs": [
        {
          "output_type": "execute_result",
          "data": {
            "text/plain": [
              "array([[0.23880333],\n",
              "       [0.99991596],\n",
              "       [0.8781054 ],\n",
              "       ...,\n",
              "       [0.1369305 ],\n",
              "       [0.08517829],\n",
              "       [0.59705204]], dtype=float32)"
            ]
          },
          "metadata": {},
          "execution_count": 13
        }
      ]
    },
    {
      "cell_type": "markdown",
      "metadata": {
        "id": "iNn3B59OGp_K"
      },
      "source": [
        "## 7　进一步的实验\n",
        "通过以下实验，你可以确信前面选择的网络架构是非常合理的，虽然仍有改进的空间。\n",
        "- 前面使用了两个隐藏层。你可以尝试使用一个或三个隐藏层，然后观察对验证精度和测试精度的影响。\n",
        "- 尝试使用更多或更少的隐藏单元，比如 32 个、64 个等。\n",
        "- 尝试使用 mse 损失函数代替 binary_crossentropy。\n",
        "- 尝试使用 tanh 激活（这种激活在神经网络早期非常流行）代替 relu。"
      ]
    },
    {
      "cell_type": "code",
      "metadata": {
        "collapsed": true,
        "id": "Yzp1r8chGp_K"
      },
      "source": [
        ""
      ],
      "execution_count": null,
      "outputs": []
    }
  ]
}