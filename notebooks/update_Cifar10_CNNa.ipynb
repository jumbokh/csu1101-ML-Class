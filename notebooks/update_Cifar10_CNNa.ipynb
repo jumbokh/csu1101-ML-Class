{
  "nbformat": 4,
  "nbformat_minor": 0,
  "metadata": {
    "colab": {
      "name": "update-Cifar10-CNN.ipynb",
      "provenance": [],
      "authorship_tag": "ABX9TyOnMLy1wWj3KtS5S/hkCXDT",
      "include_colab_link": true
    },
    "kernelspec": {
      "name": "python3",
      "display_name": "Python 3"
    },
    "language_info": {
      "name": "python"
    },
    "accelerator": "GPU"
  },
  "cells": [
    {
      "cell_type": "markdown",
      "metadata": {
        "id": "view-in-github",
        "colab_type": "text"
      },
      "source": [
        "<a href=\"https://colab.research.google.com/github/jumbokh/csu1101-ML-Class/blob/main/notebooks/update_Cifar10_CNNa.ipynb\" target=\"_parent\"><img src=\"https://colab.research.google.com/assets/colab-badge.svg\" alt=\"Open In Colab\"/></a>"
      ]
    },
    {
      "cell_type": "markdown",
      "metadata": {
        "id": "M0ZLLOo-3eRR"
      },
      "source": [
        "## [Keras] 使用 CNN 建立 Cifar-10 的分類器 (實戰篇)\n",
        "#### https://clay-atlas.com/blog/2019/10/03/python-chinese-tutorial-keras-cnn-cifar10/"
      ]
    },
    {
      "cell_type": "code",
      "metadata": {
        "colab": {
          "base_uri": "https://localhost:8080/"
        },
        "id": "IGP0ntpY1vys",
        "outputId": "473a48ff-18e0-4a18-f336-ed5e426fbd66"
      },
      "source": [
        "!pip install keras.utils\n",
        "!pip install graphViz\n",
        "!pip install pydot==1.2.4"
      ],
      "execution_count": 27,
      "outputs": [
        {
          "output_type": "stream",
          "name": "stdout",
          "text": [
            "Requirement already satisfied: keras.utils in /usr/local/lib/python3.7/dist-packages (1.0.13)\n",
            "Requirement already satisfied: Keras>=2.1.5 in /usr/local/lib/python3.7/dist-packages (from keras.utils) (2.6.0)\n",
            "Requirement already satisfied: graphViz in /usr/local/lib/python3.7/dist-packages (0.10.1)\n",
            "Requirement already satisfied: pydot==1.2.4 in /usr/local/lib/python3.7/dist-packages (1.2.4)\n",
            "Requirement already satisfied: pyparsing>=2.1.4 in /usr/local/lib/python3.7/dist-packages (from pydot==1.2.4) (2.4.7)\n"
          ]
        }
      ]
    },
    {
      "cell_type": "code",
      "metadata": {
        "colab": {
          "base_uri": "https://localhost:8080/"
        },
        "id": "WKzlXtW3cKiF",
        "outputId": "c89eaa3c-e152-4a2f-9402-fe2779c12e2b"
      },
      "source": [
        "from google.colab import drive\n",
        "drive.mount('/content/gdrive')\n",
        "!ln -fs /content/gdrive/My\\ Drive /app\n",
        "!tar -xzvf /app/cuDNN/cudnn-10.0-linux-x64-v7.5.0.56.tgz -C /usr/local/\n",
        "!chmod a+r /usr/local/cuda/include/cudnn.h\n",
        "\n",
        "# 檢查是否安裝成功\n",
        "!cat /usr/local/cuda/include/cudnn.h | grep CUDNN_MAJOR -A 2"
      ],
      "execution_count": 28,
      "outputs": [
        {
          "output_type": "stream",
          "name": "stdout",
          "text": [
            "Drive already mounted at /content/gdrive; to attempt to forcibly remount, call drive.mount(\"/content/gdrive\", force_remount=True).\n",
            "ln: failed to create symbolic link '/app/My Drive': Input/output error\n",
            "cuda/include/cudnn.h\n",
            "cuda/NVIDIA_SLA_cuDNN_Support.txt\n",
            "cuda/lib64/libcudnn.so\n",
            "cuda/lib64/libcudnn.so.7\n",
            "cuda/lib64/libcudnn.so.7.5.0\n",
            "cuda/lib64/libcudnn_static.a\n",
            "#define CUDNN_MAJOR 7\n",
            "#define CUDNN_MINOR 5\n",
            "#define CUDNN_PATCHLEVEL 0\n",
            "--\n",
            "#define CUDNN_VERSION (CUDNN_MAJOR * 1000 + CUDNN_MINOR * 100 + CUDNN_PATCHLEVEL)\n",
            "\n",
            "#include \"driver_types.h\"\n"
          ]
        }
      ]
    },
    {
      "cell_type": "code",
      "metadata": {
        "id": "N_BFKXaO2ATO"
      },
      "source": [
        "import os\n",
        "import numpy as np\n",
        "import matplotlib.pyplot as plt\n",
        "import pandas as pd\n",
        "\n",
        "from keras.models import Sequential, load_model\n",
        "from keras.datasets import cifar10\n",
        "from keras.utils import np_utils\n",
        "from keras.utils.vis_utils import plot_model\n",
        "from keras.layers import Dense, Dropout, Flatten, Conv2D, MaxPool2D"
      ],
      "execution_count": 29,
      "outputs": []
    },
    {
      "cell_type": "code",
      "metadata": {
        "id": "6ilu9-Qa12Wu"
      },
      "source": [
        "(X_train, Y_train), (X_test, Y_test) = cifar10.load_data()\n",
        "x_train = X_train.astype('float32')/255\n",
        "x_test = X_test.astype('float32')/255\n",
        "y_train = np_utils.to_categorical(Y_train)\n",
        "y_test = np_utils.to_categorical(Y_test)"
      ],
      "execution_count": 30,
      "outputs": []
    },
    {
      "cell_type": "code",
      "metadata": {
        "id": "Sv7BRac13ADm"
      },
      "source": [
        "model = Sequential()\n",
        "model.add(Conv2D(filters=64, kernel_size=3, input_shape=(32, 32, 3), activation='relu', padding='same'))\n",
        "model.add(Conv2D(filters=64, kernel_size=3, input_shape=(32, 32, 3), activation='relu', padding='same'))\n",
        "model.add(MaxPool2D(pool_size=2))\n",
        "model.add(Dropout(rate=0.2))\n",
        "model.add(Conv2D(filters=128, kernel_size=3, activation='relu', padding='same'))\n",
        "model.add(Conv2D(filters=128, kernel_size=3, activation='relu', padding='same'))\n",
        "model.add(MaxPool2D(pool_size=2))\n",
        "model.add(Dropout(rate=0.2))\n",
        "model.add(Conv2D(filters=128, kernel_size=3, activation='relu', padding='same'))\n",
        "model.add(Conv2D(filters=128, kernel_size=3, activation='relu', padding='same'))\n",
        "model.add(MaxPool2D(pool_size=2))\n",
        "model.add(Dropout(rate=0.2))\n",
        "model.add(Flatten())\n",
        "model.add(Dense(512, activation='relu'))\n",
        "model.add(Dropout(rate=0.2))\n",
        "model.add(Dense(10, activation='softmax'))"
      ],
      "execution_count": 31,
      "outputs": []
    },
    {
      "cell_type": "code",
      "metadata": {
        "colab": {
          "base_uri": "https://localhost:8080/"
        },
        "id": "OyukWLhc3Dj7",
        "outputId": "9b247a80-49fd-45ba-db4c-0c4b3a17f244"
      },
      "source": [
        "print(model.summary())"
      ],
      "execution_count": 32,
      "outputs": [
        {
          "output_type": "stream",
          "name": "stdout",
          "text": [
            "Model: \"sequential_2\"\n",
            "_________________________________________________________________\n",
            "Layer (type)                 Output Shape              Param #   \n",
            "=================================================================\n",
            "conv2d_12 (Conv2D)           (None, 32, 32, 64)        1792      \n",
            "_________________________________________________________________\n",
            "conv2d_13 (Conv2D)           (None, 32, 32, 64)        36928     \n",
            "_________________________________________________________________\n",
            "max_pooling2d_6 (MaxPooling2 (None, 16, 16, 64)        0         \n",
            "_________________________________________________________________\n",
            "dropout_2 (Dropout)          (None, 16, 16, 64)        0         \n",
            "_________________________________________________________________\n",
            "conv2d_14 (Conv2D)           (None, 16, 16, 128)       73856     \n",
            "_________________________________________________________________\n",
            "conv2d_15 (Conv2D)           (None, 16, 16, 128)       147584    \n",
            "_________________________________________________________________\n",
            "max_pooling2d_7 (MaxPooling2 (None, 8, 8, 128)         0         \n",
            "_________________________________________________________________\n",
            "dropout_3 (Dropout)          (None, 8, 8, 128)         0         \n",
            "_________________________________________________________________\n",
            "conv2d_16 (Conv2D)           (None, 8, 8, 128)         147584    \n",
            "_________________________________________________________________\n",
            "conv2d_17 (Conv2D)           (None, 8, 8, 128)         147584    \n",
            "_________________________________________________________________\n",
            "max_pooling2d_8 (MaxPooling2 (None, 4, 4, 128)         0         \n",
            "_________________________________________________________________\n",
            "dropout_4 (Dropout)          (None, 4, 4, 128)         0         \n",
            "_________________________________________________________________\n",
            "flatten_2 (Flatten)          (None, 2048)              0         \n",
            "_________________________________________________________________\n",
            "dense_4 (Dense)              (None, 512)               1049088   \n",
            "_________________________________________________________________\n",
            "dropout_5 (Dropout)          (None, 512)               0         \n",
            "_________________________________________________________________\n",
            "dense_5 (Dense)              (None, 10)                5130      \n",
            "=================================================================\n",
            "Total params: 1,609,546\n",
            "Trainable params: 1,609,546\n",
            "Non-trainable params: 0\n",
            "_________________________________________________________________\n",
            "None\n"
          ]
        }
      ]
    },
    {
      "cell_type": "code",
      "metadata": {
        "colab": {
          "base_uri": "https://localhost:8080/"
        },
        "id": "RB9gRbRX3F_K",
        "outputId": "109185fa-7927-4d6f-ca0c-bb0e6fec7c1c"
      },
      "source": [
        "model.compile(loss='categorical_crossentropy', optimizer='adam', metrics=['accuracy'])\n",
        "history = model.fit(x_train, y_train, epochs=10, batch_size=64, verbose=1,validation_split=0.2)"
      ],
      "execution_count": 33,
      "outputs": [
        {
          "output_type": "stream",
          "name": "stdout",
          "text": [
            "Epoch 1/10\n",
            "625/625 [==============================] - 21s 32ms/step - loss: 1.6315 - accuracy: 0.3961 - val_loss: 1.2644 - val_accuracy: 0.5360\n",
            "Epoch 2/10\n",
            "625/625 [==============================] - 20s 31ms/step - loss: 1.1442 - accuracy: 0.5889 - val_loss: 0.9860 - val_accuracy: 0.6462\n",
            "Epoch 3/10\n",
            "625/625 [==============================] - 20s 31ms/step - loss: 0.9332 - accuracy: 0.6703 - val_loss: 0.8669 - val_accuracy: 0.6983\n",
            "Epoch 4/10\n",
            "625/625 [==============================] - 20s 31ms/step - loss: 0.7936 - accuracy: 0.7206 - val_loss: 0.7631 - val_accuracy: 0.7294\n",
            "Epoch 5/10\n",
            "625/625 [==============================] - 20s 31ms/step - loss: 0.7053 - accuracy: 0.7513 - val_loss: 0.6886 - val_accuracy: 0.7587\n",
            "Epoch 6/10\n",
            "625/625 [==============================] - 21s 33ms/step - loss: 0.6307 - accuracy: 0.7766 - val_loss: 0.6590 - val_accuracy: 0.7701\n",
            "Epoch 7/10\n",
            "625/625 [==============================] - 20s 31ms/step - loss: 0.5660 - accuracy: 0.8015 - val_loss: 0.6527 - val_accuracy: 0.7764\n",
            "Epoch 8/10\n",
            "625/625 [==============================] - 20s 32ms/step - loss: 0.5176 - accuracy: 0.8165 - val_loss: 0.6424 - val_accuracy: 0.7875\n",
            "Epoch 9/10\n",
            "625/625 [==============================] - 20s 32ms/step - loss: 0.4738 - accuracy: 0.8308 - val_loss: 0.6310 - val_accuracy: 0.7974\n",
            "Epoch 10/10\n",
            "625/625 [==============================] - 20s 31ms/step - loss: 0.4311 - accuracy: 0.8471 - val_loss: 0.6393 - val_accuracy: 0.7894\n"
          ]
        }
      ]
    },
    {
      "cell_type": "code",
      "metadata": {
        "colab": {
          "base_uri": "https://localhost:8080/"
        },
        "id": "yHtekSBq3JeK",
        "outputId": "e6a7b28a-6492-4ec6-b508-d7d642ed4154"
      },
      "source": [
        "loss, accuracy = model.evaluate(x_test, y_test)\n",
        "print('Test:')\n",
        "print('Loss:', loss)\n",
        "print('Accuracy:', accuracy)"
      ],
      "execution_count": 34,
      "outputs": [
        {
          "output_type": "stream",
          "name": "stdout",
          "text": [
            "313/313 [==============================] - 3s 9ms/step - loss: 0.6489 - accuracy: 0.7792\n",
            "Test:\n",
            "Loss: 0.6489009857177734\n",
            "Accuracy: 0.77920001745224\n"
          ]
        }
      ]
    },
    {
      "cell_type": "code",
      "metadata": {
        "colab": {
          "base_uri": "https://localhost:8080/"
        },
        "id": "R6Mx_bA0d9EG",
        "outputId": "7c603959-d220-4f57-c5a6-34d6a8d5e719"
      },
      "source": [
        "history_dict = history.history\n",
        "history_dict.keys()"
      ],
      "execution_count": 35,
      "outputs": [
        {
          "output_type": "execute_result",
          "data": {
            "text/plain": [
              "dict_keys(['loss', 'accuracy', 'val_loss', 'val_accuracy'])"
            ]
          },
          "metadata": {},
          "execution_count": 35
        }
      ]
    },
    {
      "cell_type": "code",
      "metadata": {
        "colab": {
          "base_uri": "https://localhost:8080/",
          "height": 295
        },
        "id": "wOyqC1H3eBbb",
        "outputId": "5cdee6a1-8203-44f5-bb60-83a2bcd747e7"
      },
      "source": [
        "import matplotlib.pyplot as plt\n",
        "\n",
        "acc = history.history['accuracy']\n",
        "loss = history.history['loss']\n",
        "valacc = history.history['val_accuracy']\n",
        "valloss = history.history['val_loss']\n",
        "\n",
        "epochs = range(1, len(acc) + 1)\n",
        "\n",
        "# \"bo\" is for \"blue dot\"\n",
        "plt.plot(epochs, loss, 'b', label='Training loss')\n",
        "plt.plot(epochs, valloss, 'r', label='Validation loss')\n",
        "# b is for \"solid blue line\"\n",
        "plt.title('Training and validation loss')\n",
        "plt.xlabel('Epochs')\n",
        "plt.ylabel('Loss')\n",
        "plt.legend()\n",
        "\n",
        "plt.show()"
      ],
      "execution_count": 36,
      "outputs": [
        {
          "output_type": "display_data",
          "data": {
            "image/png": "[encoded data removed]",
            "text/plain": [
              "<Figure size 432x288 with 1 Axes>"
            ]
          },
          "metadata": {
            "needs_background": "light"
          }
        }
      ]
    },
    {
      "cell_type": "code",
      "metadata": {
        "colab": {
          "base_uri": "https://localhost:8080/"
        },
        "id": "v6Kn8UK5gkIS",
        "outputId": "8d526364-1133-4e39-cfc6-c94aca4b7c66"
      },
      "source": [
        "print(accuracy)"
      ],
      "execution_count": 37,
      "outputs": [
        {
          "output_type": "stream",
          "name": "stdout",
          "text": [
            "0.77920001745224\n"
          ]
        }
      ]
    },
    {
      "cell_type": "code",
      "metadata": {
        "colab": {
          "base_uri": "https://localhost:8080/",
          "height": 295
        },
        "id": "h_HrQ2P3f0h9",
        "outputId": "773ea2c9-1815-4702-a3b7-87076d407239"
      },
      "source": [
        "plt.clf()   # clear figure\n",
        "acc_values = history_dict['accuracy']\n",
        "valacc_values = history_dict['val_accuracy']\n",
        "\n",
        "plt.plot(epochs, acc_values, 'b', label='Training accuracy')\n",
        "plt.plot(epochs, valacc_values, 'r', label='Validation accuracy')\n",
        "plt.title('Training accuracy')\n",
        "plt.xlabel('Epochs')\n",
        "plt.ylabel('Accuracy')\n",
        "plt.legend()\n",
        "\n",
        "plt.show()"
      ],
      "execution_count": 38,
      "outputs": [
        {
          "output_type": "display_data",
          "data": {
            "image/png": "[encoded data removed]",
            "text/plain": [
              "<Figure size 432x288 with 1 Axes>"
            ]
          },
          "metadata": {
            "needs_background": "light"
          }
        }
      ]
    },
    {
      "cell_type": "code",
      "metadata": {
        "id": "h4wMLHBybiRY"
      },
      "source": [
        ""
      ],
      "execution_count": 38,
      "outputs": []
    }
  ]
}