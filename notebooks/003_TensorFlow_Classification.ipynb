{
  "nbformat": 4,
  "nbformat_minor": 5,
  "metadata": {
    "kernelspec": {
      "display_name": "Python 3 (ipykernel)",
      "language": "python",
      "name": "python3"
    },
    "language_info": {
      "codemirror_mode": {
        "name": "ipython",
        "version": 3
      },
      "file_extension": ".py",
      "mimetype": "text/x-python",
      "name": "python",
      "nbconvert_exporter": "python",
      "pygments_lexer": "ipython3",
      "version": "3.8.12"
    },
    "colab": {
      "name": "003_TensorFlow_Classification.ipynb",
      "provenance": []
    }
  },
  "cells": [
    {
      "cell_type": "markdown",
      "metadata": {
        "id": "b47b18a0-f79d-4420-a39f-a454324156d9"
      },
      "source": [
        "# Dataset import and exploration\n",
        "- https://www.kaggle.com/shelvigarg/wine-quality-dataset"
      ],
      "id": "b47b18a0-f79d-4420-a39f-a454324156d9"
    },
    {
      "cell_type": "code",
      "metadata": {
        "id": "0fb79fae-c37c-4c12-bdfe-cc8ba051452f",
        "outputId": "840d5e12-ec8c-4348-9821-1124ce51e386"
      },
      "source": [
        "import numpy as np\n",
        "import pandas as pd \n",
        "\n",
        "df = pd.read_csv('data/winequalityN.csv')\n",
        "df.sample(5)"
      ],
      "id": "0fb79fae-c37c-4c12-bdfe-cc8ba051452f",
      "execution_count": null,
      "outputs": [
        {
          "data": {
            "text/html": [
              "<div>\n",
              "<style scoped>\n",
              "    .dataframe tbody tr th:only-of-type {\n",
              "        vertical-align: middle;\n",
              "    }\n",
              "\n",
              "    .dataframe tbody tr th {\n",
              "        vertical-align: top;\n",
              "    }\n",
              "\n",
              "    .dataframe thead th {\n",
              "        text-align: right;\n",
              "    }\n",
              "</style>\n",
              "<table border=\"1\" class=\"dataframe\">\n",
              "  <thead>\n",
              "    <tr style=\"text-align: right;\">\n",
              "      <th></th>\n",
              "      <th>type</th>\n",
              "      <th>fixed acidity</th>\n",
              "      <th>volatile acidity</th>\n",
              "      <th>citric acid</th>\n",
              "      <th>residual sugar</th>\n",
              "      <th>chlorides</th>\n",
              "      <th>free sulfur dioxide</th>\n",
              "      <th>total sulfur dioxide</th>\n",
              "      <th>density</th>\n",
              "      <th>pH</th>\n",
              "      <th>sulphates</th>\n",
              "      <th>alcohol</th>\n",
              "      <th>quality</th>\n",
              "    </tr>\n",
              "  </thead>\n",
              "  <tbody>\n",
              "    <tr>\n",
              "      <th>4216</th>\n",
              "      <td>white</td>\n",
              "      <td>7.0</td>\n",
              "      <td>0.44</td>\n",
              "      <td>0.24</td>\n",
              "      <td>12.1</td>\n",
              "      <td>0.056</td>\n",
              "      <td>68.0</td>\n",
              "      <td>210.0</td>\n",
              "      <td>0.99718</td>\n",
              "      <td>3.05</td>\n",
              "      <td>0.50</td>\n",
              "      <td>9.5</td>\n",
              "      <td>5</td>\n",
              "    </tr>\n",
              "    <tr>\n",
              "      <th>1464</th>\n",
              "      <td>white</td>\n",
              "      <td>8.0</td>\n",
              "      <td>0.44</td>\n",
              "      <td>0.49</td>\n",
              "      <td>9.1</td>\n",
              "      <td>0.031</td>\n",
              "      <td>46.0</td>\n",
              "      <td>151.0</td>\n",
              "      <td>0.99260</td>\n",
              "      <td>3.16</td>\n",
              "      <td>0.27</td>\n",
              "      <td>12.7</td>\n",
              "      <td>8</td>\n",
              "    </tr>\n",
              "    <tr>\n",
              "      <th>5048</th>\n",
              "      <td>red</td>\n",
              "      <td>7.3</td>\n",
              "      <td>0.33</td>\n",
              "      <td>0.47</td>\n",
              "      <td>2.1</td>\n",
              "      <td>0.077</td>\n",
              "      <td>5.0</td>\n",
              "      <td>11.0</td>\n",
              "      <td>0.99580</td>\n",
              "      <td>3.33</td>\n",
              "      <td>0.53</td>\n",
              "      <td>10.3</td>\n",
              "      <td>6</td>\n",
              "    </tr>\n",
              "    <tr>\n",
              "      <th>5383</th>\n",
              "      <td>red</td>\n",
              "      <td>10.2</td>\n",
              "      <td>0.67</td>\n",
              "      <td>0.39</td>\n",
              "      <td>1.9</td>\n",
              "      <td>0.054</td>\n",
              "      <td>6.0</td>\n",
              "      <td>17.0</td>\n",
              "      <td>0.99760</td>\n",
              "      <td>3.17</td>\n",
              "      <td>0.47</td>\n",
              "      <td>10.0</td>\n",
              "      <td>5</td>\n",
              "    </tr>\n",
              "    <tr>\n",
              "      <th>4596</th>\n",
              "      <td>white</td>\n",
              "      <td>6.7</td>\n",
              "      <td>0.53</td>\n",
              "      <td>0.29</td>\n",
              "      <td>4.3</td>\n",
              "      <td>0.069</td>\n",
              "      <td>20.0</td>\n",
              "      <td>114.0</td>\n",
              "      <td>0.99014</td>\n",
              "      <td>3.22</td>\n",
              "      <td>0.59</td>\n",
              "      <td>13.4</td>\n",
              "      <td>6</td>\n",
              "    </tr>\n",
              "  </tbody>\n",
              "</table>\n",
              "</div>"
            ],
            "text/plain": [
              "       type  fixed acidity  volatile acidity  citric acid  residual sugar  \\\n",
              "4216  white            7.0              0.44         0.24            12.1   \n",
              "1464  white            8.0              0.44         0.49             9.1   \n",
              "5048    red            7.3              0.33         0.47             2.1   \n",
              "5383    red           10.2              0.67         0.39             1.9   \n",
              "4596  white            6.7              0.53         0.29             4.3   \n",
              "\n",
              "      chlorides  free sulfur dioxide  total sulfur dioxide  density    pH  \\\n",
              "4216      0.056                 68.0                 210.0  0.99718  3.05   \n",
              "1464      0.031                 46.0                 151.0  0.99260  3.16   \n",
              "5048      0.077                  5.0                  11.0  0.99580  3.33   \n",
              "5383      0.054                  6.0                  17.0  0.99760  3.17   \n",
              "4596      0.069                 20.0                 114.0  0.99014  3.22   \n",
              "\n",
              "      sulphates  alcohol  quality  \n",
              "4216       0.50      9.5        5  \n",
              "1464       0.27     12.7        8  \n",
              "5048       0.53     10.3        6  \n",
              "5383       0.47     10.0        5  \n",
              "4596       0.59     13.4        6  "
            ]
          },
          "execution_count": 1,
          "metadata": {},
          "output_type": "execute_result"
        }
      ]
    },
    {
      "cell_type": "code",
      "metadata": {
        "id": "5689ffb8-1669-4357-8aef-6881bc454ce3",
        "outputId": "3736d917-df32-4028-ab13-a8c6656d91ec"
      },
      "source": [
        "df.shape"
      ],
      "id": "5689ffb8-1669-4357-8aef-6881bc454ce3",
      "execution_count": null,
      "outputs": [
        {
          "data": {
            "text/plain": [
              "(6497, 13)"
            ]
          },
          "execution_count": 2,
          "metadata": {},
          "output_type": "execute_result"
        }
      ]
    },
    {
      "cell_type": "code",
      "metadata": {
        "id": "dfd172dc-747b-4d78-ae1b-e5cda329aad8",
        "outputId": "33338c5a-1a79-498c-f71b-b52193f0b569"
      },
      "source": [
        "df.isnull().sum()"
      ],
      "id": "dfd172dc-747b-4d78-ae1b-e5cda329aad8",
      "execution_count": null,
      "outputs": [
        {
          "data": {
            "text/plain": [
              "type                     0\n",
              "fixed acidity           10\n",
              "volatile acidity         8\n",
              "citric acid              3\n",
              "residual sugar           2\n",
              "chlorides                2\n",
              "free sulfur dioxide      0\n",
              "total sulfur dioxide     0\n",
              "density                  0\n",
              "pH                       9\n",
              "sulphates                4\n",
              "alcohol                  0\n",
              "quality                  0\n",
              "dtype: int64"
            ]
          },
          "execution_count": 3,
          "metadata": {},
          "output_type": "execute_result"
        }
      ]
    },
    {
      "cell_type": "markdown",
      "metadata": {
        "id": "c84ac2e3-2eee-43e5-8c7c-c65efbdc67c8"
      },
      "source": [
        "### Drop missing values:"
      ],
      "id": "c84ac2e3-2eee-43e5-8c7c-c65efbdc67c8"
    },
    {
      "cell_type": "code",
      "metadata": {
        "id": "b199b75f-d79e-4dbe-b5c0-f9e2329eaad1",
        "outputId": "c581fbcc-2d4d-45c0-c6db-8bd9b14c14ba"
      },
      "source": [
        "df = df.dropna()\n",
        "df.isnull().sum()"
      ],
      "id": "b199b75f-d79e-4dbe-b5c0-f9e2329eaad1",
      "execution_count": null,
      "outputs": [
        {
          "data": {
            "text/plain": [
              "type                    0\n",
              "fixed acidity           0\n",
              "volatile acidity        0\n",
              "citric acid             0\n",
              "residual sugar          0\n",
              "chlorides               0\n",
              "free sulfur dioxide     0\n",
              "total sulfur dioxide    0\n",
              "density                 0\n",
              "pH                      0\n",
              "sulphates               0\n",
              "alcohol                 0\n",
              "quality                 0\n",
              "dtype: int64"
            ]
          },
          "execution_count": 4,
          "metadata": {},
          "output_type": "execute_result"
        }
      ]
    },
    {
      "cell_type": "markdown",
      "metadata": {
        "id": "1e59a240-b30a-4a6b-84ec-c718083cf71b"
      },
      "source": [
        "### Encode string data:"
      ],
      "id": "1e59a240-b30a-4a6b-84ec-c718083cf71b"
    },
    {
      "cell_type": "code",
      "metadata": {
        "id": "4ba079fe-2505-416e-8d25-1301dd003e50",
        "outputId": "107901d3-3c21-43a1-fae7-0c05125c5201"
      },
      "source": [
        "df['type'].value_counts()"
      ],
      "id": "4ba079fe-2505-416e-8d25-1301dd003e50",
      "execution_count": null,
      "outputs": [
        {
          "data": {
            "text/plain": [
              "white    4870\n",
              "red      1593\n",
              "Name: type, dtype: int64"
            ]
          },
          "execution_count": 5,
          "metadata": {},
          "output_type": "execute_result"
        }
      ]
    },
    {
      "cell_type": "code",
      "metadata": {
        "id": "ab6cf081-e757-4e4a-9a0b-621f1a5e5227",
        "outputId": "daa7deef-26c1-430e-9806-463aeaa3c4e2"
      },
      "source": [
        "df['is_white_wine'] = [1 if typ == 'white' else 0 for typ in df['type']]\n",
        "df.drop('type', axis=1, inplace=True)\n",
        "\n",
        "df.head()"
      ],
      "id": "ab6cf081-e757-4e4a-9a0b-621f1a5e5227",
      "execution_count": null,
      "outputs": [
        {
          "data": {
            "text/html": [
              "<div>\n",
              "<style scoped>\n",
              "    .dataframe tbody tr th:only-of-type {\n",
              "        vertical-align: middle;\n",
              "    }\n",
              "\n",
              "    .dataframe tbody tr th {\n",
              "        vertical-align: top;\n",
              "    }\n",
              "\n",
              "    .dataframe thead th {\n",
              "        text-align: right;\n",
              "    }\n",
              "</style>\n",
              "<table border=\"1\" class=\"dataframe\">\n",
              "  <thead>\n",
              "    <tr style=\"text-align: right;\">\n",
              "      <th></th>\n",
              "      <th>fixed acidity</th>\n",
              "      <th>volatile acidity</th>\n",
              "      <th>citric acid</th>\n",
              "      <th>residual sugar</th>\n",
              "      <th>chlorides</th>\n",
              "      <th>free sulfur dioxide</th>\n",
              "      <th>total sulfur dioxide</th>\n",
              "      <th>density</th>\n",
              "      <th>pH</th>\n",
              "      <th>sulphates</th>\n",
              "      <th>alcohol</th>\n",
              "      <th>quality</th>\n",
              "      <th>is_white_wine</th>\n",
              "    </tr>\n",
              "  </thead>\n",
              "  <tbody>\n",
              "    <tr>\n",
              "      <th>0</th>\n",
              "      <td>7.0</td>\n",
              "      <td>0.27</td>\n",
              "      <td>0.36</td>\n",
              "      <td>20.7</td>\n",
              "      <td>0.045</td>\n",
              "      <td>45.0</td>\n",
              "      <td>170.0</td>\n",
              "      <td>1.0010</td>\n",
              "      <td>3.00</td>\n",
              "      <td>0.45</td>\n",
              "      <td>8.8</td>\n",
              "      <td>6</td>\n",
              "      <td>1</td>\n",
              "    </tr>\n",
              "    <tr>\n",
              "      <th>1</th>\n",
              "      <td>6.3</td>\n",
              "      <td>0.30</td>\n",
              "      <td>0.34</td>\n",
              "      <td>1.6</td>\n",
              "      <td>0.049</td>\n",
              "      <td>14.0</td>\n",
              "      <td>132.0</td>\n",
              "      <td>0.9940</td>\n",
              "      <td>3.30</td>\n",
              "      <td>0.49</td>\n",
              "      <td>9.5</td>\n",
              "      <td>6</td>\n",
              "      <td>1</td>\n",
              "    </tr>\n",
              "    <tr>\n",
              "      <th>2</th>\n",
              "      <td>8.1</td>\n",
              "      <td>0.28</td>\n",
              "      <td>0.40</td>\n",
              "      <td>6.9</td>\n",
              "      <td>0.050</td>\n",
              "      <td>30.0</td>\n",
              "      <td>97.0</td>\n",
              "      <td>0.9951</td>\n",
              "      <td>3.26</td>\n",
              "      <td>0.44</td>\n",
              "      <td>10.1</td>\n",
              "      <td>6</td>\n",
              "      <td>1</td>\n",
              "    </tr>\n",
              "    <tr>\n",
              "      <th>3</th>\n",
              "      <td>7.2</td>\n",
              "      <td>0.23</td>\n",
              "      <td>0.32</td>\n",
              "      <td>8.5</td>\n",
              "      <td>0.058</td>\n",
              "      <td>47.0</td>\n",
              "      <td>186.0</td>\n",
              "      <td>0.9956</td>\n",
              "      <td>3.19</td>\n",
              "      <td>0.40</td>\n",
              "      <td>9.9</td>\n",
              "      <td>6</td>\n",
              "      <td>1</td>\n",
              "    </tr>\n",
              "    <tr>\n",
              "      <th>4</th>\n",
              "      <td>7.2</td>\n",
              "      <td>0.23</td>\n",
              "      <td>0.32</td>\n",
              "      <td>8.5</td>\n",
              "      <td>0.058</td>\n",
              "      <td>47.0</td>\n",
              "      <td>186.0</td>\n",
              "      <td>0.9956</td>\n",
              "      <td>3.19</td>\n",
              "      <td>0.40</td>\n",
              "      <td>9.9</td>\n",
              "      <td>6</td>\n",
              "      <td>1</td>\n",
              "    </tr>\n",
              "  </tbody>\n",
              "</table>\n",
              "</div>"
            ],
            "text/plain": [
              "   fixed acidity  volatile acidity  citric acid  residual sugar  chlorides  \\\n",
              "0            7.0              0.27         0.36            20.7      0.045   \n",
              "1            6.3              0.30         0.34             1.6      0.049   \n",
              "2            8.1              0.28         0.40             6.9      0.050   \n",
              "3            7.2              0.23         0.32             8.5      0.058   \n",
              "4            7.2              0.23         0.32             8.5      0.058   \n",
              "\n",
              "   free sulfur dioxide  total sulfur dioxide  density    pH  sulphates  \\\n",
              "0                 45.0                 170.0   1.0010  3.00       0.45   \n",
              "1                 14.0                 132.0   0.9940  3.30       0.49   \n",
              "2                 30.0                  97.0   0.9951  3.26       0.44   \n",
              "3                 47.0                 186.0   0.9956  3.19       0.40   \n",
              "4                 47.0                 186.0   0.9956  3.19       0.40   \n",
              "\n",
              "   alcohol  quality  is_white_wine  \n",
              "0      8.8        6              1  \n",
              "1      9.5        6              1  \n",
              "2     10.1        6              1  \n",
              "3      9.9        6              1  \n",
              "4      9.9        6              1  "
            ]
          },
          "execution_count": 6,
          "metadata": {},
          "output_type": "execute_result"
        }
      ]
    },
    {
      "cell_type": "markdown",
      "metadata": {
        "id": "2fcf6432-d51f-4c58-9a8c-c7569f208ff7"
      },
      "source": [
        "### All data is numeric now:"
      ],
      "id": "2fcf6432-d51f-4c58-9a8c-c7569f208ff7"
    },
    {
      "cell_type": "code",
      "metadata": {
        "id": "2c6a7629-1daf-4c1c-b72f-0ae869666afb",
        "outputId": "37714ecb-4a87-44f0-d9f0-1ff0b43344ed"
      },
      "source": [
        "df.dtypes"
      ],
      "id": "2c6a7629-1daf-4c1c-b72f-0ae869666afb",
      "execution_count": null,
      "outputs": [
        {
          "data": {
            "text/plain": [
              "fixed acidity           float64\n",
              "volatile acidity        float64\n",
              "citric acid             float64\n",
              "residual sugar          float64\n",
              "chlorides               float64\n",
              "free sulfur dioxide     float64\n",
              "total sulfur dioxide    float64\n",
              "density                 float64\n",
              "pH                      float64\n",
              "sulphates               float64\n",
              "alcohol                 float64\n",
              "quality                   int64\n",
              "is_white_wine             int64\n",
              "dtype: object"
            ]
          },
          "execution_count": 7,
          "metadata": {},
          "output_type": "execute_result"
        }
      ]
    },
    {
      "cell_type": "markdown",
      "metadata": {
        "id": "894e5047-b462-4450-bff8-9c333f6c7203"
      },
      "source": [
        "<br>\n",
        "\n",
        "# Convert to a binary classification problem\n",
        "- This is not a binary classification problem by default\n",
        "- We can make it one by declaring wines above some quality point good wines and rest of them bad wines"
      ],
      "id": "894e5047-b462-4450-bff8-9c333f6c7203"
    },
    {
      "cell_type": "code",
      "metadata": {
        "id": "3fc6d527-53a3-47e0-9ea6-df6b70f3dcaa",
        "outputId": "050ac58b-25b5-4a44-ac1f-669a34e82196"
      },
      "source": [
        "df['quality'].value_counts()"
      ],
      "id": "3fc6d527-53a3-47e0-9ea6-df6b70f3dcaa",
      "execution_count": null,
      "outputs": [
        {
          "data": {
            "text/plain": [
              "6    2820\n",
              "5    2128\n",
              "7    1074\n",
              "4     214\n",
              "8     192\n",
              "3      30\n",
              "9       5\n",
              "Name: quality, dtype: int64"
            ]
          },
          "execution_count": 8,
          "metadata": {},
          "output_type": "execute_result"
        }
      ]
    },
    {
      "cell_type": "markdown",
      "metadata": {
        "id": "7cdf0001-afd7-40af-8cd9-abe884f89ceb"
      },
      "source": [
        "- So we'll have 63.3% good wines and the rest are bad"
      ],
      "id": "7cdf0001-afd7-40af-8cd9-abe884f89ceb"
    },
    {
      "cell_type": "code",
      "metadata": {
        "id": "356e38de-0c67-456d-b9ac-c560f7845fff",
        "outputId": "4603aac7-1388-4d61-b95f-b191a8f641ab"
      },
      "source": [
        "len(df[df['quality'] >= 6]) / len(df)"
      ],
      "id": "356e38de-0c67-456d-b9ac-c560f7845fff",
      "execution_count": null,
      "outputs": [
        {
          "data": {
            "text/plain": [
              "0.6329877765743462"
            ]
          },
          "execution_count": 9,
          "metadata": {},
          "output_type": "execute_result"
        }
      ]
    },
    {
      "cell_type": "code",
      "metadata": {
        "id": "310f8c4b-f1f2-4621-be93-90f19f6c5fb3",
        "outputId": "31538721-3f21-405f-afab-c82a9a54808f"
      },
      "source": [
        "df['is_good_wine'] = [1 if quality >= 6 else 0 for quality in df['quality']]\n",
        "df.drop('quality', axis=1, inplace=True)\n",
        "\n",
        "df.head()"
      ],
      "id": "310f8c4b-f1f2-4621-be93-90f19f6c5fb3",
      "execution_count": null,
      "outputs": [
        {
          "data": {
            "text/html": [
              "<div>\n",
              "<style scoped>\n",
              "    .dataframe tbody tr th:only-of-type {\n",
              "        vertical-align: middle;\n",
              "    }\n",
              "\n",
              "    .dataframe tbody tr th {\n",
              "        vertical-align: top;\n",
              "    }\n",
              "\n",
              "    .dataframe thead th {\n",
              "        text-align: right;\n",
              "    }\n",
              "</style>\n",
              "<table border=\"1\" class=\"dataframe\">\n",
              "  <thead>\n",
              "    <tr style=\"text-align: right;\">\n",
              "      <th></th>\n",
              "      <th>fixed acidity</th>\n",
              "      <th>volatile acidity</th>\n",
              "      <th>citric acid</th>\n",
              "      <th>residual sugar</th>\n",
              "      <th>chlorides</th>\n",
              "      <th>free sulfur dioxide</th>\n",
              "      <th>total sulfur dioxide</th>\n",
              "      <th>density</th>\n",
              "      <th>pH</th>\n",
              "      <th>sulphates</th>\n",
              "      <th>alcohol</th>\n",
              "      <th>is_white_wine</th>\n",
              "      <th>is_good_wine</th>\n",
              "    </tr>\n",
              "  </thead>\n",
              "  <tbody>\n",
              "    <tr>\n",
              "      <th>0</th>\n",
              "      <td>7.0</td>\n",
              "      <td>0.27</td>\n",
              "      <td>0.36</td>\n",
              "      <td>20.7</td>\n",
              "      <td>0.045</td>\n",
              "      <td>45.0</td>\n",
              "      <td>170.0</td>\n",
              "      <td>1.0010</td>\n",
              "      <td>3.00</td>\n",
              "      <td>0.45</td>\n",
              "      <td>8.8</td>\n",
              "      <td>1</td>\n",
              "      <td>1</td>\n",
              "    </tr>\n",
              "    <tr>\n",
              "      <th>1</th>\n",
              "      <td>6.3</td>\n",
              "      <td>0.30</td>\n",
              "      <td>0.34</td>\n",
              "      <td>1.6</td>\n",
              "      <td>0.049</td>\n",
              "      <td>14.0</td>\n",
              "      <td>132.0</td>\n",
              "      <td>0.9940</td>\n",
              "      <td>3.30</td>\n",
              "      <td>0.49</td>\n",
              "      <td>9.5</td>\n",
              "      <td>1</td>\n",
              "      <td>1</td>\n",
              "    </tr>\n",
              "    <tr>\n",
              "      <th>2</th>\n",
              "      <td>8.1</td>\n",
              "      <td>0.28</td>\n",
              "      <td>0.40</td>\n",
              "      <td>6.9</td>\n",
              "      <td>0.050</td>\n",
              "      <td>30.0</td>\n",
              "      <td>97.0</td>\n",
              "      <td>0.9951</td>\n",
              "      <td>3.26</td>\n",
              "      <td>0.44</td>\n",
              "      <td>10.1</td>\n",
              "      <td>1</td>\n",
              "      <td>1</td>\n",
              "    </tr>\n",
              "    <tr>\n",
              "      <th>3</th>\n",
              "      <td>7.2</td>\n",
              "      <td>0.23</td>\n",
              "      <td>0.32</td>\n",
              "      <td>8.5</td>\n",
              "      <td>0.058</td>\n",
              "      <td>47.0</td>\n",
              "      <td>186.0</td>\n",
              "      <td>0.9956</td>\n",
              "      <td>3.19</td>\n",
              "      <td>0.40</td>\n",
              "      <td>9.9</td>\n",
              "      <td>1</td>\n",
              "      <td>1</td>\n",
              "    </tr>\n",
              "    <tr>\n",
              "      <th>4</th>\n",
              "      <td>7.2</td>\n",
              "      <td>0.23</td>\n",
              "      <td>0.32</td>\n",
              "      <td>8.5</td>\n",
              "      <td>0.058</td>\n",
              "      <td>47.0</td>\n",
              "      <td>186.0</td>\n",
              "      <td>0.9956</td>\n",
              "      <td>3.19</td>\n",
              "      <td>0.40</td>\n",
              "      <td>9.9</td>\n",
              "      <td>1</td>\n",
              "      <td>1</td>\n",
              "    </tr>\n",
              "  </tbody>\n",
              "</table>\n",
              "</div>"
            ],
            "text/plain": [
              "   fixed acidity  volatile acidity  citric acid  residual sugar  chlorides  \\\n",
              "0            7.0              0.27         0.36            20.7      0.045   \n",
              "1            6.3              0.30         0.34             1.6      0.049   \n",
              "2            8.1              0.28         0.40             6.9      0.050   \n",
              "3            7.2              0.23         0.32             8.5      0.058   \n",
              "4            7.2              0.23         0.32             8.5      0.058   \n",
              "\n",
              "   free sulfur dioxide  total sulfur dioxide  density    pH  sulphates  \\\n",
              "0                 45.0                 170.0   1.0010  3.00       0.45   \n",
              "1                 14.0                 132.0   0.9940  3.30       0.49   \n",
              "2                 30.0                  97.0   0.9951  3.26       0.44   \n",
              "3                 47.0                 186.0   0.9956  3.19       0.40   \n",
              "4                 47.0                 186.0   0.9956  3.19       0.40   \n",
              "\n",
              "   alcohol  is_white_wine  is_good_wine  \n",
              "0      8.8              1             1  \n",
              "1      9.5              1             1  \n",
              "2     10.1              1             1  \n",
              "3      9.9              1             1  \n",
              "4      9.9              1             1  "
            ]
          },
          "execution_count": 10,
          "metadata": {},
          "output_type": "execute_result"
        }
      ]
    },
    {
      "cell_type": "code",
      "metadata": {
        "id": "3297cfe8-e1e4-40bc-9000-0bd669297452",
        "outputId": "a2e627ca-9f78-4cfd-e3f3-1914aab1dd16"
      },
      "source": [
        "df['is_good_wine'].value_counts()"
      ],
      "id": "3297cfe8-e1e4-40bc-9000-0bd669297452",
      "execution_count": null,
      "outputs": [
        {
          "data": {
            "text/plain": [
              "1    4091\n",
              "0    2372\n",
              "Name: is_good_wine, dtype: int64"
            ]
          },
          "execution_count": 11,
          "metadata": {},
          "output_type": "execute_result"
        }
      ]
    },
    {
      "cell_type": "code",
      "metadata": {
        "id": "f32bc6c4-af3d-46ef-bdf6-f23f0e5358a0",
        "outputId": "6995d01f-20d9-4b24-9871-245e738fc23c"
      },
      "source": [
        "df.head()"
      ],
      "id": "f32bc6c4-af3d-46ef-bdf6-f23f0e5358a0",
      "execution_count": null,
      "outputs": [
        {
          "data": {
            "text/html": [
              "<div>\n",
              "<style scoped>\n",
              "    .dataframe tbody tr th:only-of-type {\n",
              "        vertical-align: middle;\n",
              "    }\n",
              "\n",
              "    .dataframe tbody tr th {\n",
              "        vertical-align: top;\n",
              "    }\n",
              "\n",
              "    .dataframe thead th {\n",
              "        text-align: right;\n",
              "    }\n",
              "</style>\n",
              "<table border=\"1\" class=\"dataframe\">\n",
              "  <thead>\n",
              "    <tr style=\"text-align: right;\">\n",
              "      <th></th>\n",
              "      <th>fixed acidity</th>\n",
              "      <th>volatile acidity</th>\n",
              "      <th>citric acid</th>\n",
              "      <th>residual sugar</th>\n",
              "      <th>chlorides</th>\n",
              "      <th>free sulfur dioxide</th>\n",
              "      <th>total sulfur dioxide</th>\n",
              "      <th>density</th>\n",
              "      <th>pH</th>\n",
              "      <th>sulphates</th>\n",
              "      <th>alcohol</th>\n",
              "      <th>is_white_wine</th>\n",
              "      <th>is_good_wine</th>\n",
              "    </tr>\n",
              "  </thead>\n",
              "  <tbody>\n",
              "    <tr>\n",
              "      <th>0</th>\n",
              "      <td>7.0</td>\n",
              "      <td>0.27</td>\n",
              "      <td>0.36</td>\n",
              "      <td>20.7</td>\n",
              "      <td>0.045</td>\n",
              "      <td>45.0</td>\n",
              "      <td>170.0</td>\n",
              "      <td>1.0010</td>\n",
              "      <td>3.00</td>\n",
              "      <td>0.45</td>\n",
              "      <td>8.8</td>\n",
              "      <td>1</td>\n",
              "      <td>1</td>\n",
              "    </tr>\n",
              "    <tr>\n",
              "      <th>1</th>\n",
              "      <td>6.3</td>\n",
              "      <td>0.30</td>\n",
              "      <td>0.34</td>\n",
              "      <td>1.6</td>\n",
              "      <td>0.049</td>\n",
              "      <td>14.0</td>\n",
              "      <td>132.0</td>\n",
              "      <td>0.9940</td>\n",
              "      <td>3.30</td>\n",
              "      <td>0.49</td>\n",
              "      <td>9.5</td>\n",
              "      <td>1</td>\n",
              "      <td>1</td>\n",
              "    </tr>\n",
              "    <tr>\n",
              "      <th>2</th>\n",
              "      <td>8.1</td>\n",
              "      <td>0.28</td>\n",
              "      <td>0.40</td>\n",
              "      <td>6.9</td>\n",
              "      <td>0.050</td>\n",
              "      <td>30.0</td>\n",
              "      <td>97.0</td>\n",
              "      <td>0.9951</td>\n",
              "      <td>3.26</td>\n",
              "      <td>0.44</td>\n",
              "      <td>10.1</td>\n",
              "      <td>1</td>\n",
              "      <td>1</td>\n",
              "    </tr>\n",
              "    <tr>\n",
              "      <th>3</th>\n",
              "      <td>7.2</td>\n",
              "      <td>0.23</td>\n",
              "      <td>0.32</td>\n",
              "      <td>8.5</td>\n",
              "      <td>0.058</td>\n",
              "      <td>47.0</td>\n",
              "      <td>186.0</td>\n",
              "      <td>0.9956</td>\n",
              "      <td>3.19</td>\n",
              "      <td>0.40</td>\n",
              "      <td>9.9</td>\n",
              "      <td>1</td>\n",
              "      <td>1</td>\n",
              "    </tr>\n",
              "    <tr>\n",
              "      <th>4</th>\n",
              "      <td>7.2</td>\n",
              "      <td>0.23</td>\n",
              "      <td>0.32</td>\n",
              "      <td>8.5</td>\n",
              "      <td>0.058</td>\n",
              "      <td>47.0</td>\n",
              "      <td>186.0</td>\n",
              "      <td>0.9956</td>\n",
              "      <td>3.19</td>\n",
              "      <td>0.40</td>\n",
              "      <td>9.9</td>\n",
              "      <td>1</td>\n",
              "      <td>1</td>\n",
              "    </tr>\n",
              "  </tbody>\n",
              "</table>\n",
              "</div>"
            ],
            "text/plain": [
              "   fixed acidity  volatile acidity  citric acid  residual sugar  chlorides  \\\n",
              "0            7.0              0.27         0.36            20.7      0.045   \n",
              "1            6.3              0.30         0.34             1.6      0.049   \n",
              "2            8.1              0.28         0.40             6.9      0.050   \n",
              "3            7.2              0.23         0.32             8.5      0.058   \n",
              "4            7.2              0.23         0.32             8.5      0.058   \n",
              "\n",
              "   free sulfur dioxide  total sulfur dioxide  density    pH  sulphates  \\\n",
              "0                 45.0                 170.0   1.0010  3.00       0.45   \n",
              "1                 14.0                 132.0   0.9940  3.30       0.49   \n",
              "2                 30.0                  97.0   0.9951  3.26       0.44   \n",
              "3                 47.0                 186.0   0.9956  3.19       0.40   \n",
              "4                 47.0                 186.0   0.9956  3.19       0.40   \n",
              "\n",
              "   alcohol  is_white_wine  is_good_wine  \n",
              "0      8.8              1             1  \n",
              "1      9.5              1             1  \n",
              "2     10.1              1             1  \n",
              "3      9.9              1             1  \n",
              "4      9.9              1             1  "
            ]
          },
          "execution_count": 12,
          "metadata": {},
          "output_type": "execute_result"
        }
      ]
    },
    {
      "cell_type": "markdown",
      "metadata": {
        "id": "9813fdf1-3903-4cc9-8398-f3fef2e9ec88"
      },
      "source": [
        "<br>\n",
        "\n",
        "# Train/Test split"
      ],
      "id": "9813fdf1-3903-4cc9-8398-f3fef2e9ec88"
    },
    {
      "cell_type": "code",
      "metadata": {
        "id": "d3bf1737-b194-4944-8030-85dc727a9006"
      },
      "source": [
        "from sklearn.model_selection import train_test_split\n",
        "\n",
        "X = df.drop('is_good_wine', axis=1)\n",
        "y = df['is_good_wine']\n",
        "\n",
        "X_train, X_test, y_train, y_test = train_test_split(\n",
        "    X, y, \n",
        "    test_size=0.2, random_state=42\n",
        ")"
      ],
      "id": "d3bf1737-b194-4944-8030-85dc727a9006",
      "execution_count": null,
      "outputs": []
    },
    {
      "cell_type": "code",
      "metadata": {
        "id": "9d77266c-ef78-43b0-8dec-c78629bc669b",
        "outputId": "1ff329ac-63e3-4b02-c455-c3a885e999f1"
      },
      "source": [
        "X_train.shape, X_test.shape"
      ],
      "id": "9d77266c-ef78-43b0-8dec-c78629bc669b",
      "execution_count": null,
      "outputs": [
        {
          "data": {
            "text/plain": [
              "((5170, 12), (1293, 12))"
            ]
          },
          "execution_count": 14,
          "metadata": {},
          "output_type": "execute_result"
        }
      ]
    },
    {
      "cell_type": "code",
      "metadata": {
        "id": "92439aaa-3eee-4905-8fd3-f4be2ddda76c",
        "outputId": "225ab1ab-84b6-4903-c38c-4ea427d562a4"
      },
      "source": [
        "X_train.head()"
      ],
      "id": "92439aaa-3eee-4905-8fd3-f4be2ddda76c",
      "execution_count": null,
      "outputs": [
        {
          "data": {
            "text/html": [
              "<div>\n",
              "<style scoped>\n",
              "    .dataframe tbody tr th:only-of-type {\n",
              "        vertical-align: middle;\n",
              "    }\n",
              "\n",
              "    .dataframe tbody tr th {\n",
              "        vertical-align: top;\n",
              "    }\n",
              "\n",
              "    .dataframe thead th {\n",
              "        text-align: right;\n",
              "    }\n",
              "</style>\n",
              "<table border=\"1\" class=\"dataframe\">\n",
              "  <thead>\n",
              "    <tr style=\"text-align: right;\">\n",
              "      <th></th>\n",
              "      <th>fixed acidity</th>\n",
              "      <th>volatile acidity</th>\n",
              "      <th>citric acid</th>\n",
              "      <th>residual sugar</th>\n",
              "      <th>chlorides</th>\n",
              "      <th>free sulfur dioxide</th>\n",
              "      <th>total sulfur dioxide</th>\n",
              "      <th>density</th>\n",
              "      <th>pH</th>\n",
              "      <th>sulphates</th>\n",
              "      <th>alcohol</th>\n",
              "      <th>is_white_wine</th>\n",
              "    </tr>\n",
              "  </thead>\n",
              "  <tbody>\n",
              "    <tr>\n",
              "      <th>459</th>\n",
              "      <td>6.1</td>\n",
              "      <td>0.43</td>\n",
              "      <td>0.35</td>\n",
              "      <td>9.1</td>\n",
              "      <td>0.059</td>\n",
              "      <td>83.0</td>\n",
              "      <td>249.0</td>\n",
              "      <td>0.99710</td>\n",
              "      <td>3.37</td>\n",
              "      <td>0.50</td>\n",
              "      <td>8.500000</td>\n",
              "      <td>1</td>\n",
              "    </tr>\n",
              "    <tr>\n",
              "      <th>1460</th>\n",
              "      <td>8.5</td>\n",
              "      <td>0.17</td>\n",
              "      <td>0.74</td>\n",
              "      <td>3.6</td>\n",
              "      <td>0.050</td>\n",
              "      <td>29.0</td>\n",
              "      <td>128.0</td>\n",
              "      <td>0.99280</td>\n",
              "      <td>3.28</td>\n",
              "      <td>0.40</td>\n",
              "      <td>12.400000</td>\n",
              "      <td>1</td>\n",
              "    </tr>\n",
              "    <tr>\n",
              "      <th>4403</th>\n",
              "      <td>5.2</td>\n",
              "      <td>0.22</td>\n",
              "      <td>0.46</td>\n",
              "      <td>6.2</td>\n",
              "      <td>0.066</td>\n",
              "      <td>41.0</td>\n",
              "      <td>187.0</td>\n",
              "      <td>0.99362</td>\n",
              "      <td>3.19</td>\n",
              "      <td>0.42</td>\n",
              "      <td>9.733333</td>\n",
              "      <td>1</td>\n",
              "    </tr>\n",
              "    <tr>\n",
              "      <th>3828</th>\n",
              "      <td>6.3</td>\n",
              "      <td>0.40</td>\n",
              "      <td>0.24</td>\n",
              "      <td>5.1</td>\n",
              "      <td>0.036</td>\n",
              "      <td>43.0</td>\n",
              "      <td>131.0</td>\n",
              "      <td>0.99186</td>\n",
              "      <td>3.24</td>\n",
              "      <td>0.44</td>\n",
              "      <td>11.300000</td>\n",
              "      <td>1</td>\n",
              "    </tr>\n",
              "    <tr>\n",
              "      <th>4317</th>\n",
              "      <td>6.7</td>\n",
              "      <td>0.34</td>\n",
              "      <td>0.26</td>\n",
              "      <td>1.9</td>\n",
              "      <td>0.038</td>\n",
              "      <td>58.0</td>\n",
              "      <td>138.0</td>\n",
              "      <td>0.98930</td>\n",
              "      <td>3.00</td>\n",
              "      <td>0.47</td>\n",
              "      <td>12.200000</td>\n",
              "      <td>1</td>\n",
              "    </tr>\n",
              "  </tbody>\n",
              "</table>\n",
              "</div>"
            ],
            "text/plain": [
              "      fixed acidity  volatile acidity  citric acid  residual sugar  chlorides  \\\n",
              "459             6.1              0.43         0.35             9.1      0.059   \n",
              "1460            8.5              0.17         0.74             3.6      0.050   \n",
              "4403            5.2              0.22         0.46             6.2      0.066   \n",
              "3828            6.3              0.40         0.24             5.1      0.036   \n",
              "4317            6.7              0.34         0.26             1.9      0.038   \n",
              "\n",
              "      free sulfur dioxide  total sulfur dioxide  density    pH  sulphates  \\\n",
              "459                  83.0                 249.0  0.99710  3.37       0.50   \n",
              "1460                 29.0                 128.0  0.99280  3.28       0.40   \n",
              "4403                 41.0                 187.0  0.99362  3.19       0.42   \n",
              "3828                 43.0                 131.0  0.99186  3.24       0.44   \n",
              "4317                 58.0                 138.0  0.98930  3.00       0.47   \n",
              "\n",
              "        alcohol  is_white_wine  \n",
              "459    8.500000              1  \n",
              "1460  12.400000              1  \n",
              "4403   9.733333              1  \n",
              "3828  11.300000              1  \n",
              "4317  12.200000              1  "
            ]
          },
          "execution_count": 15,
          "metadata": {},
          "output_type": "execute_result"
        }
      ]
    },
    {
      "cell_type": "markdown",
      "metadata": {
        "id": "bd392f14-7737-4c5f-a910-a22216ff2dc7"
      },
      "source": [
        "<br>\n",
        "\n",
        "# Data scaling\n",
        "- Input features aren't on the same scale, so we'll fix it quickly:"
      ],
      "id": "bd392f14-7737-4c5f-a910-a22216ff2dc7"
    },
    {
      "cell_type": "code",
      "metadata": {
        "id": "b635952f-0d8c-4e3a-976f-0ea422dff3b2"
      },
      "source": [
        "from sklearn.preprocessing import StandardScaler\n",
        "\n",
        "scaler = StandardScaler()\n",
        "X_train_scaled = scaler.fit_transform(X_train)\n",
        "X_test_scaled = scaler.transform(X_test)"
      ],
      "id": "b635952f-0d8c-4e3a-976f-0ea422dff3b2",
      "execution_count": null,
      "outputs": []
    },
    {
      "cell_type": "code",
      "metadata": {
        "id": "2d200c89-9261-4acf-b159-2041c734f4c2",
        "outputId": "10f47a03-9106-4066-cd97-58674197f457"
      },
      "source": [
        "X_train_scaled[:3]"
      ],
      "id": "2d200c89-9261-4acf-b159-2041c734f4c2",
      "execution_count": null,
      "outputs": [
        {
          "data": {
            "text/plain": [
              "array([[-0.86265684,  0.56588915,  0.22079121,  0.75048207,  0.07674805,\n",
              "         2.9415276 ,  2.35882933,  0.788386  ,  0.94784355, -0.20357893,\n",
              "        -1.66472797,  0.57094748],\n",
              "       [ 0.99186667, -1.02945526,  2.92098728, -0.3929423 , -0.17512717,\n",
              "        -0.08344183,  0.21383119, -0.64578381,  0.38700578, -0.87653487,\n",
              "         1.63149383,  0.57094748],\n",
              "       [-1.55810316, -0.72265826,  0.98238498,  0.14758559,  0.27265101,\n",
              "         0.5887736 ,  1.25973937, -0.37229096, -0.17383198, -0.74194369,\n",
              "        -0.62233304,  0.57094748]])"
            ]
          },
          "execution_count": 17,
          "metadata": {},
          "output_type": "execute_result"
        }
      ]
    },
    {
      "cell_type": "markdown",
      "metadata": {
        "id": "29e3a432-4fb6-4b41-8842-66f570fde83a"
      },
      "source": [
        "<br>\n",
        "\n",
        "# Model training"
      ],
      "id": "29e3a432-4fb6-4b41-8842-66f570fde83a"
    },
    {
      "cell_type": "code",
      "metadata": {
        "id": "9bf6fa8d-4841-483c-b628-9cb9d96b08b3",
        "outputId": "555d5ab9-86e6-48cc-b2e9-26b092c6ce3b"
      },
      "source": [
        "import tensorflow as tf"
      ],
      "id": "9bf6fa8d-4841-483c-b628-9cb9d96b08b3",
      "execution_count": null,
      "outputs": [
        {
          "name": "stdout",
          "output_type": "stream",
          "text": [
            "Init Plugin\n",
            "Init Graph Optimizer\n",
            "Init Kernel\n"
          ]
        }
      ]
    },
    {
      "cell_type": "markdown",
      "metadata": {
        "id": "01feaafd-15f9-4ca2-b01c-2cfe0533c5d3"
      },
      "source": [
        "- This is a completely random neural network architecture\n",
        "- Use `sigmoid` as the activation function in the last layer when working with binary classification problems\n",
        "- Use `binary_crossentropy` as a loss function when working with binary classification problems\n",
        "- We'll track accuracy, precision, and recall and train for 100 epochs"
      ],
      "id": "01feaafd-15f9-4ca2-b01c-2cfe0533c5d3"
    },
    {
      "cell_type": "code",
      "metadata": {
        "id": "ee41278f-bd2f-40e0-b630-42239351ba69",
        "outputId": "6569b40c-f174-47a5-97fc-ab734fb95da6"
      },
      "source": [
        "tf.random.set_seed(42)\n",
        "\n",
        "model = tf.keras.Sequential([\n",
        "    tf.keras.layers.Dense(128, activation='relu'),\n",
        "    tf.keras.layers.Dense(256, activation='relu'),\n",
        "    tf.keras.layers.Dense(256, activation='relu'),\n",
        "    tf.keras.layers.Dense(1, activation='sigmoid')\n",
        "])\n",
        "\n",
        "model.compile(\n",
        "    loss=tf.keras.losses.binary_crossentropy,\n",
        "    optimizer=tf.keras.optimizers.Adam(lr=0.03),\n",
        "    metrics=[\n",
        "        tf.keras.metrics.BinaryAccuracy(name='accuracy'),\n",
        "        tf.keras.metrics.Precision(name='precision'),\n",
        "        tf.keras.metrics.Recall(name='recall')\n",
        "    ]\n",
        ")\n",
        "\n",
        "history = model.fit(X_train_scaled, y_train, epochs=100)"
      ],
      "id": "ee41278f-bd2f-40e0-b630-42239351ba69",
      "execution_count": null,
      "outputs": [
        {
          "name": "stdout",
          "output_type": "stream",
          "text": [
            "Metal device set to: Apple M1\n",
            "Epoch 1/100\n"
          ]
        },
        {
          "name": "stderr",
          "output_type": "stream",
          "text": [
            "2021-10-12 11:47:05.723021: I tensorflow/core/common_runtime/pluggable_device/pluggable_device_factory.cc:305] Could not identify NUMA node of platform GPU ID 0, defaulting to 0. Your kernel may not have been built with NUMA support.\n",
            "2021-10-12 11:47:05.723315: I tensorflow/core/common_runtime/pluggable_device/pluggable_device_factory.cc:271] Created TensorFlow device (/job:localhost/replica:0/task:0/device:GPU:0 with 0 MB memory) -> physical PluggableDevice (device: 0, name: METAL, pci bus id: <undefined>)\n",
            "/opt/homebrew/Caskroom/miniforge/base/envs/env_tensorflow/lib/python3.9/site-packages/tensorflow/python/keras/optimizer_v2/optimizer_v2.py:374: UserWarning: The `lr` argument is deprecated, use `learning_rate` instead.\n",
            "  warnings.warn(\n",
            "2021-10-12 11:47:05.788746: I tensorflow/compiler/mlir/mlir_graph_optimization_pass.cc:176] None of the MLIR Optimization Passes are enabled (registered 2)\n",
            "2021-10-12 11:47:05.791902: W tensorflow/core/platform/profile_utils/cpu_utils.cc:128] Failed to get CPU frequency: 0 Hz\n"
          ]
        },
        {
          "name": "stdout",
          "output_type": "stream",
          "text": [
            "  6/162 [>.............................] - ETA: 1s - loss: 2.0929 - accuracy: 0.4844 - precision: 0.6214 - recall: 0.5161 "
          ]
        },
        {
          "name": "stderr",
          "output_type": "stream",
          "text": [
            "2021-10-12 11:47:06.030247: I tensorflow/core/grappler/optimizers/custom_graph_optimizer_registry.cc:112] Plugin optimizer for device_type GPU is enabled.\n"
          ]
        },
        {
          "name": "stdout",
          "output_type": "stream",
          "text": [
            "162/162 [==============================] - 2s 7ms/step - loss: 0.6260 - accuracy: 0.7044 - precision: 0.7356 - recall: 0.8338\n",
            "Epoch 2/100\n",
            "162/162 [==============================] - 1s 7ms/step - loss: 0.5383 - accuracy: 0.7298 - precision: 0.7659 - recall: 0.8268\n",
            "Epoch 3/100\n",
            "162/162 [==============================] - 1s 7ms/step - loss: 0.5331 - accuracy: 0.7433 - precision: 0.7703 - recall: 0.8485\n",
            "Epoch 4/100\n",
            "162/162 [==============================] - 1s 7ms/step - loss: 0.5337 - accuracy: 0.7482 - precision: 0.7912 - recall: 0.8192\n",
            "Epoch 5/100\n",
            "162/162 [==============================] - 1s 7ms/step - loss: 0.5135 - accuracy: 0.7573 - precision: 0.7920 - recall: 0.8372\n",
            "Epoch 6/100\n",
            "162/162 [==============================] - 1s 7ms/step - loss: 0.5188 - accuracy: 0.7545 - precision: 0.7830 - recall: 0.8482\n",
            "Epoch 7/100\n",
            "162/162 [==============================] - 1s 7ms/step - loss: 0.5146 - accuracy: 0.7487 - precision: 0.8052 - recall: 0.7966\n",
            "Epoch 8/100\n",
            "162/162 [==============================] - 1s 7ms/step - loss: 0.5091 - accuracy: 0.7594 - precision: 0.8219 - recall: 0.7924\n",
            "Epoch 9/100\n",
            "162/162 [==============================] - 1s 7ms/step - loss: 0.4922 - accuracy: 0.7685 - precision: 0.8219 - recall: 0.8107\n",
            "Epoch 10/100\n",
            "162/162 [==============================] - 1s 7ms/step - loss: 0.4989 - accuracy: 0.7681 - precision: 0.8244 - recall: 0.8061\n",
            "Epoch 11/100\n",
            "162/162 [==============================] - 1s 7ms/step - loss: 0.4944 - accuracy: 0.7631 - precision: 0.8164 - recall: 0.8082\n",
            "Epoch 12/100\n",
            "162/162 [==============================] - 1s 7ms/step - loss: 0.5093 - accuracy: 0.7472 - precision: 0.7920 - recall: 0.8159\n",
            "Epoch 13/100\n",
            "162/162 [==============================] - 1s 7ms/step - loss: 0.5572 - accuracy: 0.7437 - precision: 0.8059 - recall: 0.7851\n",
            "Epoch 14/100\n",
            "162/162 [==============================] - 1s 7ms/step - loss: 0.5024 - accuracy: 0.7627 - precision: 0.8207 - recall: 0.8009\n",
            "Epoch 15/100\n",
            "162/162 [==============================] - 1s 7ms/step - loss: 0.4998 - accuracy: 0.7646 - precision: 0.8194 - recall: 0.8067\n",
            "Epoch 16/100\n",
            "162/162 [==============================] - 1s 7ms/step - loss: 0.4859 - accuracy: 0.7706 - precision: 0.8252 - recall: 0.8101\n",
            "Epoch 17/100\n",
            "162/162 [==============================] - 1s 7ms/step - loss: 0.4775 - accuracy: 0.7723 - precision: 0.8287 - recall: 0.8082\n",
            "Epoch 18/100\n",
            "162/162 [==============================] - 1s 7ms/step - loss: 0.4719 - accuracy: 0.7760 - precision: 0.8269 - recall: 0.8183\n",
            "Epoch 19/100\n",
            "162/162 [==============================] - 1s 7ms/step - loss: 0.4761 - accuracy: 0.7768 - precision: 0.8281 - recall: 0.8180\n",
            "Epoch 20/100\n",
            "162/162 [==============================] - 1s 7ms/step - loss: 0.4682 - accuracy: 0.7760 - precision: 0.8316 - recall: 0.8113\n",
            "Epoch 21/100\n",
            "162/162 [==============================] - 1s 7ms/step - loss: 0.4747 - accuracy: 0.7725 - precision: 0.8192 - recall: 0.8232\n",
            "Epoch 22/100\n",
            "162/162 [==============================] - 1s 7ms/step - loss: 0.5112 - accuracy: 0.7617 - precision: 0.8198 - recall: 0.8003\n",
            "Epoch 23/100\n",
            "162/162 [==============================] - 1s 7ms/step - loss: 0.4896 - accuracy: 0.7646 - precision: 0.8053 - recall: 0.8296\n",
            "Epoch 24/100\n",
            "162/162 [==============================] - 1s 7ms/step - loss: 0.4919 - accuracy: 0.7663 - precision: 0.8192 - recall: 0.8107\n",
            "Epoch 25/100\n",
            "162/162 [==============================] - 1s 7ms/step - loss: 0.4881 - accuracy: 0.7764 - precision: 0.8335 - recall: 0.8091\n",
            "Epoch 26/100\n",
            "162/162 [==============================] - 1s 7ms/step - loss: 0.4947 - accuracy: 0.7629 - precision: 0.8217 - recall: 0.7997\n",
            "Epoch 27/100\n",
            "162/162 [==============================] - 1s 7ms/step - loss: 0.4678 - accuracy: 0.7826 - precision: 0.8297 - recall: 0.8271\n",
            "Epoch 28/100\n",
            "162/162 [==============================] - 1s 7ms/step - loss: 0.4644 - accuracy: 0.7896 - precision: 0.8406 - recall: 0.8247\n",
            "Epoch 29/100\n",
            "162/162 [==============================] - 1s 7ms/step - loss: 0.5595 - accuracy: 0.7427 - precision: 0.8028 - recall: 0.7881\n",
            "Epoch 30/100\n",
            "162/162 [==============================] - 1s 7ms/step - loss: 0.5118 - accuracy: 0.7534 - precision: 0.8323 - recall: 0.7655\n",
            "Epoch 31/100\n",
            "162/162 [==============================] - 1s 8ms/step - loss: 0.4940 - accuracy: 0.7658 - precision: 0.8355 - recall: 0.7854\n",
            "Epoch 32/100\n",
            "162/162 [==============================] - 1s 8ms/step - loss: 0.5478 - accuracy: 0.7168 - precision: 0.8341 - recall: 0.6912\n",
            "Epoch 33/100\n",
            "162/162 [==============================] - 1s 8ms/step - loss: 0.5668 - accuracy: 0.7155 - precision: 0.8010 - recall: 0.7338\n",
            "Epoch 34/100\n",
            "162/162 [==============================] - 1s 7ms/step - loss: 0.5159 - accuracy: 0.7520 - precision: 0.8361 - recall: 0.7576\n",
            "Epoch 35/100\n",
            "162/162 [==============================] - 1s 7ms/step - loss: 0.5173 - accuracy: 0.7540 - precision: 0.8191 - recall: 0.7857\n",
            "Epoch 36/100\n",
            "162/162 [==============================] - 1s 7ms/step - loss: 0.5012 - accuracy: 0.7501 - precision: 0.8365 - recall: 0.7534\n",
            "Epoch 37/100\n",
            "162/162 [==============================] - 1s 8ms/step - loss: 0.5187 - accuracy: 0.7526 - precision: 0.8243 - recall: 0.7753\n",
            "Epoch 38/100\n",
            "162/162 [==============================] - 1s 7ms/step - loss: 0.4799 - accuracy: 0.7756 - precision: 0.8361 - recall: 0.8040\n",
            "Epoch 39/100\n",
            "162/162 [==============================] - 1s 7ms/step - loss: 0.4970 - accuracy: 0.7594 - precision: 0.8421 - recall: 0.7640\n",
            "Epoch 40/100\n",
            "162/162 [==============================] - 1s 8ms/step - loss: 0.5166 - accuracy: 0.7573 - precision: 0.8457 - recall: 0.7552\n",
            "Epoch 41/100\n",
            "162/162 [==============================] - 1s 7ms/step - loss: 0.4844 - accuracy: 0.7694 - precision: 0.8381 - recall: 0.7890\n",
            "Epoch 42/100\n",
            "162/162 [==============================] - 1s 7ms/step - loss: 0.4667 - accuracy: 0.7776 - precision: 0.8400 - recall: 0.8021\n",
            "Epoch 43/100\n",
            "162/162 [==============================] - 1s 8ms/step - loss: 0.4687 - accuracy: 0.7849 - precision: 0.8513 - recall: 0.8009\n",
            "Epoch 44/100\n",
            "162/162 [==============================] - 1s 7ms/step - loss: 0.4779 - accuracy: 0.7805 - precision: 0.8404 - recall: 0.8073\n",
            "Epoch 45/100\n",
            "162/162 [==============================] - 1s 8ms/step - loss: 0.4775 - accuracy: 0.7774 - precision: 0.8455 - recall: 0.7942\n",
            "Epoch 46/100\n",
            "162/162 [==============================] - 1s 7ms/step - loss: 0.4775 - accuracy: 0.7805 - precision: 0.8445 - recall: 0.8015\n",
            "Epoch 47/100\n",
            "162/162 [==============================] - 1s 8ms/step - loss: 0.4857 - accuracy: 0.7673 - precision: 0.8238 - recall: 0.8055\n",
            "Epoch 48/100\n",
            "162/162 [==============================] - 1s 7ms/step - loss: 0.4629 - accuracy: 0.7830 - precision: 0.8465 - recall: 0.8037\n",
            "Epoch 49/100\n",
            "162/162 [==============================] - 1s 7ms/step - loss: 0.4595 - accuracy: 0.7911 - precision: 0.8539 - recall: 0.8091\n",
            "Epoch 50/100\n",
            "162/162 [==============================] - 1s 7ms/step - loss: 0.4650 - accuracy: 0.7925 - precision: 0.8552 - recall: 0.8101\n",
            "Epoch 51/100\n",
            "162/162 [==============================] - 1s 7ms/step - loss: 0.4617 - accuracy: 0.7857 - precision: 0.8591 - recall: 0.7921\n",
            "Epoch 52/100\n",
            "162/162 [==============================] - 1s 7ms/step - loss: 0.4564 - accuracy: 0.7897 - precision: 0.8646 - recall: 0.7927\n",
            "Epoch 53/100\n",
            "162/162 [==============================] - 1s 7ms/step - loss: 0.4497 - accuracy: 0.7909 - precision: 0.8527 - recall: 0.8104\n",
            "Epoch 54/100\n",
            "162/162 [==============================] - 1s 7ms/step - loss: 0.4595 - accuracy: 0.7909 - precision: 0.8652 - recall: 0.7942\n",
            "Epoch 55/100\n",
            "162/162 [==============================] - 1s 7ms/step - loss: 0.5268 - accuracy: 0.7515 - precision: 0.8238 - recall: 0.7738\n",
            "Epoch 56/100\n",
            "162/162 [==============================] - 1s 7ms/step - loss: 0.5252 - accuracy: 0.7491 - precision: 0.8135 - recall: 0.7845\n",
            "Epoch 57/100\n",
            "162/162 [==============================] - 1s 7ms/step - loss: 0.4976 - accuracy: 0.7590 - precision: 0.8397 - recall: 0.7665\n",
            "Epoch 58/100\n",
            "162/162 [==============================] - 1s 7ms/step - loss: 0.4729 - accuracy: 0.7853 - precision: 0.8471 - recall: 0.8073\n",
            "Epoch 59/100\n",
            "162/162 [==============================] - 1s 7ms/step - loss: 0.4554 - accuracy: 0.7913 - precision: 0.8547 - recall: 0.8085\n",
            "Epoch 60/100\n",
            "162/162 [==============================] - 1s 7ms/step - loss: 0.4542 - accuracy: 0.7894 - precision: 0.8546 - recall: 0.8049\n",
            "Epoch 61/100\n",
            "162/162 [==============================] - 1s 7ms/step - loss: 0.4471 - accuracy: 0.7975 - precision: 0.8490 - recall: 0.8280\n",
            "Epoch 62/100\n",
            "162/162 [==============================] - 1s 7ms/step - loss: 0.4432 - accuracy: 0.7996 - precision: 0.8544 - recall: 0.8247\n",
            "Epoch 63/100\n",
            "162/162 [==============================] - 1s 7ms/step - loss: 0.4341 - accuracy: 0.8043 - precision: 0.8573 - recall: 0.8296\n",
            "Epoch 64/100\n",
            "162/162 [==============================] - 1s 7ms/step - loss: 0.4303 - accuracy: 0.8048 - precision: 0.8567 - recall: 0.8314\n",
            "Epoch 65/100\n",
            "162/162 [==============================] - 1s 7ms/step - loss: 0.4367 - accuracy: 0.8029 - precision: 0.8579 - recall: 0.8262\n",
            "Epoch 66/100\n",
            "162/162 [==============================] - 1s 7ms/step - loss: 0.4438 - accuracy: 0.7998 - precision: 0.8531 - recall: 0.8268\n",
            "Epoch 67/100\n",
            "162/162 [==============================] - 1s 7ms/step - loss: 0.6403 - accuracy: 0.7988 - precision: 0.8583 - recall: 0.8180\n",
            "Epoch 68/100\n",
            "162/162 [==============================] - 1s 7ms/step - loss: 0.4428 - accuracy: 0.7946 - precision: 0.8532 - recall: 0.8168\n",
            "Epoch 69/100\n",
            "162/162 [==============================] - 1s 7ms/step - loss: 0.4410 - accuracy: 0.8006 - precision: 0.8571 - recall: 0.8229\n",
            "Epoch 70/100\n",
            "162/162 [==============================] - 1s 7ms/step - loss: 0.4301 - accuracy: 0.8064 - precision: 0.8607 - recall: 0.8290\n",
            "Epoch 71/100\n",
            "162/162 [==============================] - 1s 7ms/step - loss: 0.4285 - accuracy: 0.8074 - precision: 0.8619 - recall: 0.8293\n",
            "Epoch 72/100\n",
            "162/162 [==============================] - 1s 7ms/step - loss: 0.4253 - accuracy: 0.8075 - precision: 0.8628 - recall: 0.8284\n",
            "Epoch 73/100\n",
            "162/162 [==============================] - 1s 7ms/step - loss: 0.4220 - accuracy: 0.8079 - precision: 0.8659 - recall: 0.8250\n",
            "Epoch 74/100\n",
            "162/162 [==============================] - 1s 7ms/step - loss: 0.4250 - accuracy: 0.8056 - precision: 0.8610 - recall: 0.8271\n",
            "Epoch 75/100\n",
            "162/162 [==============================] - 1s 8ms/step - loss: 0.4292 - accuracy: 0.8072 - precision: 0.8648 - recall: 0.8250\n",
            "Epoch 76/100\n",
            "162/162 [==============================] - 1s 7ms/step - loss: 0.5055 - accuracy: 0.7907 - precision: 0.8584 - recall: 0.8024\n",
            "Epoch 77/100\n",
            "162/162 [==============================] - 1s 8ms/step - loss: 0.4458 - accuracy: 0.7911 - precision: 0.8477 - recall: 0.8177\n",
            "Epoch 78/100\n",
            "162/162 [==============================] - 1s 8ms/step - loss: 0.4253 - accuracy: 0.8048 - precision: 0.8590 - recall: 0.8284\n",
            "Epoch 79/100\n",
            "162/162 [==============================] - 1s 8ms/step - loss: 0.4129 - accuracy: 0.8132 - precision: 0.8666 - recall: 0.8338\n",
            "Epoch 80/100\n",
            "162/162 [==============================] - 1s 7ms/step - loss: 0.5085 - accuracy: 0.7859 - precision: 0.8352 - recall: 0.8253\n",
            "Epoch 81/100\n",
            "162/162 [==============================] - 1s 7ms/step - loss: 0.4552 - accuracy: 0.7915 - precision: 0.8462 - recall: 0.8204\n",
            "Epoch 82/100\n",
            "162/162 [==============================] - 1s 7ms/step - loss: 0.4293 - accuracy: 0.8043 - precision: 0.8542 - recall: 0.8338\n",
            "Epoch 83/100\n",
            "162/162 [==============================] - 1s 7ms/step - loss: 0.4237 - accuracy: 0.8128 - precision: 0.8684 - recall: 0.8308\n",
            "Epoch 84/100\n",
            "162/162 [==============================] - 1s 7ms/step - loss: 0.4216 - accuracy: 0.8135 - precision: 0.8672 - recall: 0.8338\n",
            "Epoch 85/100\n",
            "162/162 [==============================] - 1s 7ms/step - loss: 0.4195 - accuracy: 0.8081 - precision: 0.8724 - recall: 0.8171\n",
            "Epoch 86/100\n",
            "162/162 [==============================] - 1s 7ms/step - loss: 0.4415 - accuracy: 0.7957 - precision: 0.8787 - recall: 0.7866\n",
            "Epoch 87/100\n",
            "162/162 [==============================] - 1s 7ms/step - loss: 0.4055 - accuracy: 0.8217 - precision: 0.8748 - recall: 0.8390\n",
            "Epoch 88/100\n",
            "162/162 [==============================] - 1s 7ms/step - loss: 0.4051 - accuracy: 0.8182 - precision: 0.8717 - recall: 0.8366\n",
            "Epoch 89/100\n",
            "162/162 [==============================] - 1s 7ms/step - loss: 0.4012 - accuracy: 0.8222 - precision: 0.8780 - recall: 0.8360\n",
            "Epoch 90/100\n",
            "162/162 [==============================] - 1s 7ms/step - loss: 0.4296 - accuracy: 0.8159 - precision: 0.8748 - recall: 0.8284\n",
            "Epoch 91/100\n",
            "162/162 [==============================] - 1s 7ms/step - loss: 0.5947 - accuracy: 0.7292 - precision: 0.8775 - recall: 0.6662\n",
            "Epoch 92/100\n",
            "162/162 [==============================] - 1s 7ms/step - loss: 0.4585 - accuracy: 0.7810 - precision: 0.8563 - recall: 0.7869\n",
            "Epoch 93/100\n",
            "162/162 [==============================] - 1s 7ms/step - loss: 0.4318 - accuracy: 0.8046 - precision: 0.8652 - recall: 0.8198\n",
            "Epoch 94/100\n",
            "162/162 [==============================] - 1s 7ms/step - loss: 0.4169 - accuracy: 0.8137 - precision: 0.8733 - recall: 0.8262\n",
            "Epoch 95/100\n",
            "162/162 [==============================] - 1s 8ms/step - loss: 0.4120 - accuracy: 0.8172 - precision: 0.8734 - recall: 0.8326\n",
            "Epoch 96/100\n",
            "162/162 [==============================] - 1s 7ms/step - loss: 0.4117 - accuracy: 0.8166 - precision: 0.8728 - recall: 0.8323\n",
            "Epoch 97/100\n",
            "162/162 [==============================] - 1s 7ms/step - loss: 0.4064 - accuracy: 0.8205 - precision: 0.8767 - recall: 0.8345\n",
            "Epoch 98/100\n",
            "162/162 [==============================] - 1s 7ms/step - loss: 0.4081 - accuracy: 0.8168 - precision: 0.8742 - recall: 0.8308\n",
            "Epoch 99/100\n",
            "162/162 [==============================] - 1s 7ms/step - loss: 0.4048 - accuracy: 0.8244 - precision: 0.8794 - recall: 0.8381\n",
            "Epoch 100/100\n",
            "162/162 [==============================] - 1s 7ms/step - loss: 0.3995 - accuracy: 0.8215 - precision: 0.8791 - recall: 0.8332\n"
          ]
        }
      ]
    },
    {
      "cell_type": "markdown",
      "metadata": {
        "id": "e77ca6f0-716a-43e1-86a6-62650708dd64"
      },
      "source": [
        "<br>\n",
        "\n",
        "# Model performance visualization"
      ],
      "id": "e77ca6f0-716a-43e1-86a6-62650708dd64"
    },
    {
      "cell_type": "code",
      "metadata": {
        "id": "03ffcfc3-5c07-411b-8add-5e0832d7b2eb"
      },
      "source": [
        "import matplotlib.pyplot as plt\n",
        "from matplotlib import rcParams\n",
        "\n",
        "rcParams['figure.figsize'] = (18, 8)\n",
        "rcParams['axes.spines.top'] = False\n",
        "rcParams['axes.spines.right'] = False"
      ],
      "id": "03ffcfc3-5c07-411b-8add-5e0832d7b2eb",
      "execution_count": null,
      "outputs": []
    },
    {
      "cell_type": "code",
      "metadata": {
        "id": "23d3587b-9851-4cff-8344-017ac5e588a9",
        "outputId": "96dbe410-212d-4f59-9f80-f248a21a6b5e"
      },
      "source": [
        "plt.plot(np.arange(1, 101), history.history['loss'], label='Loss')\n",
        "plt.plot(np.arange(1, 101), history.history['accuracy'], label='Accuracy')\n",
        "plt.plot(np.arange(1, 101), history.history['precision'], label='Precision')\n",
        "plt.plot(np.arange(1, 101), history.history['recall'], label='Recall')\n",
        "plt.title('Evaluation metrics', size=20)\n",
        "plt.xlabel('Epoch', size=14)\n",
        "plt.legend();"
      ],
      "id": "23d3587b-9851-4cff-8344-017ac5e588a9",
      "execution_count": null,
      "outputs": [
        {
          "data": {
            "image/png": "[encoded data removed]",
            "text/plain": [
              "<Figure size 1296x576 with 1 Axes>"
            ]
          },
          "metadata": {
            "needs_background": "light"
          },
          "output_type": "display_data"
        }
      ]
    },
    {
      "cell_type": "markdown",
      "metadata": {
        "id": "9c005cef-8865-41bb-abdd-82b7a166d24e"
      },
      "source": [
        "- You could keep training the model, as accuracy, precision, and recall seem to grow slightly"
      ],
      "id": "9c005cef-8865-41bb-abdd-82b7a166d24e"
    },
    {
      "cell_type": "markdown",
      "metadata": {
        "id": "6ab69ad0-2259-47b7-8bc9-dbc7476a56c3"
      },
      "source": [
        "<br>\n",
        "\n",
        "# Making predictions"
      ],
      "id": "6ab69ad0-2259-47b7-8bc9-dbc7476a56c3"
    },
    {
      "cell_type": "code",
      "metadata": {
        "id": "01211471-77a6-4142-a05e-de7a8b879f58",
        "outputId": "bc811ad4-0b7c-48c8-ab58-56d30280b30e"
      },
      "source": [
        "predictions = model.predict(X_test_scaled)\n",
        "predictions"
      ],
      "id": "01211471-77a6-4142-a05e-de7a8b879f58",
      "execution_count": null,
      "outputs": [
        {
          "name": "stderr",
          "output_type": "stream",
          "text": [
            "2021-10-12 11:49:29.139159: I tensorflow/core/grappler/optimizers/custom_graph_optimizer_registry.cc:112] Plugin optimizer for device_type GPU is enabled.\n"
          ]
        },
        {
          "data": {
            "text/plain": [
              "array([[0.33089876],\n",
              "       [0.31528813],\n",
              "       [0.59943026],\n",
              "       ...,\n",
              "       [0.79872453],\n",
              "       [0.3015677 ],\n",
              "       [0.5736396 ]], dtype=float32)"
            ]
          },
          "execution_count": 23,
          "metadata": {},
          "output_type": "execute_result"
        }
      ]
    },
    {
      "cell_type": "markdown",
      "metadata": {
        "id": "7b81dccb-6028-474d-b713-38a95a073f9b"
      },
      "source": [
        "- These are probabilities - here's how to convert them to classes (threshold = 0.5)"
      ],
      "id": "7b81dccb-6028-474d-b713-38a95a073f9b"
    },
    {
      "cell_type": "code",
      "metadata": {
        "id": "2677aea5-dc74-4a2d-8188-c2bd0a55a847",
        "outputId": "cf86d7ac-14d7-46c9-b8bf-2641ec26fb6a"
      },
      "source": [
        "prediction_classes = [1 if prob > 0.5 else 0 for prob in np.ravel(predictions)]\n",
        "print(prediction_classes[:20])"
      ],
      "id": "2677aea5-dc74-4a2d-8188-c2bd0a55a847",
      "execution_count": null,
      "outputs": [
        {
          "name": "stdout",
          "output_type": "stream",
          "text": [
            "[0, 0, 1, 1, 1, 0, 1, 0, 1, 1, 1, 0, 1, 1, 0, 0, 0, 1, 0, 1]\n"
          ]
        }
      ]
    },
    {
      "cell_type": "markdown",
      "metadata": {
        "id": "bccef621-132a-47c1-bb96-65ea416e6261"
      },
      "source": [
        "<br>\n",
        "\n",
        "# Model evaluation"
      ],
      "id": "bccef621-132a-47c1-bb96-65ea416e6261"
    },
    {
      "cell_type": "markdown",
      "metadata": {
        "id": "c97a0d83-64b0-4053-bd6a-deff0c3ddc43"
      },
      "source": [
        "- Evaluation on the test set:"
      ],
      "id": "c97a0d83-64b0-4053-bd6a-deff0c3ddc43"
    },
    {
      "cell_type": "code",
      "metadata": {
        "id": "4739bced-2dd0-49bb-9af5-72779ea911b2",
        "outputId": "863e8ea2-b5a1-41c6-fa55-7092a694aca1"
      },
      "source": [
        "loss, accuracy, precision, recall = model.evaluate(X_test_scaled, y_test)\n",
        "loss, accuracy, precision, recall"
      ],
      "id": "4739bced-2dd0-49bb-9af5-72779ea911b2",
      "execution_count": null,
      "outputs": [
        {
          "name": "stdout",
          "output_type": "stream",
          "text": [
            "20/41 [=============>................] - ETA: 0s - loss: 0.5541 - accuracy: 0.7328 - precision: 0.8520 - recall: 0.6980"
          ]
        },
        {
          "name": "stderr",
          "output_type": "stream",
          "text": [
            "2021-10-12 11:49:36.157210: I tensorflow/core/grappler/optimizers/custom_graph_optimizer_registry.cc:112] Plugin optimizer for device_type GPU is enabled.\n"
          ]
        },
        {
          "name": "stdout",
          "output_type": "stream",
          "text": [
            "41/41 [==============================] - 0s 6ms/step - loss: 0.5380 - accuracy: 0.7579 - precision: 0.8578 - recall: 0.7361\n"
          ]
        },
        {
          "data": {
            "text/plain": [
              "(0.5380053520202637, 0.7579273581504822, 0.857758641242981, 0.7361282110214233)"
            ]
          },
          "execution_count": 25,
          "metadata": {},
          "output_type": "execute_result"
        }
      ]
    },
    {
      "cell_type": "code",
      "metadata": {
        "id": "0a3a425e-b177-435d-b47c-670ef16a8007",
        "outputId": "ed7bda9d-698a-4a4a-ae57-2919edc55e07"
      },
      "source": [
        "from sklearn.metrics import confusion_matrix\n",
        "\n",
        "print(confusion_matrix(y_test, prediction_classes))"
      ],
      "id": "0a3a425e-b177-435d-b47c-670ef16a8007",
      "execution_count": null,
      "outputs": [
        {
          "name": "stdout",
          "output_type": "stream",
          "text": [
            "[[383  99]\n",
            " [214 597]]\n"
          ]
        }
      ]
    },
    {
      "cell_type": "markdown",
      "metadata": {
        "id": "233d3cfb-7d42-47d5-a1c8-dd86eb333eca"
      },
      "source": [
        "- 383 True Negatives, 597 True positives, 214 False negatives, 99 False positives\n",
        "- Further evaluation:"
      ],
      "id": "233d3cfb-7d42-47d5-a1c8-dd86eb333eca"
    },
    {
      "cell_type": "code",
      "metadata": {
        "id": "cd4b0afb-a242-4ea3-aef7-7105f8557bae",
        "outputId": "a72f78c6-b84c-4130-ea55-6ee072c9aac0"
      },
      "source": [
        "from sklearn.metrics import accuracy_score, precision_score, recall_score\n",
        "\n",
        "print(f'Accuracy:  {accuracy_score(y_test, prediction_classes):.2f}')\n",
        "print(f'Precision: {precision_score(y_test, prediction_classes):.2f}')\n",
        "print(f'Recall:    {recall_score(y_test, prediction_classes):.2f}')"
      ],
      "id": "cd4b0afb-a242-4ea3-aef7-7105f8557bae",
      "execution_count": null,
      "outputs": [
        {
          "name": "stdout",
          "output_type": "stream",
          "text": [
            "Accuracy:  0.76\n",
            "Precision: 0.86\n",
            "Recall:    0.74\n"
          ]
        }
      ]
    }
  ]
}