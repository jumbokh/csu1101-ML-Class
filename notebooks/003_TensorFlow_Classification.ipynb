{
  "nbformat": 4,
  "nbformat_minor": 5,
  "metadata": {
    "kernelspec": {
      "display_name": "Python 3 (ipykernel)",
      "language": "python",
      "name": "python3"
    },
    "language_info": {
      "codemirror_mode": {
        "name": "ipython",
        "version": 3
      },
      "file_extension": ".py",
      "mimetype": "text/x-python",
      "name": "python",
      "nbconvert_exporter": "python",
      "pygments_lexer": "ipython3",
      "version": "3.8.12"
    },
    "colab": {
      "name": "003_TensorFlow_Classification.ipynb",
      "provenance": []
    },
    "accelerator": "GPU"
  },
  "cells": [
    {
      "cell_type": "markdown",
      "metadata": {
        "id": "b47b18a0-f79d-4420-a39f-a454324156d9"
      },
      "source": [
        "# Dataset import and exploration\n",
        "- https://www.kaggle.com/shelvigarg/wine-quality-dataset"
      ],
      "id": "b47b18a0-f79d-4420-a39f-a454324156d9"
    },
    {
      "cell_type": "code",
      "metadata": {
        "id": "p58L1aROepqH",
        "outputId": "f2aad6bc-87d5-4c85-c2d7-4de28ae44c54",
        "colab": {
          "base_uri": "https://localhost:8080/"
        }
      },
      "source": [
        "from google.colab import drive\n",
        "drive.mount('/content/gdrive')\n",
        "!ln -fs /content/gdrive/My\\ Drive /app"
      ],
      "id": "p58L1aROepqH",
      "execution_count": 1,
      "outputs": [
        {
          "output_type": "stream",
          "name": "stdout",
          "text": [
            "Mounted at /content/gdrive\n"
          ]
        }
      ]
    },
    {
      "cell_type": "code",
      "metadata": {
        "id": "5MXennLce4kF",
        "outputId": "968de350-f00b-4309-8f66-e7cec12c6ace",
        "colab": {
          "base_uri": "https://localhost:8080/"
        }
      },
      "source": [
        "!tar -xzvf /app/cuDNN/cudnn-10.0-linux-x64-v7.5.0.56.tgz -C /usr/local/\n",
        "!chmod a+r /usr/local/cuda/include/cudnn.h\n",
        "\n",
        "# 檢查是否安裝成功\n",
        "!cat /usr/local/cuda/include/cudnn.h | grep CUDNN_MAJOR -A 2"
      ],
      "id": "5MXennLce4kF",
      "execution_count": 2,
      "outputs": [
        {
          "output_type": "stream",
          "name": "stdout",
          "text": [
            "cuda/include/cudnn.h\n",
            "cuda/NVIDIA_SLA_cuDNN_Support.txt\n",
            "cuda/lib64/libcudnn.so\n",
            "cuda/lib64/libcudnn.so.7\n",
            "cuda/lib64/libcudnn.so.7.5.0\n",
            "cuda/lib64/libcudnn_static.a\n",
            "#define CUDNN_MAJOR 7\n",
            "#define CUDNN_MINOR 5\n",
            "#define CUDNN_PATCHLEVEL 0\n",
            "--\n",
            "#define CUDNN_VERSION (CUDNN_MAJOR * 1000 + CUDNN_MINOR * 100 + CUDNN_PATCHLEVEL)\n",
            "\n",
            "#include \"driver_types.h\"\n"
          ]
        }
      ]
    },
    {
      "cell_type": "code",
      "metadata": {
        "id": "gTlsYAype6Yy",
        "outputId": "96d416b9-f8e6-4c4f-956c-1fa5302f0aa4",
        "colab": {
          "base_uri": "https://localhost:8080/"
        }
      },
      "source": [
        "%cd /app"
      ],
      "id": "gTlsYAype6Yy",
      "execution_count": 3,
      "outputs": [
        {
          "output_type": "stream",
          "name": "stdout",
          "text": [
            "/content/gdrive/My Drive\n"
          ]
        }
      ]
    },
    {
      "cell_type": "code",
      "metadata": {
        "colab": {
          "base_uri": "https://localhost:8080/",
          "height": 223
        },
        "id": "0fb79fae-c37c-4c12-bdfe-cc8ba051452f",
        "outputId": "9f3baecb-2a24-4b70-e4fa-a3accc05ff48"
      },
      "source": [
        "import numpy as np\n",
        "import pandas as pd \n",
        "\n",
        "df = pd.read_csv('/app/data/winequalityN.csv')\n",
        "df.sample(5)"
      ],
      "id": "0fb79fae-c37c-4c12-bdfe-cc8ba051452f",
      "execution_count": 4,
      "outputs": [
        {
          "output_type": "execute_result",
          "data": {
            "text/html": [
              "<div>\n",
              "<style scoped>\n",
              "    .dataframe tbody tr th:only-of-type {\n",
              "        vertical-align: middle;\n",
              "    }\n",
              "\n",
              "    .dataframe tbody tr th {\n",
              "        vertical-align: top;\n",
              "    }\n",
              "\n",
              "    .dataframe thead th {\n",
              "        text-align: right;\n",
              "    }\n",
              "</style>\n",
              "<table border=\"1\" class=\"dataframe\">\n",
              "  <thead>\n",
              "    <tr style=\"text-align: right;\">\n",
              "      <th></th>\n",
              "      <th>type</th>\n",
              "      <th>fixed acidity</th>\n",
              "      <th>volatile acidity</th>\n",
              "      <th>citric acid</th>\n",
              "      <th>residual sugar</th>\n",
              "      <th>chlorides</th>\n",
              "      <th>free sulfur dioxide</th>\n",
              "      <th>total sulfur dioxide</th>\n",
              "      <th>density</th>\n",
              "      <th>pH</th>\n",
              "      <th>sulphates</th>\n",
              "      <th>alcohol</th>\n",
              "      <th>quality</th>\n",
              "    </tr>\n",
              "  </thead>\n",
              "  <tbody>\n",
              "    <tr>\n",
              "      <th>1102</th>\n",
              "      <td>white</td>\n",
              "      <td>6.3</td>\n",
              "      <td>0.16</td>\n",
              "      <td>0.40</td>\n",
              "      <td>1.6</td>\n",
              "      <td>0.033</td>\n",
              "      <td>59.0</td>\n",
              "      <td>148.0</td>\n",
              "      <td>0.99140</td>\n",
              "      <td>3.44</td>\n",
              "      <td>0.53</td>\n",
              "      <td>11.4</td>\n",
              "      <td>5</td>\n",
              "    </tr>\n",
              "    <tr>\n",
              "      <th>2811</th>\n",
              "      <td>white</td>\n",
              "      <td>7.4</td>\n",
              "      <td>0.30</td>\n",
              "      <td>0.32</td>\n",
              "      <td>1.7</td>\n",
              "      <td>0.030</td>\n",
              "      <td>23.0</td>\n",
              "      <td>128.0</td>\n",
              "      <td>0.99290</td>\n",
              "      <td>3.17</td>\n",
              "      <td>0.66</td>\n",
              "      <td>10.9</td>\n",
              "      <td>5</td>\n",
              "    </tr>\n",
              "    <tr>\n",
              "      <th>5237</th>\n",
              "      <td>red</td>\n",
              "      <td>12.5</td>\n",
              "      <td>0.28</td>\n",
              "      <td>0.54</td>\n",
              "      <td>2.3</td>\n",
              "      <td>0.082</td>\n",
              "      <td>12.0</td>\n",
              "      <td>29.0</td>\n",
              "      <td>0.99970</td>\n",
              "      <td>3.11</td>\n",
              "      <td>1.36</td>\n",
              "      <td>9.8</td>\n",
              "      <td>7</td>\n",
              "    </tr>\n",
              "    <tr>\n",
              "      <th>4165</th>\n",
              "      <td>white</td>\n",
              "      <td>6.6</td>\n",
              "      <td>0.22</td>\n",
              "      <td>0.35</td>\n",
              "      <td>1.4</td>\n",
              "      <td>0.050</td>\n",
              "      <td>23.0</td>\n",
              "      <td>83.0</td>\n",
              "      <td>0.99019</td>\n",
              "      <td>3.17</td>\n",
              "      <td>0.48</td>\n",
              "      <td>12.0</td>\n",
              "      <td>7</td>\n",
              "    </tr>\n",
              "    <tr>\n",
              "      <th>1546</th>\n",
              "      <td>white</td>\n",
              "      <td>6.7</td>\n",
              "      <td>0.29</td>\n",
              "      <td>0.49</td>\n",
              "      <td>4.7</td>\n",
              "      <td>0.034</td>\n",
              "      <td>35.0</td>\n",
              "      <td>156.0</td>\n",
              "      <td>0.99450</td>\n",
              "      <td>3.13</td>\n",
              "      <td>0.45</td>\n",
              "      <td>9.9</td>\n",
              "      <td>6</td>\n",
              "    </tr>\n",
              "  </tbody>\n",
              "</table>\n",
              "</div>"
            ],
            "text/plain": [
              "       type  fixed acidity  volatile acidity  ...  sulphates  alcohol  quality\n",
              "1102  white            6.3              0.16  ...       0.53     11.4        5\n",
              "2811  white            7.4              0.30  ...       0.66     10.9        5\n",
              "5237    red           12.5              0.28  ...       1.36      9.8        7\n",
              "4165  white            6.6              0.22  ...       0.48     12.0        7\n",
              "1546  white            6.7              0.29  ...       0.45      9.9        6\n",
              "\n",
              "[5 rows x 13 columns]"
            ]
          },
          "metadata": {},
          "execution_count": 4
        }
      ]
    },
    {
      "cell_type": "code",
      "metadata": {
        "colab": {
          "base_uri": "https://localhost:8080/"
        },
        "id": "5689ffb8-1669-4357-8aef-6881bc454ce3",
        "outputId": "0ae8d396-ff5e-4c53-9538-67b6c5d2c0dc"
      },
      "source": [
        "df.shape"
      ],
      "id": "5689ffb8-1669-4357-8aef-6881bc454ce3",
      "execution_count": 5,
      "outputs": [
        {
          "output_type": "execute_result",
          "data": {
            "text/plain": [
              "(6497, 13)"
            ]
          },
          "metadata": {},
          "execution_count": 5
        }
      ]
    },
    {
      "cell_type": "code",
      "metadata": {
        "colab": {
          "base_uri": "https://localhost:8080/"
        },
        "id": "dfd172dc-747b-4d78-ae1b-e5cda329aad8",
        "outputId": "0a3cd25a-f697-4198-bc69-c55c043b60d8"
      },
      "source": [
        "df.isnull().sum()"
      ],
      "id": "dfd172dc-747b-4d78-ae1b-e5cda329aad8",
      "execution_count": 6,
      "outputs": [
        {
          "output_type": "execute_result",
          "data": {
            "text/plain": [
              "type                     0\n",
              "fixed acidity           10\n",
              "volatile acidity         8\n",
              "citric acid              3\n",
              "residual sugar           2\n",
              "chlorides                2\n",
              "free sulfur dioxide      0\n",
              "total sulfur dioxide     0\n",
              "density                  0\n",
              "pH                       9\n",
              "sulphates                4\n",
              "alcohol                  0\n",
              "quality                  0\n",
              "dtype: int64"
            ]
          },
          "metadata": {},
          "execution_count": 6
        }
      ]
    },
    {
      "cell_type": "markdown",
      "metadata": {
        "id": "c84ac2e3-2eee-43e5-8c7c-c65efbdc67c8"
      },
      "source": [
        "### Drop missing values:"
      ],
      "id": "c84ac2e3-2eee-43e5-8c7c-c65efbdc67c8"
    },
    {
      "cell_type": "code",
      "metadata": {
        "colab": {
          "base_uri": "https://localhost:8080/"
        },
        "id": "b199b75f-d79e-4dbe-b5c0-f9e2329eaad1",
        "outputId": "42ba9c5e-e8ec-46a0-d62c-1d4f3960bef0"
      },
      "source": [
        "df = df.dropna()\n",
        "df.isnull().sum()"
      ],
      "id": "b199b75f-d79e-4dbe-b5c0-f9e2329eaad1",
      "execution_count": 7,
      "outputs": [
        {
          "output_type": "execute_result",
          "data": {
            "text/plain": [
              "type                    0\n",
              "fixed acidity           0\n",
              "volatile acidity        0\n",
              "citric acid             0\n",
              "residual sugar          0\n",
              "chlorides               0\n",
              "free sulfur dioxide     0\n",
              "total sulfur dioxide    0\n",
              "density                 0\n",
              "pH                      0\n",
              "sulphates               0\n",
              "alcohol                 0\n",
              "quality                 0\n",
              "dtype: int64"
            ]
          },
          "metadata": {},
          "execution_count": 7
        }
      ]
    },
    {
      "cell_type": "markdown",
      "metadata": {
        "id": "1e59a240-b30a-4a6b-84ec-c718083cf71b"
      },
      "source": [
        "### Encode string data:"
      ],
      "id": "1e59a240-b30a-4a6b-84ec-c718083cf71b"
    },
    {
      "cell_type": "code",
      "metadata": {
        "colab": {
          "base_uri": "https://localhost:8080/"
        },
        "id": "4ba079fe-2505-416e-8d25-1301dd003e50",
        "outputId": "a10a1f22-364c-4af6-9ffe-462545a52b78"
      },
      "source": [
        "df['type'].value_counts()"
      ],
      "id": "4ba079fe-2505-416e-8d25-1301dd003e50",
      "execution_count": 8,
      "outputs": [
        {
          "output_type": "execute_result",
          "data": {
            "text/plain": [
              "white    4870\n",
              "red      1593\n",
              "Name: type, dtype: int64"
            ]
          },
          "metadata": {},
          "execution_count": 8
        }
      ]
    },
    {
      "cell_type": "code",
      "metadata": {
        "colab": {
          "base_uri": "https://localhost:8080/",
          "height": 223
        },
        "id": "ab6cf081-e757-4e4a-9a0b-621f1a5e5227",
        "outputId": "10930d97-0aca-46b2-fe9f-8b6503296f17"
      },
      "source": [
        "df['is_white_wine'] = [1 if typ == 'white' else 0 for typ in df['type']]\n",
        "df.drop('type', axis=1, inplace=True)\n",
        "\n",
        "df.head()"
      ],
      "id": "ab6cf081-e757-4e4a-9a0b-621f1a5e5227",
      "execution_count": 9,
      "outputs": [
        {
          "output_type": "execute_result",
          "data": {
            "text/html": [
              "<div>\n",
              "<style scoped>\n",
              "    .dataframe tbody tr th:only-of-type {\n",
              "        vertical-align: middle;\n",
              "    }\n",
              "\n",
              "    .dataframe tbody tr th {\n",
              "        vertical-align: top;\n",
              "    }\n",
              "\n",
              "    .dataframe thead th {\n",
              "        text-align: right;\n",
              "    }\n",
              "</style>\n",
              "<table border=\"1\" class=\"dataframe\">\n",
              "  <thead>\n",
              "    <tr style=\"text-align: right;\">\n",
              "      <th></th>\n",
              "      <th>fixed acidity</th>\n",
              "      <th>volatile acidity</th>\n",
              "      <th>citric acid</th>\n",
              "      <th>residual sugar</th>\n",
              "      <th>chlorides</th>\n",
              "      <th>free sulfur dioxide</th>\n",
              "      <th>total sulfur dioxide</th>\n",
              "      <th>density</th>\n",
              "      <th>pH</th>\n",
              "      <th>sulphates</th>\n",
              "      <th>alcohol</th>\n",
              "      <th>quality</th>\n",
              "      <th>is_white_wine</th>\n",
              "    </tr>\n",
              "  </thead>\n",
              "  <tbody>\n",
              "    <tr>\n",
              "      <th>0</th>\n",
              "      <td>7.0</td>\n",
              "      <td>0.27</td>\n",
              "      <td>0.36</td>\n",
              "      <td>20.7</td>\n",
              "      <td>0.045</td>\n",
              "      <td>45.0</td>\n",
              "      <td>170.0</td>\n",
              "      <td>1.0010</td>\n",
              "      <td>3.00</td>\n",
              "      <td>0.45</td>\n",
              "      <td>8.8</td>\n",
              "      <td>6</td>\n",
              "      <td>1</td>\n",
              "    </tr>\n",
              "    <tr>\n",
              "      <th>1</th>\n",
              "      <td>6.3</td>\n",
              "      <td>0.30</td>\n",
              "      <td>0.34</td>\n",
              "      <td>1.6</td>\n",
              "      <td>0.049</td>\n",
              "      <td>14.0</td>\n",
              "      <td>132.0</td>\n",
              "      <td>0.9940</td>\n",
              "      <td>3.30</td>\n",
              "      <td>0.49</td>\n",
              "      <td>9.5</td>\n",
              "      <td>6</td>\n",
              "      <td>1</td>\n",
              "    </tr>\n",
              "    <tr>\n",
              "      <th>2</th>\n",
              "      <td>8.1</td>\n",
              "      <td>0.28</td>\n",
              "      <td>0.40</td>\n",
              "      <td>6.9</td>\n",
              "      <td>0.050</td>\n",
              "      <td>30.0</td>\n",
              "      <td>97.0</td>\n",
              "      <td>0.9951</td>\n",
              "      <td>3.26</td>\n",
              "      <td>0.44</td>\n",
              "      <td>10.1</td>\n",
              "      <td>6</td>\n",
              "      <td>1</td>\n",
              "    </tr>\n",
              "    <tr>\n",
              "      <th>3</th>\n",
              "      <td>7.2</td>\n",
              "      <td>0.23</td>\n",
              "      <td>0.32</td>\n",
              "      <td>8.5</td>\n",
              "      <td>0.058</td>\n",
              "      <td>47.0</td>\n",
              "      <td>186.0</td>\n",
              "      <td>0.9956</td>\n",
              "      <td>3.19</td>\n",
              "      <td>0.40</td>\n",
              "      <td>9.9</td>\n",
              "      <td>6</td>\n",
              "      <td>1</td>\n",
              "    </tr>\n",
              "    <tr>\n",
              "      <th>4</th>\n",
              "      <td>7.2</td>\n",
              "      <td>0.23</td>\n",
              "      <td>0.32</td>\n",
              "      <td>8.5</td>\n",
              "      <td>0.058</td>\n",
              "      <td>47.0</td>\n",
              "      <td>186.0</td>\n",
              "      <td>0.9956</td>\n",
              "      <td>3.19</td>\n",
              "      <td>0.40</td>\n",
              "      <td>9.9</td>\n",
              "      <td>6</td>\n",
              "      <td>1</td>\n",
              "    </tr>\n",
              "  </tbody>\n",
              "</table>\n",
              "</div>"
            ],
            "text/plain": [
              "   fixed acidity  volatile acidity  ...  quality  is_white_wine\n",
              "0            7.0              0.27  ...        6              1\n",
              "1            6.3              0.30  ...        6              1\n",
              "2            8.1              0.28  ...        6              1\n",
              "3            7.2              0.23  ...        6              1\n",
              "4            7.2              0.23  ...        6              1\n",
              "\n",
              "[5 rows x 13 columns]"
            ]
          },
          "metadata": {},
          "execution_count": 9
        }
      ]
    },
    {
      "cell_type": "markdown",
      "metadata": {
        "id": "2fcf6432-d51f-4c58-9a8c-c7569f208ff7"
      },
      "source": [
        "### All data is numeric now:"
      ],
      "id": "2fcf6432-d51f-4c58-9a8c-c7569f208ff7"
    },
    {
      "cell_type": "code",
      "metadata": {
        "colab": {
          "base_uri": "https://localhost:8080/"
        },
        "id": "2c6a7629-1daf-4c1c-b72f-0ae869666afb",
        "outputId": "cb4a902f-e99f-48c2-ee51-513b0c2d6c38"
      },
      "source": [
        "df.dtypes"
      ],
      "id": "2c6a7629-1daf-4c1c-b72f-0ae869666afb",
      "execution_count": 10,
      "outputs": [
        {
          "output_type": "execute_result",
          "data": {
            "text/plain": [
              "fixed acidity           float64\n",
              "volatile acidity        float64\n",
              "citric acid             float64\n",
              "residual sugar          float64\n",
              "chlorides               float64\n",
              "free sulfur dioxide     float64\n",
              "total sulfur dioxide    float64\n",
              "density                 float64\n",
              "pH                      float64\n",
              "sulphates               float64\n",
              "alcohol                 float64\n",
              "quality                   int64\n",
              "is_white_wine             int64\n",
              "dtype: object"
            ]
          },
          "metadata": {},
          "execution_count": 10
        }
      ]
    },
    {
      "cell_type": "markdown",
      "metadata": {
        "id": "894e5047-b462-4450-bff8-9c333f6c7203"
      },
      "source": [
        "<br>\n",
        "\n",
        "# Convert to a binary classification problem\n",
        "- This is not a binary classification problem by default\n",
        "- We can make it one by declaring wines above some quality point good wines and rest of them bad wines"
      ],
      "id": "894e5047-b462-4450-bff8-9c333f6c7203"
    },
    {
      "cell_type": "code",
      "metadata": {
        "colab": {
          "base_uri": "https://localhost:8080/"
        },
        "id": "3fc6d527-53a3-47e0-9ea6-df6b70f3dcaa",
        "outputId": "a3dcbbb8-8e3a-490c-bd44-8d93115fc548"
      },
      "source": [
        "df['quality'].value_counts()"
      ],
      "id": "3fc6d527-53a3-47e0-9ea6-df6b70f3dcaa",
      "execution_count": 11,
      "outputs": [
        {
          "output_type": "execute_result",
          "data": {
            "text/plain": [
              "6    2820\n",
              "5    2128\n",
              "7    1074\n",
              "4     214\n",
              "8     192\n",
              "3      30\n",
              "9       5\n",
              "Name: quality, dtype: int64"
            ]
          },
          "metadata": {},
          "execution_count": 11
        }
      ]
    },
    {
      "cell_type": "markdown",
      "metadata": {
        "id": "7cdf0001-afd7-40af-8cd9-abe884f89ceb"
      },
      "source": [
        "- So we'll have 63.3% good wines and the rest are bad"
      ],
      "id": "7cdf0001-afd7-40af-8cd9-abe884f89ceb"
    },
    {
      "cell_type": "code",
      "metadata": {
        "colab": {
          "base_uri": "https://localhost:8080/"
        },
        "id": "356e38de-0c67-456d-b9ac-c560f7845fff",
        "outputId": "55519410-6e95-41c9-9b84-1a4328024e2b"
      },
      "source": [
        "len(df[df['quality'] >= 6]) / len(df)"
      ],
      "id": "356e38de-0c67-456d-b9ac-c560f7845fff",
      "execution_count": 12,
      "outputs": [
        {
          "output_type": "execute_result",
          "data": {
            "text/plain": [
              "0.6329877765743462"
            ]
          },
          "metadata": {},
          "execution_count": 12
        }
      ]
    },
    {
      "cell_type": "code",
      "metadata": {
        "colab": {
          "base_uri": "https://localhost:8080/",
          "height": 223
        },
        "id": "310f8c4b-f1f2-4621-be93-90f19f6c5fb3",
        "outputId": "ee5af26b-139f-4ac1-9b01-733a2412fc2e"
      },
      "source": [
        "df['is_good_wine'] = [1 if quality >= 6 else 0 for quality in df['quality']]\n",
        "df.drop('quality', axis=1, inplace=True)\n",
        "\n",
        "df.head()"
      ],
      "id": "310f8c4b-f1f2-4621-be93-90f19f6c5fb3",
      "execution_count": 13,
      "outputs": [
        {
          "output_type": "execute_result",
          "data": {
            "text/html": [
              "<div>\n",
              "<style scoped>\n",
              "    .dataframe tbody tr th:only-of-type {\n",
              "        vertical-align: middle;\n",
              "    }\n",
              "\n",
              "    .dataframe tbody tr th {\n",
              "        vertical-align: top;\n",
              "    }\n",
              "\n",
              "    .dataframe thead th {\n",
              "        text-align: right;\n",
              "    }\n",
              "</style>\n",
              "<table border=\"1\" class=\"dataframe\">\n",
              "  <thead>\n",
              "    <tr style=\"text-align: right;\">\n",
              "      <th></th>\n",
              "      <th>fixed acidity</th>\n",
              "      <th>volatile acidity</th>\n",
              "      <th>citric acid</th>\n",
              "      <th>residual sugar</th>\n",
              "      <th>chlorides</th>\n",
              "      <th>free sulfur dioxide</th>\n",
              "      <th>total sulfur dioxide</th>\n",
              "      <th>density</th>\n",
              "      <th>pH</th>\n",
              "      <th>sulphates</th>\n",
              "      <th>alcohol</th>\n",
              "      <th>is_white_wine</th>\n",
              "      <th>is_good_wine</th>\n",
              "    </tr>\n",
              "  </thead>\n",
              "  <tbody>\n",
              "    <tr>\n",
              "      <th>0</th>\n",
              "      <td>7.0</td>\n",
              "      <td>0.27</td>\n",
              "      <td>0.36</td>\n",
              "      <td>20.7</td>\n",
              "      <td>0.045</td>\n",
              "      <td>45.0</td>\n",
              "      <td>170.0</td>\n",
              "      <td>1.0010</td>\n",
              "      <td>3.00</td>\n",
              "      <td>0.45</td>\n",
              "      <td>8.8</td>\n",
              "      <td>1</td>\n",
              "      <td>1</td>\n",
              "    </tr>\n",
              "    <tr>\n",
              "      <th>1</th>\n",
              "      <td>6.3</td>\n",
              "      <td>0.30</td>\n",
              "      <td>0.34</td>\n",
              "      <td>1.6</td>\n",
              "      <td>0.049</td>\n",
              "      <td>14.0</td>\n",
              "      <td>132.0</td>\n",
              "      <td>0.9940</td>\n",
              "      <td>3.30</td>\n",
              "      <td>0.49</td>\n",
              "      <td>9.5</td>\n",
              "      <td>1</td>\n",
              "      <td>1</td>\n",
              "    </tr>\n",
              "    <tr>\n",
              "      <th>2</th>\n",
              "      <td>8.1</td>\n",
              "      <td>0.28</td>\n",
              "      <td>0.40</td>\n",
              "      <td>6.9</td>\n",
              "      <td>0.050</td>\n",
              "      <td>30.0</td>\n",
              "      <td>97.0</td>\n",
              "      <td>0.9951</td>\n",
              "      <td>3.26</td>\n",
              "      <td>0.44</td>\n",
              "      <td>10.1</td>\n",
              "      <td>1</td>\n",
              "      <td>1</td>\n",
              "    </tr>\n",
              "    <tr>\n",
              "      <th>3</th>\n",
              "      <td>7.2</td>\n",
              "      <td>0.23</td>\n",
              "      <td>0.32</td>\n",
              "      <td>8.5</td>\n",
              "      <td>0.058</td>\n",
              "      <td>47.0</td>\n",
              "      <td>186.0</td>\n",
              "      <td>0.9956</td>\n",
              "      <td>3.19</td>\n",
              "      <td>0.40</td>\n",
              "      <td>9.9</td>\n",
              "      <td>1</td>\n",
              "      <td>1</td>\n",
              "    </tr>\n",
              "    <tr>\n",
              "      <th>4</th>\n",
              "      <td>7.2</td>\n",
              "      <td>0.23</td>\n",
              "      <td>0.32</td>\n",
              "      <td>8.5</td>\n",
              "      <td>0.058</td>\n",
              "      <td>47.0</td>\n",
              "      <td>186.0</td>\n",
              "      <td>0.9956</td>\n",
              "      <td>3.19</td>\n",
              "      <td>0.40</td>\n",
              "      <td>9.9</td>\n",
              "      <td>1</td>\n",
              "      <td>1</td>\n",
              "    </tr>\n",
              "  </tbody>\n",
              "</table>\n",
              "</div>"
            ],
            "text/plain": [
              "   fixed acidity  volatile acidity  ...  is_white_wine  is_good_wine\n",
              "0            7.0              0.27  ...              1             1\n",
              "1            6.3              0.30  ...              1             1\n",
              "2            8.1              0.28  ...              1             1\n",
              "3            7.2              0.23  ...              1             1\n",
              "4            7.2              0.23  ...              1             1\n",
              "\n",
              "[5 rows x 13 columns]"
            ]
          },
          "metadata": {},
          "execution_count": 13
        }
      ]
    },
    {
      "cell_type": "code",
      "metadata": {
        "colab": {
          "base_uri": "https://localhost:8080/"
        },
        "id": "3297cfe8-e1e4-40bc-9000-0bd669297452",
        "outputId": "e654254e-2ff7-4314-d223-d187d9092c80"
      },
      "source": [
        "df['is_good_wine'].value_counts()"
      ],
      "id": "3297cfe8-e1e4-40bc-9000-0bd669297452",
      "execution_count": 14,
      "outputs": [
        {
          "output_type": "execute_result",
          "data": {
            "text/plain": [
              "1    4091\n",
              "0    2372\n",
              "Name: is_good_wine, dtype: int64"
            ]
          },
          "metadata": {},
          "execution_count": 14
        }
      ]
    },
    {
      "cell_type": "code",
      "metadata": {
        "colab": {
          "base_uri": "https://localhost:8080/",
          "height": 223
        },
        "id": "f32bc6c4-af3d-46ef-bdf6-f23f0e5358a0",
        "outputId": "247c30b2-1924-4340-e2da-18586933792a"
      },
      "source": [
        "df.head()"
      ],
      "id": "f32bc6c4-af3d-46ef-bdf6-f23f0e5358a0",
      "execution_count": 15,
      "outputs": [
        {
          "output_type": "execute_result",
          "data": {
            "text/html": [
              "<div>\n",
              "<style scoped>\n",
              "    .dataframe tbody tr th:only-of-type {\n",
              "        vertical-align: middle;\n",
              "    }\n",
              "\n",
              "    .dataframe tbody tr th {\n",
              "        vertical-align: top;\n",
              "    }\n",
              "\n",
              "    .dataframe thead th {\n",
              "        text-align: right;\n",
              "    }\n",
              "</style>\n",
              "<table border=\"1\" class=\"dataframe\">\n",
              "  <thead>\n",
              "    <tr style=\"text-align: right;\">\n",
              "      <th></th>\n",
              "      <th>fixed acidity</th>\n",
              "      <th>volatile acidity</th>\n",
              "      <th>citric acid</th>\n",
              "      <th>residual sugar</th>\n",
              "      <th>chlorides</th>\n",
              "      <th>free sulfur dioxide</th>\n",
              "      <th>total sulfur dioxide</th>\n",
              "      <th>density</th>\n",
              "      <th>pH</th>\n",
              "      <th>sulphates</th>\n",
              "      <th>alcohol</th>\n",
              "      <th>is_white_wine</th>\n",
              "      <th>is_good_wine</th>\n",
              "    </tr>\n",
              "  </thead>\n",
              "  <tbody>\n",
              "    <tr>\n",
              "      <th>0</th>\n",
              "      <td>7.0</td>\n",
              "      <td>0.27</td>\n",
              "      <td>0.36</td>\n",
              "      <td>20.7</td>\n",
              "      <td>0.045</td>\n",
              "      <td>45.0</td>\n",
              "      <td>170.0</td>\n",
              "      <td>1.0010</td>\n",
              "      <td>3.00</td>\n",
              "      <td>0.45</td>\n",
              "      <td>8.8</td>\n",
              "      <td>1</td>\n",
              "      <td>1</td>\n",
              "    </tr>\n",
              "    <tr>\n",
              "      <th>1</th>\n",
              "      <td>6.3</td>\n",
              "      <td>0.30</td>\n",
              "      <td>0.34</td>\n",
              "      <td>1.6</td>\n",
              "      <td>0.049</td>\n",
              "      <td>14.0</td>\n",
              "      <td>132.0</td>\n",
              "      <td>0.9940</td>\n",
              "      <td>3.30</td>\n",
              "      <td>0.49</td>\n",
              "      <td>9.5</td>\n",
              "      <td>1</td>\n",
              "      <td>1</td>\n",
              "    </tr>\n",
              "    <tr>\n",
              "      <th>2</th>\n",
              "      <td>8.1</td>\n",
              "      <td>0.28</td>\n",
              "      <td>0.40</td>\n",
              "      <td>6.9</td>\n",
              "      <td>0.050</td>\n",
              "      <td>30.0</td>\n",
              "      <td>97.0</td>\n",
              "      <td>0.9951</td>\n",
              "      <td>3.26</td>\n",
              "      <td>0.44</td>\n",
              "      <td>10.1</td>\n",
              "      <td>1</td>\n",
              "      <td>1</td>\n",
              "    </tr>\n",
              "    <tr>\n",
              "      <th>3</th>\n",
              "      <td>7.2</td>\n",
              "      <td>0.23</td>\n",
              "      <td>0.32</td>\n",
              "      <td>8.5</td>\n",
              "      <td>0.058</td>\n",
              "      <td>47.0</td>\n",
              "      <td>186.0</td>\n",
              "      <td>0.9956</td>\n",
              "      <td>3.19</td>\n",
              "      <td>0.40</td>\n",
              "      <td>9.9</td>\n",
              "      <td>1</td>\n",
              "      <td>1</td>\n",
              "    </tr>\n",
              "    <tr>\n",
              "      <th>4</th>\n",
              "      <td>7.2</td>\n",
              "      <td>0.23</td>\n",
              "      <td>0.32</td>\n",
              "      <td>8.5</td>\n",
              "      <td>0.058</td>\n",
              "      <td>47.0</td>\n",
              "      <td>186.0</td>\n",
              "      <td>0.9956</td>\n",
              "      <td>3.19</td>\n",
              "      <td>0.40</td>\n",
              "      <td>9.9</td>\n",
              "      <td>1</td>\n",
              "      <td>1</td>\n",
              "    </tr>\n",
              "  </tbody>\n",
              "</table>\n",
              "</div>"
            ],
            "text/plain": [
              "   fixed acidity  volatile acidity  ...  is_white_wine  is_good_wine\n",
              "0            7.0              0.27  ...              1             1\n",
              "1            6.3              0.30  ...              1             1\n",
              "2            8.1              0.28  ...              1             1\n",
              "3            7.2              0.23  ...              1             1\n",
              "4            7.2              0.23  ...              1             1\n",
              "\n",
              "[5 rows x 13 columns]"
            ]
          },
          "metadata": {},
          "execution_count": 15
        }
      ]
    },
    {
      "cell_type": "markdown",
      "metadata": {
        "id": "9813fdf1-3903-4cc9-8398-f3fef2e9ec88"
      },
      "source": [
        "<br>\n",
        "\n",
        "# Train/Test split"
      ],
      "id": "9813fdf1-3903-4cc9-8398-f3fef2e9ec88"
    },
    {
      "cell_type": "code",
      "metadata": {
        "id": "d3bf1737-b194-4944-8030-85dc727a9006"
      },
      "source": [
        "from sklearn.model_selection import train_test_split\n",
        "\n",
        "X = df.drop('is_good_wine', axis=1)\n",
        "y = df['is_good_wine']\n",
        "\n",
        "X_train, X_test, y_train, y_test = train_test_split(\n",
        "    X, y, \n",
        "    test_size=0.2, random_state=42\n",
        ")"
      ],
      "id": "d3bf1737-b194-4944-8030-85dc727a9006",
      "execution_count": 16,
      "outputs": []
    },
    {
      "cell_type": "code",
      "metadata": {
        "colab": {
          "base_uri": "https://localhost:8080/"
        },
        "id": "9d77266c-ef78-43b0-8dec-c78629bc669b",
        "outputId": "e2993eb8-0a96-4ae4-fe0f-7647f500abc1"
      },
      "source": [
        "X_train.shape, X_test.shape"
      ],
      "id": "9d77266c-ef78-43b0-8dec-c78629bc669b",
      "execution_count": 17,
      "outputs": [
        {
          "output_type": "execute_result",
          "data": {
            "text/plain": [
              "((5170, 12), (1293, 12))"
            ]
          },
          "metadata": {},
          "execution_count": 17
        }
      ]
    },
    {
      "cell_type": "code",
      "metadata": {
        "colab": {
          "base_uri": "https://localhost:8080/",
          "height": 223
        },
        "id": "92439aaa-3eee-4905-8fd3-f4be2ddda76c",
        "outputId": "304d3a9a-7dc8-4b5d-fc2d-a90a3a7bed8d"
      },
      "source": [
        "X_train.head()"
      ],
      "id": "92439aaa-3eee-4905-8fd3-f4be2ddda76c",
      "execution_count": 18,
      "outputs": [
        {
          "output_type": "execute_result",
          "data": {
            "text/html": [
              "<div>\n",
              "<style scoped>\n",
              "    .dataframe tbody tr th:only-of-type {\n",
              "        vertical-align: middle;\n",
              "    }\n",
              "\n",
              "    .dataframe tbody tr th {\n",
              "        vertical-align: top;\n",
              "    }\n",
              "\n",
              "    .dataframe thead th {\n",
              "        text-align: right;\n",
              "    }\n",
              "</style>\n",
              "<table border=\"1\" class=\"dataframe\">\n",
              "  <thead>\n",
              "    <tr style=\"text-align: right;\">\n",
              "      <th></th>\n",
              "      <th>fixed acidity</th>\n",
              "      <th>volatile acidity</th>\n",
              "      <th>citric acid</th>\n",
              "      <th>residual sugar</th>\n",
              "      <th>chlorides</th>\n",
              "      <th>free sulfur dioxide</th>\n",
              "      <th>total sulfur dioxide</th>\n",
              "      <th>density</th>\n",
              "      <th>pH</th>\n",
              "      <th>sulphates</th>\n",
              "      <th>alcohol</th>\n",
              "      <th>is_white_wine</th>\n",
              "    </tr>\n",
              "  </thead>\n",
              "  <tbody>\n",
              "    <tr>\n",
              "      <th>459</th>\n",
              "      <td>6.1</td>\n",
              "      <td>0.43</td>\n",
              "      <td>0.35</td>\n",
              "      <td>9.1</td>\n",
              "      <td>0.059</td>\n",
              "      <td>83.0</td>\n",
              "      <td>249.0</td>\n",
              "      <td>0.99710</td>\n",
              "      <td>3.37</td>\n",
              "      <td>0.50</td>\n",
              "      <td>8.500000</td>\n",
              "      <td>1</td>\n",
              "    </tr>\n",
              "    <tr>\n",
              "      <th>1460</th>\n",
              "      <td>8.5</td>\n",
              "      <td>0.17</td>\n",
              "      <td>0.74</td>\n",
              "      <td>3.6</td>\n",
              "      <td>0.050</td>\n",
              "      <td>29.0</td>\n",
              "      <td>128.0</td>\n",
              "      <td>0.99280</td>\n",
              "      <td>3.28</td>\n",
              "      <td>0.40</td>\n",
              "      <td>12.400000</td>\n",
              "      <td>1</td>\n",
              "    </tr>\n",
              "    <tr>\n",
              "      <th>4403</th>\n",
              "      <td>5.2</td>\n",
              "      <td>0.22</td>\n",
              "      <td>0.46</td>\n",
              "      <td>6.2</td>\n",
              "      <td>0.066</td>\n",
              "      <td>41.0</td>\n",
              "      <td>187.0</td>\n",
              "      <td>0.99362</td>\n",
              "      <td>3.19</td>\n",
              "      <td>0.42</td>\n",
              "      <td>9.733333</td>\n",
              "      <td>1</td>\n",
              "    </tr>\n",
              "    <tr>\n",
              "      <th>3828</th>\n",
              "      <td>6.3</td>\n",
              "      <td>0.40</td>\n",
              "      <td>0.24</td>\n",
              "      <td>5.1</td>\n",
              "      <td>0.036</td>\n",
              "      <td>43.0</td>\n",
              "      <td>131.0</td>\n",
              "      <td>0.99186</td>\n",
              "      <td>3.24</td>\n",
              "      <td>0.44</td>\n",
              "      <td>11.300000</td>\n",
              "      <td>1</td>\n",
              "    </tr>\n",
              "    <tr>\n",
              "      <th>4317</th>\n",
              "      <td>6.7</td>\n",
              "      <td>0.34</td>\n",
              "      <td>0.26</td>\n",
              "      <td>1.9</td>\n",
              "      <td>0.038</td>\n",
              "      <td>58.0</td>\n",
              "      <td>138.0</td>\n",
              "      <td>0.98930</td>\n",
              "      <td>3.00</td>\n",
              "      <td>0.47</td>\n",
              "      <td>12.200000</td>\n",
              "      <td>1</td>\n",
              "    </tr>\n",
              "  </tbody>\n",
              "</table>\n",
              "</div>"
            ],
            "text/plain": [
              "      fixed acidity  volatile acidity  ...    alcohol  is_white_wine\n",
              "459             6.1              0.43  ...   8.500000              1\n",
              "1460            8.5              0.17  ...  12.400000              1\n",
              "4403            5.2              0.22  ...   9.733333              1\n",
              "3828            6.3              0.40  ...  11.300000              1\n",
              "4317            6.7              0.34  ...  12.200000              1\n",
              "\n",
              "[5 rows x 12 columns]"
            ]
          },
          "metadata": {},
          "execution_count": 18
        }
      ]
    },
    {
      "cell_type": "markdown",
      "metadata": {
        "id": "bd392f14-7737-4c5f-a910-a22216ff2dc7"
      },
      "source": [
        "<br>\n",
        "\n",
        "# Data scaling\n",
        "- Input features aren't on the same scale, so we'll fix it quickly:"
      ],
      "id": "bd392f14-7737-4c5f-a910-a22216ff2dc7"
    },
    {
      "cell_type": "code",
      "metadata": {
        "id": "b635952f-0d8c-4e3a-976f-0ea422dff3b2"
      },
      "source": [
        "from sklearn.preprocessing import StandardScaler\n",
        "\n",
        "scaler = StandardScaler()\n",
        "X_train_scaled = scaler.fit_transform(X_train)\n",
        "X_test_scaled = scaler.transform(X_test)"
      ],
      "id": "b635952f-0d8c-4e3a-976f-0ea422dff3b2",
      "execution_count": 19,
      "outputs": []
    },
    {
      "cell_type": "code",
      "metadata": {
        "colab": {
          "base_uri": "https://localhost:8080/"
        },
        "id": "2d200c89-9261-4acf-b159-2041c734f4c2",
        "outputId": "52dd98a1-5f28-434c-b864-9d5acc9db25a"
      },
      "source": [
        "X_train_scaled[:3]"
      ],
      "id": "2d200c89-9261-4acf-b159-2041c734f4c2",
      "execution_count": 20,
      "outputs": [
        {
          "output_type": "execute_result",
          "data": {
            "text/plain": [
              "array([[-0.86265684,  0.56588915,  0.22079121,  0.75048207,  0.07674805,\n",
              "         2.9415276 ,  2.35882933,  0.788386  ,  0.94784355, -0.20357893,\n",
              "        -1.66472797,  0.57094748],\n",
              "       [ 0.99186667, -1.02945526,  2.92098728, -0.3929423 , -0.17512717,\n",
              "        -0.08344183,  0.21383119, -0.64578381,  0.38700578, -0.87653487,\n",
              "         1.63149383,  0.57094748],\n",
              "       [-1.55810316, -0.72265826,  0.98238498,  0.14758559,  0.27265101,\n",
              "         0.5887736 ,  1.25973937, -0.37229096, -0.17383198, -0.74194369,\n",
              "        -0.62233304,  0.57094748]])"
            ]
          },
          "metadata": {},
          "execution_count": 20
        }
      ]
    },
    {
      "cell_type": "markdown",
      "metadata": {
        "id": "29e3a432-4fb6-4b41-8842-66f570fde83a"
      },
      "source": [
        "<br>\n",
        "\n",
        "# Model training"
      ],
      "id": "29e3a432-4fb6-4b41-8842-66f570fde83a"
    },
    {
      "cell_type": "code",
      "metadata": {
        "id": "9bf6fa8d-4841-483c-b628-9cb9d96b08b3"
      },
      "source": [
        "import tensorflow as tf"
      ],
      "id": "9bf6fa8d-4841-483c-b628-9cb9d96b08b3",
      "execution_count": 21,
      "outputs": []
    },
    {
      "cell_type": "markdown",
      "metadata": {
        "id": "01feaafd-15f9-4ca2-b01c-2cfe0533c5d3"
      },
      "source": [
        "- This is a completely random neural network architecture\n",
        "- Use `sigmoid` as the activation function in the last layer when working with binary classification problems\n",
        "- Use `binary_crossentropy` as a loss function when working with binary classification problems\n",
        "- We'll track accuracy, precision, and recall and train for 100 epochs"
      ],
      "id": "01feaafd-15f9-4ca2-b01c-2cfe0533c5d3"
    },
    {
      "cell_type": "code",
      "metadata": {
        "colab": {
          "base_uri": "https://localhost:8080/"
        },
        "id": "ee41278f-bd2f-40e0-b630-42239351ba69",
        "outputId": "ef5d007a-272b-4aa5-8246-c495122b3f9a"
      },
      "source": [
        "tf.random.set_seed(42)\n",
        "\n",
        "model = tf.keras.Sequential([\n",
        "    tf.keras.layers.Dense(128, activation='relu'),\n",
        "    tf.keras.layers.Dense(256, activation='relu'),\n",
        "    tf.keras.layers.Dense(256, activation='relu'),\n",
        "    tf.keras.layers.Dense(1, activation='sigmoid')\n",
        "])\n",
        "\n",
        "model.compile(\n",
        "    loss=tf.keras.losses.binary_crossentropy,\n",
        "    optimizer=tf.keras.optimizers.Adam(lr=0.03),\n",
        "    metrics=[\n",
        "        tf.keras.metrics.BinaryAccuracy(name='accuracy'),\n",
        "        tf.keras.metrics.Precision(name='precision'),\n",
        "        tf.keras.metrics.Recall(name='recall')\n",
        "    ]\n",
        ")\n",
        "\n",
        "history = model.fit(X_train_scaled, y_train, epochs=100)"
      ],
      "id": "ee41278f-bd2f-40e0-b630-42239351ba69",
      "execution_count": 22,
      "outputs": [
        {
          "output_type": "stream",
          "name": "stderr",
          "text": [
            "/usr/local/lib/python3.7/dist-packages/keras/optimizer_v2/optimizer_v2.py:356: UserWarning: The `lr` argument is deprecated, use `learning_rate` instead.\n",
            "  \"The `lr` argument is deprecated, use `learning_rate` instead.\")\n"
          ]
        },
        {
          "output_type": "stream",
          "name": "stdout",
          "text": [
            "Epoch 1/100\n",
            "162/162 [==============================] - 5s 5ms/step - loss: 0.6092 - accuracy: 0.7219 - precision: 0.7594 - recall: 0.8220\n",
            "Epoch 2/100\n",
            "162/162 [==============================] - 1s 5ms/step - loss: 0.5274 - accuracy: 0.7366 - precision: 0.7649 - recall: 0.8442\n",
            "Epoch 3/100\n",
            "162/162 [==============================] - 1s 5ms/step - loss: 0.5169 - accuracy: 0.7453 - precision: 0.7708 - recall: 0.8518\n",
            "Epoch 4/100\n",
            "162/162 [==============================] - 1s 5ms/step - loss: 0.5133 - accuracy: 0.7617 - precision: 0.8033 - recall: 0.8268\n",
            "Epoch 5/100\n",
            "162/162 [==============================] - 1s 6ms/step - loss: 0.5199 - accuracy: 0.7551 - precision: 0.7917 - recall: 0.8332\n",
            "Epoch 6/100\n",
            "162/162 [==============================] - 1s 5ms/step - loss: 0.5042 - accuracy: 0.7528 - precision: 0.7880 - recall: 0.8351\n",
            "Epoch 7/100\n",
            "162/162 [==============================] - 1s 5ms/step - loss: 0.5122 - accuracy: 0.7549 - precision: 0.7903 - recall: 0.8354\n",
            "Epoch 8/100\n",
            "162/162 [==============================] - 1s 6ms/step - loss: 0.4999 - accuracy: 0.7553 - precision: 0.7790 - recall: 0.8576\n",
            "Epoch 9/100\n",
            "162/162 [==============================] - 1s 5ms/step - loss: 0.5417 - accuracy: 0.7321 - precision: 0.7778 - recall: 0.8088\n",
            "Epoch 10/100\n",
            "162/162 [==============================] - 1s 5ms/step - loss: 0.5336 - accuracy: 0.7296 - precision: 0.7706 - recall: 0.8171\n",
            "Epoch 11/100\n",
            "162/162 [==============================] - 1s 5ms/step - loss: 0.5059 - accuracy: 0.7538 - precision: 0.7767 - recall: 0.8588\n",
            "Epoch 12/100\n",
            "162/162 [==============================] - 1s 6ms/step - loss: 0.5059 - accuracy: 0.7544 - precision: 0.7973 - recall: 0.8216\n",
            "Epoch 13/100\n",
            "162/162 [==============================] - 1s 5ms/step - loss: 0.4982 - accuracy: 0.7530 - precision: 0.7990 - recall: 0.8159\n",
            "Epoch 14/100\n",
            "162/162 [==============================] - 1s 5ms/step - loss: 0.5018 - accuracy: 0.7602 - precision: 0.7936 - recall: 0.8405\n",
            "Epoch 15/100\n",
            "162/162 [==============================] - 1s 5ms/step - loss: 0.4998 - accuracy: 0.7565 - precision: 0.7945 - recall: 0.8311\n",
            "Epoch 16/100\n",
            "162/162 [==============================] - 1s 5ms/step - loss: 0.4865 - accuracy: 0.7592 - precision: 0.8132 - recall: 0.8055\n",
            "Epoch 17/100\n",
            "162/162 [==============================] - 1s 5ms/step - loss: 0.4910 - accuracy: 0.7478 - precision: 0.7896 - recall: 0.8213\n",
            "Epoch 18/100\n",
            "162/162 [==============================] - 1s 5ms/step - loss: 0.4869 - accuracy: 0.7652 - precision: 0.8006 - recall: 0.8387\n",
            "Epoch 19/100\n",
            "162/162 [==============================] - 1s 6ms/step - loss: 0.4778 - accuracy: 0.7663 - precision: 0.8331 - recall: 0.7899\n",
            "Epoch 20/100\n",
            "162/162 [==============================] - 1s 6ms/step - loss: 0.4815 - accuracy: 0.7694 - precision: 0.8240 - recall: 0.8095\n",
            "Epoch 21/100\n",
            "162/162 [==============================] - 1s 6ms/step - loss: 0.5201 - accuracy: 0.7590 - precision: 0.7951 - recall: 0.8354\n",
            "Epoch 22/100\n",
            "162/162 [==============================] - 1s 5ms/step - loss: 0.4960 - accuracy: 0.7524 - precision: 0.7996 - recall: 0.8137\n",
            "Epoch 23/100\n",
            "162/162 [==============================] - 1s 6ms/step - loss: 0.4830 - accuracy: 0.7526 - precision: 0.8254 - recall: 0.7738\n",
            "Epoch 24/100\n",
            "162/162 [==============================] - 1s 5ms/step - loss: 0.4748 - accuracy: 0.7675 - precision: 0.8402 - recall: 0.7823\n",
            "Epoch 25/100\n",
            "162/162 [==============================] - 1s 5ms/step - loss: 0.5211 - accuracy: 0.7524 - precision: 0.7938 - recall: 0.8238\n",
            "Epoch 26/100\n",
            "162/162 [==============================] - 1s 5ms/step - loss: 0.4774 - accuracy: 0.7603 - precision: 0.8266 - recall: 0.7875\n",
            "Epoch 27/100\n",
            "162/162 [==============================] - 1s 5ms/step - loss: 0.4913 - accuracy: 0.7646 - precision: 0.8131 - recall: 0.8168\n",
            "Epoch 28/100\n",
            "162/162 [==============================] - 1s 6ms/step - loss: 0.4841 - accuracy: 0.7702 - precision: 0.8353 - recall: 0.7945\n",
            "Epoch 29/100\n",
            "162/162 [==============================] - 1s 5ms/step - loss: 0.4699 - accuracy: 0.7706 - precision: 0.8127 - recall: 0.8296\n",
            "Epoch 30/100\n",
            "162/162 [==============================] - 1s 6ms/step - loss: 0.4692 - accuracy: 0.7648 - precision: 0.8118 - recall: 0.8192\n",
            "Epoch 31/100\n",
            "162/162 [==============================] - 1s 5ms/step - loss: 0.4755 - accuracy: 0.7615 - precision: 0.8139 - recall: 0.8091\n",
            "Epoch 32/100\n",
            "162/162 [==============================] - 1s 6ms/step - loss: 0.4646 - accuracy: 0.7658 - precision: 0.8234 - recall: 0.8030\n",
            "Epoch 33/100\n",
            "162/162 [==============================] - 1s 5ms/step - loss: 0.5053 - accuracy: 0.7602 - precision: 0.8267 - recall: 0.7869\n",
            "Epoch 34/100\n",
            "162/162 [==============================] - 1s 6ms/step - loss: 0.4755 - accuracy: 0.7520 - precision: 0.8208 - recall: 0.7793\n",
            "Epoch 35/100\n",
            "162/162 [==============================] - 1s 6ms/step - loss: 0.4704 - accuracy: 0.7702 - precision: 0.8531 - recall: 0.7704\n",
            "Epoch 36/100\n",
            "162/162 [==============================] - 1s 5ms/step - loss: 0.4669 - accuracy: 0.7667 - precision: 0.8508 - recall: 0.7668\n",
            "Epoch 37/100\n",
            "162/162 [==============================] - 1s 5ms/step - loss: 0.5657 - accuracy: 0.7491 - precision: 0.8237 - recall: 0.7692\n",
            "Epoch 38/100\n",
            "162/162 [==============================] - 1s 5ms/step - loss: 0.4787 - accuracy: 0.7702 - precision: 0.8403 - recall: 0.7875\n",
            "Epoch 39/100\n",
            "162/162 [==============================] - 1s 5ms/step - loss: 0.4712 - accuracy: 0.7770 - precision: 0.8454 - recall: 0.7936\n",
            "Epoch 40/100\n",
            "162/162 [==============================] - 1s 6ms/step - loss: 0.4583 - accuracy: 0.7752 - precision: 0.8414 - recall: 0.7957\n",
            "Epoch 41/100\n",
            "162/162 [==============================] - 1s 5ms/step - loss: 0.4654 - accuracy: 0.7702 - precision: 0.8418 - recall: 0.7854\n",
            "Epoch 42/100\n",
            "162/162 [==============================] - 1s 5ms/step - loss: 0.4524 - accuracy: 0.7712 - precision: 0.8443 - recall: 0.7838\n",
            "Epoch 43/100\n",
            "162/162 [==============================] - 1s 6ms/step - loss: 0.4467 - accuracy: 0.7764 - precision: 0.8310 - recall: 0.8128\n",
            "Epoch 44/100\n",
            "162/162 [==============================] - 1s 6ms/step - loss: 0.4551 - accuracy: 0.7787 - precision: 0.8468 - recall: 0.7951\n",
            "Epoch 45/100\n",
            "162/162 [==============================] - 1s 5ms/step - loss: 0.4495 - accuracy: 0.7752 - precision: 0.8219 - recall: 0.8244\n",
            "Epoch 46/100\n",
            "162/162 [==============================] - 1s 6ms/step - loss: 0.4602 - accuracy: 0.7754 - precision: 0.8419 - recall: 0.7954\n",
            "Epoch 47/100\n",
            "162/162 [==============================] - 1s 6ms/step - loss: 0.5256 - accuracy: 0.7513 - precision: 0.8073 - recall: 0.7985\n",
            "Epoch 48/100\n",
            "162/162 [==============================] - 1s 6ms/step - loss: 0.5349 - accuracy: 0.7557 - precision: 0.8046 - recall: 0.8122\n",
            "Epoch 49/100\n",
            "162/162 [==============================] - 1s 6ms/step - loss: 0.5909 - accuracy: 0.7219 - precision: 0.8268 - recall: 0.7104\n",
            "Epoch 50/100\n",
            "162/162 [==============================] - 1s 6ms/step - loss: 0.5276 - accuracy: 0.7474 - precision: 0.7968 - recall: 0.8079\n",
            "Epoch 51/100\n",
            "162/162 [==============================] - 1s 6ms/step - loss: 0.4935 - accuracy: 0.7584 - precision: 0.7902 - recall: 0.8430\n",
            "Epoch 52/100\n",
            "162/162 [==============================] - 1s 6ms/step - loss: 0.5036 - accuracy: 0.7629 - precision: 0.8114 - recall: 0.8159\n",
            "Epoch 53/100\n",
            "162/162 [==============================] - 1s 6ms/step - loss: 0.4831 - accuracy: 0.7609 - precision: 0.8060 - recall: 0.8207\n",
            "Epoch 54/100\n",
            "162/162 [==============================] - 1s 6ms/step - loss: 0.4789 - accuracy: 0.7584 - precision: 0.8065 - recall: 0.8146\n",
            "Epoch 55/100\n",
            "162/162 [==============================] - 1s 6ms/step - loss: 0.4770 - accuracy: 0.7532 - precision: 0.8141 - recall: 0.7918\n",
            "Epoch 56/100\n",
            "162/162 [==============================] - 1s 6ms/step - loss: 0.4647 - accuracy: 0.7615 - precision: 0.8121 - recall: 0.8119\n",
            "Epoch 57/100\n",
            "162/162 [==============================] - 1s 6ms/step - loss: 0.4623 - accuracy: 0.7636 - precision: 0.7882 - recall: 0.8579\n",
            "Epoch 58/100\n",
            "162/162 [==============================] - 1s 6ms/step - loss: 0.4609 - accuracy: 0.7694 - precision: 0.8031 - recall: 0.8433\n",
            "Epoch 59/100\n",
            "162/162 [==============================] - 1s 6ms/step - loss: 0.4631 - accuracy: 0.7772 - precision: 0.8117 - recall: 0.8448\n",
            "Epoch 60/100\n",
            "162/162 [==============================] - 1s 6ms/step - loss: 0.4655 - accuracy: 0.7592 - precision: 0.8223 - recall: 0.7915\n",
            "Epoch 61/100\n",
            "162/162 [==============================] - 1s 6ms/step - loss: 0.4528 - accuracy: 0.7735 - precision: 0.8610 - recall: 0.7668\n",
            "Epoch 62/100\n",
            "162/162 [==============================] - 1s 6ms/step - loss: 0.5346 - accuracy: 0.7687 - precision: 0.8118 - recall: 0.8271\n",
            "Epoch 63/100\n",
            "162/162 [==============================] - 1s 6ms/step - loss: 0.4726 - accuracy: 0.7667 - precision: 0.8382 - recall: 0.7835\n",
            "Epoch 64/100\n",
            "162/162 [==============================] - 1s 6ms/step - loss: 0.4546 - accuracy: 0.7745 - precision: 0.8447 - recall: 0.7896\n",
            "Epoch 65/100\n",
            "162/162 [==============================] - 1s 6ms/step - loss: 0.4559 - accuracy: 0.7675 - precision: 0.8259 - recall: 0.8027\n",
            "Epoch 66/100\n",
            "162/162 [==============================] - 1s 6ms/step - loss: 0.4504 - accuracy: 0.7799 - precision: 0.8336 - recall: 0.8159\n",
            "Epoch 67/100\n",
            "162/162 [==============================] - 1s 6ms/step - loss: 0.4539 - accuracy: 0.7770 - precision: 0.8373 - recall: 0.8049\n",
            "Epoch 68/100\n",
            "162/162 [==============================] - 1s 6ms/step - loss: 0.4497 - accuracy: 0.7762 - precision: 0.8327 - recall: 0.8101\n",
            "Epoch 69/100\n",
            "162/162 [==============================] - 1s 6ms/step - loss: 0.4394 - accuracy: 0.7803 - precision: 0.8410 - recall: 0.8061\n",
            "Epoch 70/100\n",
            "162/162 [==============================] - 1s 6ms/step - loss: 0.4412 - accuracy: 0.7774 - precision: 0.8156 - recall: 0.8387\n",
            "Epoch 71/100\n",
            "162/162 [==============================] - 1s 6ms/step - loss: 0.4384 - accuracy: 0.7807 - precision: 0.8281 - recall: 0.8256\n",
            "Epoch 72/100\n",
            "162/162 [==============================] - 1s 6ms/step - loss: 0.4487 - accuracy: 0.7716 - precision: 0.8314 - recall: 0.8027\n",
            "Epoch 73/100\n",
            "162/162 [==============================] - 1s 6ms/step - loss: 0.4382 - accuracy: 0.7851 - precision: 0.8700 - recall: 0.7774\n",
            "Epoch 74/100\n",
            "162/162 [==============================] - 1s 6ms/step - loss: 0.4351 - accuracy: 0.7882 - precision: 0.8487 - recall: 0.8107\n",
            "Epoch 75/100\n",
            "162/162 [==============================] - 1s 6ms/step - loss: 0.4488 - accuracy: 0.7745 - precision: 0.8260 - recall: 0.8165\n",
            "Epoch 76/100\n",
            "162/162 [==============================] - 1s 6ms/step - loss: 0.4410 - accuracy: 0.7814 - precision: 0.8493 - recall: 0.7970\n",
            "Epoch 77/100\n",
            "162/162 [==============================] - 1s 6ms/step - loss: 0.4345 - accuracy: 0.7816 - precision: 0.8437 - recall: 0.8049\n",
            "Epoch 78/100\n",
            "162/162 [==============================] - 1s 6ms/step - loss: 0.4422 - accuracy: 0.7772 - precision: 0.8361 - recall: 0.8070\n",
            "Epoch 79/100\n",
            "162/162 [==============================] - 1s 6ms/step - loss: 0.4380 - accuracy: 0.7832 - precision: 0.8264 - recall: 0.8332\n",
            "Epoch 80/100\n",
            "162/162 [==============================] - 1s 6ms/step - loss: 0.4401 - accuracy: 0.7766 - precision: 0.8370 - recall: 0.8046\n",
            "Epoch 81/100\n",
            "162/162 [==============================] - 1s 6ms/step - loss: 0.4382 - accuracy: 0.7762 - precision: 0.8475 - recall: 0.7893\n",
            "Epoch 82/100\n",
            "162/162 [==============================] - 1s 6ms/step - loss: 0.4349 - accuracy: 0.7766 - precision: 0.8349 - recall: 0.8076\n",
            "Epoch 83/100\n",
            "162/162 [==============================] - 1s 6ms/step - loss: 0.4273 - accuracy: 0.7917 - precision: 0.8525 - recall: 0.8122\n",
            "Epoch 84/100\n",
            "162/162 [==============================] - 1s 6ms/step - loss: 0.4431 - accuracy: 0.7747 - precision: 0.8249 - recall: 0.8186\n",
            "Epoch 85/100\n",
            "162/162 [==============================] - 1s 6ms/step - loss: 0.4358 - accuracy: 0.7853 - precision: 0.8473 - recall: 0.8070\n",
            "Epoch 86/100\n",
            "162/162 [==============================] - 1s 6ms/step - loss: 0.4845 - accuracy: 0.7716 - precision: 0.8240 - recall: 0.8137\n",
            "Epoch 87/100\n",
            "162/162 [==============================] - 1s 6ms/step - loss: 0.5132 - accuracy: 0.7687 - precision: 0.8154 - recall: 0.8213\n",
            "Epoch 88/100\n",
            "162/162 [==============================] - 1s 6ms/step - loss: 0.4570 - accuracy: 0.7789 - precision: 0.8303 - recall: 0.8189\n",
            "Epoch 89/100\n",
            "162/162 [==============================] - 1s 6ms/step - loss: 0.4484 - accuracy: 0.7824 - precision: 0.8389 - recall: 0.8131\n",
            "Epoch 90/100\n",
            "162/162 [==============================] - 1s 6ms/step - loss: 0.4443 - accuracy: 0.7810 - precision: 0.8547 - recall: 0.7890\n",
            "Epoch 91/100\n",
            "162/162 [==============================] - 1s 6ms/step - loss: 0.4397 - accuracy: 0.7783 - precision: 0.8308 - recall: 0.8171\n",
            "Epoch 92/100\n",
            "162/162 [==============================] - 1s 6ms/step - loss: 0.4339 - accuracy: 0.7865 - precision: 0.8673 - recall: 0.7832\n",
            "Epoch 93/100\n",
            "162/162 [==============================] - 1s 6ms/step - loss: 0.4501 - accuracy: 0.7828 - precision: 0.8672 - recall: 0.7765\n",
            "Epoch 94/100\n",
            "162/162 [==============================] - 1s 6ms/step - loss: 0.4313 - accuracy: 0.7865 - precision: 0.8713 - recall: 0.7784\n",
            "Epoch 95/100\n",
            "162/162 [==============================] - 1s 6ms/step - loss: 0.4308 - accuracy: 0.7894 - precision: 0.8797 - recall: 0.7738\n",
            "Epoch 96/100\n",
            "162/162 [==============================] - 1s 6ms/step - loss: 0.4264 - accuracy: 0.7913 - precision: 0.8839 - recall: 0.7726\n",
            "Epoch 97/100\n",
            "162/162 [==============================] - 1s 6ms/step - loss: 0.5430 - accuracy: 0.7561 - precision: 0.8268 - recall: 0.7787\n",
            "Epoch 98/100\n",
            "162/162 [==============================] - 1s 6ms/step - loss: 0.5128 - accuracy: 0.7528 - precision: 0.8301 - recall: 0.7674\n",
            "Epoch 99/100\n",
            "162/162 [==============================] - 1s 6ms/step - loss: 0.4766 - accuracy: 0.7663 - precision: 0.8486 - recall: 0.7689\n",
            "Epoch 100/100\n",
            "162/162 [==============================] - 1s 6ms/step - loss: 0.4834 - accuracy: 0.7785 - precision: 0.8358 - recall: 0.8101\n"
          ]
        }
      ]
    },
    {
      "cell_type": "markdown",
      "metadata": {
        "id": "e77ca6f0-716a-43e1-86a6-62650708dd64"
      },
      "source": [
        "<br>\n",
        "\n",
        "# Model performance visualization"
      ],
      "id": "e77ca6f0-716a-43e1-86a6-62650708dd64"
    },
    {
      "cell_type": "code",
      "metadata": {
        "id": "03ffcfc3-5c07-411b-8add-5e0832d7b2eb"
      },
      "source": [
        "import matplotlib.pyplot as plt\n",
        "from matplotlib import rcParams\n",
        "\n",
        "rcParams['figure.figsize'] = (18, 8)\n",
        "rcParams['axes.spines.top'] = False\n",
        "rcParams['axes.spines.right'] = False"
      ],
      "id": "03ffcfc3-5c07-411b-8add-5e0832d7b2eb",
      "execution_count": 23,
      "outputs": []
    },
    {
      "cell_type": "code",
      "metadata": {
        "colab": {
          "base_uri": "https://localhost:8080/",
          "height": 522
        },
        "id": "23d3587b-9851-4cff-8344-017ac5e588a9",
        "outputId": "0215dc9c-20dd-435d-dff0-ddaded912c7c"
      },
      "source": [
        "plt.plot(np.arange(1, 101), history.history['loss'], label='Loss')\n",
        "plt.plot(np.arange(1, 101), history.history['accuracy'], label='Accuracy')\n",
        "plt.plot(np.arange(1, 101), history.history['precision'], label='Precision')\n",
        "plt.plot(np.arange(1, 101), history.history['recall'], label='Recall')\n",
        "plt.title('Evaluation metrics', size=20)\n",
        "plt.xlabel('Epoch', size=14)\n",
        "plt.legend();"
      ],
      "id": "23d3587b-9851-4cff-8344-017ac5e588a9",
      "execution_count": 24,
      "outputs": [
        {
          "output_type": "display_data",
          "data": {
            "image/png": "[encoded data removed]",
            "text/plain": [
              "<Figure size 1296x576 with 1 Axes>"
            ]
          },
          "metadata": {
            "needs_background": "light"
          }
        }
      ]
    },
    {
      "cell_type": "markdown",
      "metadata": {
        "id": "9c005cef-8865-41bb-abdd-82b7a166d24e"
      },
      "source": [
        "- You could keep training the model, as accuracy, precision, and recall seem to grow slightly"
      ],
      "id": "9c005cef-8865-41bb-abdd-82b7a166d24e"
    },
    {
      "cell_type": "markdown",
      "metadata": {
        "id": "6ab69ad0-2259-47b7-8bc9-dbc7476a56c3"
      },
      "source": [
        "<br>\n",
        "\n",
        "# Making predictions"
      ],
      "id": "6ab69ad0-2259-47b7-8bc9-dbc7476a56c3"
    },
    {
      "cell_type": "code",
      "metadata": {
        "colab": {
          "base_uri": "https://localhost:8080/"
        },
        "id": "01211471-77a6-4142-a05e-de7a8b879f58",
        "outputId": "afcd41f2-ac17-4f8c-ab58-3616bb6b733c"
      },
      "source": [
        "predictions = model.predict(X_test_scaled)\n",
        "predictions"
      ],
      "id": "01211471-77a6-4142-a05e-de7a8b879f58",
      "execution_count": 25,
      "outputs": [
        {
          "output_type": "execute_result",
          "data": {
            "text/plain": [
              "array([[0.63926464],\n",
              "       [0.60534483],\n",
              "       [0.7147916 ],\n",
              "       ...,\n",
              "       [0.95940924],\n",
              "       [0.22377399],\n",
              "       [0.22377399]], dtype=float32)"
            ]
          },
          "metadata": {},
          "execution_count": 25
        }
      ]
    },
    {
      "cell_type": "markdown",
      "metadata": {
        "id": "7b81dccb-6028-474d-b713-38a95a073f9b"
      },
      "source": [
        "- These are probabilities - here's how to convert them to classes (threshold = 0.5)"
      ],
      "id": "7b81dccb-6028-474d-b713-38a95a073f9b"
    },
    {
      "cell_type": "code",
      "metadata": {
        "colab": {
          "base_uri": "https://localhost:8080/"
        },
        "id": "2677aea5-dc74-4a2d-8188-c2bd0a55a847",
        "outputId": "9fcf533a-bd54-4322-c758-671587188853"
      },
      "source": [
        "prediction_classes = [1 if prob > 0.5 else 0 for prob in np.ravel(predictions)]\n",
        "print(prediction_classes[:20])"
      ],
      "id": "2677aea5-dc74-4a2d-8188-c2bd0a55a847",
      "execution_count": 26,
      "outputs": [
        {
          "output_type": "stream",
          "name": "stdout",
          "text": [
            "[1, 1, 1, 1, 1, 0, 1, 1, 1, 1, 1, 1, 1, 1, 1, 1, 1, 1, 0, 1]\n"
          ]
        }
      ]
    },
    {
      "cell_type": "markdown",
      "metadata": {
        "id": "bccef621-132a-47c1-bb96-65ea416e6261"
      },
      "source": [
        "<br>\n",
        "\n",
        "# Model evaluation"
      ],
      "id": "bccef621-132a-47c1-bb96-65ea416e6261"
    },
    {
      "cell_type": "markdown",
      "metadata": {
        "id": "c97a0d83-64b0-4053-bd6a-deff0c3ddc43"
      },
      "source": [
        "- Evaluation on the test set:"
      ],
      "id": "c97a0d83-64b0-4053-bd6a-deff0c3ddc43"
    },
    {
      "cell_type": "code",
      "metadata": {
        "colab": {
          "base_uri": "https://localhost:8080/"
        },
        "id": "4739bced-2dd0-49bb-9af5-72779ea911b2",
        "outputId": "73ed8e9d-ae69-46aa-cc92-02bc92b43123"
      },
      "source": [
        "loss, accuracy, precision, recall = model.evaluate(X_test_scaled, y_test)\n",
        "loss, accuracy, precision, recall"
      ],
      "id": "4739bced-2dd0-49bb-9af5-72779ea911b2",
      "execution_count": 27,
      "outputs": [
        {
          "output_type": "stream",
          "name": "stdout",
          "text": [
            "41/41 [==============================] - 1s 4ms/step - loss: 0.5127 - accuracy: 0.7703 - precision: 0.8067 - recall: 0.8335\n"
          ]
        },
        {
          "output_type": "execute_result",
          "data": {
            "text/plain": [
              "(0.5126680731773376, 0.7703016400337219, 0.8066825866699219, 0.833538830280304)"
            ]
          },
          "metadata": {},
          "execution_count": 27
        }
      ]
    },
    {
      "cell_type": "code",
      "metadata": {
        "colab": {
          "base_uri": "https://localhost:8080/"
        },
        "id": "0a3a425e-b177-435d-b47c-670ef16a8007",
        "outputId": "67fd3a21-4b56-479f-bd65-7581f6aef0e1"
      },
      "source": [
        "from sklearn.metrics import confusion_matrix\n",
        "\n",
        "print(confusion_matrix(y_test, prediction_classes))"
      ],
      "id": "0a3a425e-b177-435d-b47c-670ef16a8007",
      "execution_count": 28,
      "outputs": [
        {
          "output_type": "stream",
          "name": "stdout",
          "text": [
            "[[320 162]\n",
            " [135 676]]\n"
          ]
        }
      ]
    },
    {
      "cell_type": "markdown",
      "metadata": {
        "id": "233d3cfb-7d42-47d5-a1c8-dd86eb333eca"
      },
      "source": [
        "- 383 True Negatives, 597 True positives, 214 False negatives, 99 False positives\n",
        "- Further evaluation:"
      ],
      "id": "233d3cfb-7d42-47d5-a1c8-dd86eb333eca"
    },
    {
      "cell_type": "code",
      "metadata": {
        "colab": {
          "base_uri": "https://localhost:8080/"
        },
        "id": "cd4b0afb-a242-4ea3-aef7-7105f8557bae",
        "outputId": "324537b7-d141-4ded-d883-9a307ec8a8c1"
      },
      "source": [
        "from sklearn.metrics import accuracy_score, precision_score, recall_score\n",
        "\n",
        "print(f'Accuracy:  {accuracy_score(y_test, prediction_classes):.2f}')\n",
        "print(f'Precision: {precision_score(y_test, prediction_classes):.2f}')\n",
        "print(f'Recall:    {recall_score(y_test, prediction_classes):.2f}')"
      ],
      "id": "cd4b0afb-a242-4ea3-aef7-7105f8557bae",
      "execution_count": 29,
      "outputs": [
        {
          "output_type": "stream",
          "name": "stdout",
          "text": [
            "Accuracy:  0.77\n",
            "Precision: 0.81\n",
            "Recall:    0.83\n"
          ]
        }
      ]
    }
  ]
}