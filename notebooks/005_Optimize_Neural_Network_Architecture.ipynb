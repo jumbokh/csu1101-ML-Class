{
  "nbformat": 4,
  "nbformat_minor": 5,
  "metadata": {
    "kernelspec": {
      "display_name": "Python 3.9.7 64-bit ('env_tensorflow': conda)",
      "language": "python",
      "name": "python397jvsc74a57bd02525e10832b7ba92743f6be5b80dfb53422b22d81bf31403f095ad9684056cbf"
    },
    "language_info": {
      "codemirror_mode": {
        "name": "ipython",
        "version": 3
      },
      "file_extension": ".py",
      "mimetype": "text/x-python",
      "name": "python",
      "nbconvert_exporter": "python",
      "pygments_lexer": "ipython3",
      "version": "3.9.7"
    },
    "colab": {
      "name": "005_Optimize_Neural_Network_Architecture.ipynb",
      "provenance": []
    },
    "accelerator": "GPU"
  },
  "cells": [
    {
      "cell_type": "markdown",
      "metadata": {
        "id": "3e2f0867-f2d1-4fff-81fd-b3b1c0b7f045"
      },
      "source": [
        "# Data preparation\n",
        "- https://www.kaggle.com/shelvigarg/wine-quality-dataset\n",
        "- Refer to https://github.com/better-data-science/TensorFlow/blob/main/003_TensorFlow_Classification.ipynb for detailed preparation instructions"
      ],
      "id": "3e2f0867-f2d1-4fff-81fd-b3b1c0b7f045"
    },
    {
      "cell_type": "code",
      "metadata": {
        "id": "onS_8XvvidWj",
        "outputId": "5c55d0bb-c499-40fd-cfbd-00b071a30cf6",
        "colab": {
          "base_uri": "https://localhost:8080/"
        }
      },
      "source": [
        "from google.colab import drive\n",
        "drive.mount('/content/gdrive')\n",
        "!ln -fs /content/gdrive/My\\ Drive /app"
      ],
      "id": "onS_8XvvidWj",
      "execution_count": 1,
      "outputs": [
        {
          "output_type": "stream",
          "name": "stdout",
          "text": [
            "Mounted at /content/gdrive\n"
          ]
        }
      ]
    },
    {
      "cell_type": "code",
      "metadata": {
        "id": "TSMJwOmgieIe",
        "outputId": "b55862a2-6c33-45ae-ea3c-da5a87e145c9",
        "colab": {
          "base_uri": "https://localhost:8080/"
        }
      },
      "source": [
        "!tar -xzvf /app/cuDNN/cudnn-10.0-linux-x64-v7.5.0.56.tgz -C /usr/local/\n",
        "!chmod a+r /usr/local/cuda/include/cudnn.h\n",
        "\n",
        "# 檢查是否安裝成功\n",
        "!cat /usr/local/cuda/include/cudnn.h | grep CUDNN_MAJOR -A 2"
      ],
      "id": "TSMJwOmgieIe",
      "execution_count": 2,
      "outputs": [
        {
          "output_type": "stream",
          "name": "stdout",
          "text": [
            "cuda/include/cudnn.h\n",
            "cuda/NVIDIA_SLA_cuDNN_Support.txt\n",
            "cuda/lib64/libcudnn.so\n",
            "cuda/lib64/libcudnn.so.7\n",
            "cuda/lib64/libcudnn.so.7.5.0\n",
            "cuda/lib64/libcudnn_static.a\n",
            "#define CUDNN_MAJOR 7\n",
            "#define CUDNN_MINOR 5\n",
            "#define CUDNN_PATCHLEVEL 0\n",
            "--\n",
            "#define CUDNN_VERSION (CUDNN_MAJOR * 1000 + CUDNN_MINOR * 100 + CUDNN_PATCHLEVEL)\n",
            "\n",
            "#include \"driver_types.h\"\n"
          ]
        }
      ]
    },
    {
      "cell_type": "code",
      "metadata": {
        "id": "YzixJRmqihs5",
        "outputId": "6b5fff4c-b0c0-40db-dfd8-d4772dd4e495",
        "colab": {
          "base_uri": "https://localhost:8080/"
        }
      },
      "source": [
        "%cd /app"
      ],
      "id": "YzixJRmqihs5",
      "execution_count": 3,
      "outputs": [
        {
          "output_type": "stream",
          "name": "stdout",
          "text": [
            "/content/gdrive/My Drive\n"
          ]
        }
      ]
    },
    {
      "cell_type": "code",
      "metadata": {
        "id": "7d02ea72-99ff-42f8-a7f6-533ba60c833c",
        "outputId": "4d1daee5-5119-4693-83fe-5069520c5023",
        "colab": {
          "base_uri": "https://localhost:8080/",
          "height": 223
        }
      },
      "source": [
        "import os\n",
        "import numpy as np\n",
        "import pandas as pd\n",
        "import itertools\n",
        "import warnings\n",
        "os.environ['TF_CPP_MIN_LOG_LEVEL'] = '2' \n",
        "warnings.filterwarnings('ignore')\n",
        "\n",
        "df = pd.read_csv('/app/data/winequalityN.csv')\n",
        "df.sample(5)"
      ],
      "id": "7d02ea72-99ff-42f8-a7f6-533ba60c833c",
      "execution_count": 4,
      "outputs": [
        {
          "output_type": "execute_result",
          "data": {
            "text/html": [
              "<div>\n",
              "<style scoped>\n",
              "    .dataframe tbody tr th:only-of-type {\n",
              "        vertical-align: middle;\n",
              "    }\n",
              "\n",
              "    .dataframe tbody tr th {\n",
              "        vertical-align: top;\n",
              "    }\n",
              "\n",
              "    .dataframe thead th {\n",
              "        text-align: right;\n",
              "    }\n",
              "</style>\n",
              "<table border=\"1\" class=\"dataframe\">\n",
              "  <thead>\n",
              "    <tr style=\"text-align: right;\">\n",
              "      <th></th>\n",
              "      <th>type</th>\n",
              "      <th>fixed acidity</th>\n",
              "      <th>volatile acidity</th>\n",
              "      <th>citric acid</th>\n",
              "      <th>residual sugar</th>\n",
              "      <th>chlorides</th>\n",
              "      <th>free sulfur dioxide</th>\n",
              "      <th>total sulfur dioxide</th>\n",
              "      <th>density</th>\n",
              "      <th>pH</th>\n",
              "      <th>sulphates</th>\n",
              "      <th>alcohol</th>\n",
              "      <th>quality</th>\n",
              "    </tr>\n",
              "  </thead>\n",
              "  <tbody>\n",
              "    <tr>\n",
              "      <th>1403</th>\n",
              "      <td>white</td>\n",
              "      <td>7.1</td>\n",
              "      <td>0.260</td>\n",
              "      <td>0.31</td>\n",
              "      <td>2.2</td>\n",
              "      <td>0.044</td>\n",
              "      <td>29.0</td>\n",
              "      <td>128.0</td>\n",
              "      <td>0.99370</td>\n",
              "      <td>3.34</td>\n",
              "      <td>0.64</td>\n",
              "      <td>10.9</td>\n",
              "      <td>8</td>\n",
              "    </tr>\n",
              "    <tr>\n",
              "      <th>1886</th>\n",
              "      <td>white</td>\n",
              "      <td>7.0</td>\n",
              "      <td>0.530</td>\n",
              "      <td>0.02</td>\n",
              "      <td>1.0</td>\n",
              "      <td>0.036</td>\n",
              "      <td>39.0</td>\n",
              "      <td>107.0</td>\n",
              "      <td>0.99300</td>\n",
              "      <td>3.20</td>\n",
              "      <td>0.32</td>\n",
              "      <td>9.0</td>\n",
              "      <td>5</td>\n",
              "    </tr>\n",
              "    <tr>\n",
              "      <th>5333</th>\n",
              "      <td>red</td>\n",
              "      <td>12.3</td>\n",
              "      <td>0.390</td>\n",
              "      <td>0.63</td>\n",
              "      <td>2.3</td>\n",
              "      <td>0.091</td>\n",
              "      <td>6.0</td>\n",
              "      <td>18.0</td>\n",
              "      <td>1.00040</td>\n",
              "      <td>3.16</td>\n",
              "      <td>0.49</td>\n",
              "      <td>9.5</td>\n",
              "      <td>5</td>\n",
              "    </tr>\n",
              "    <tr>\n",
              "      <th>2441</th>\n",
              "      <td>white</td>\n",
              "      <td>7.2</td>\n",
              "      <td>0.200</td>\n",
              "      <td>0.28</td>\n",
              "      <td>1.6</td>\n",
              "      <td>0.028</td>\n",
              "      <td>13.0</td>\n",
              "      <td>168.0</td>\n",
              "      <td>0.99203</td>\n",
              "      <td>3.17</td>\n",
              "      <td>1.06</td>\n",
              "      <td>11.5</td>\n",
              "      <td>6</td>\n",
              "    </tr>\n",
              "    <tr>\n",
              "      <th>1415</th>\n",
              "      <td>white</td>\n",
              "      <td>5.9</td>\n",
              "      <td>0.415</td>\n",
              "      <td>0.02</td>\n",
              "      <td>0.8</td>\n",
              "      <td>0.038</td>\n",
              "      <td>22.0</td>\n",
              "      <td>63.0</td>\n",
              "      <td>0.99320</td>\n",
              "      <td>3.36</td>\n",
              "      <td>0.36</td>\n",
              "      <td>9.3</td>\n",
              "      <td>5</td>\n",
              "    </tr>\n",
              "  </tbody>\n",
              "</table>\n",
              "</div>"
            ],
            "text/plain": [
              "       type  fixed acidity  volatile acidity  ...  sulphates  alcohol  quality\n",
              "1403  white            7.1             0.260  ...       0.64     10.9        8\n",
              "1886  white            7.0             0.530  ...       0.32      9.0        5\n",
              "5333    red           12.3             0.390  ...       0.49      9.5        5\n",
              "2441  white            7.2             0.200  ...       1.06     11.5        6\n",
              "1415  white            5.9             0.415  ...       0.36      9.3        5\n",
              "\n",
              "[5 rows x 13 columns]"
            ]
          },
          "metadata": {},
          "execution_count": 4
        }
      ]
    },
    {
      "cell_type": "code",
      "metadata": {
        "id": "cfcaaa20-6c4a-433f-b634-2cef2ef667e5"
      },
      "source": [
        "from sklearn.model_selection import train_test_split\n",
        "from sklearn.preprocessing import StandardScaler\n",
        "\n",
        "\n",
        "# Prepare the data\n",
        "df = df.dropna()\n",
        "df['is_white_wine'] = [1 if typ == 'white' else 0 for typ in df['type']]\n",
        "df['is_good_wine'] = [1 if quality >= 6 else 0 for quality in df['quality']]\n",
        "df.drop(['type', 'quality'], axis=1, inplace=True)\n",
        "\n",
        "# Train/test split\n",
        "X = df.drop('is_good_wine', axis=1)\n",
        "y = df['is_good_wine']\n",
        "X_train, X_test, y_train, y_test = train_test_split(\n",
        "    X, y, \n",
        "    test_size=0.2, random_state=42\n",
        ")\n",
        "\n",
        "# Scaling\n",
        "scaler = StandardScaler()\n",
        "X_train_scaled = scaler.fit_transform(X_train)\n",
        "X_test_scaled = scaler.transform(X_test)"
      ],
      "id": "cfcaaa20-6c4a-433f-b634-2cef2ef667e5",
      "execution_count": 5,
      "outputs": []
    },
    {
      "cell_type": "markdown",
      "metadata": {
        "id": "177edf80-99c0-4395-aef4-7b44fa3e11ac"
      },
      "source": [
        "<br>\n",
        "\n",
        "# How will we approach optimization"
      ],
      "id": "177edf80-99c0-4395-aef4-7b44fa3e11ac"
    },
    {
      "cell_type": "code",
      "metadata": {
        "id": "44c10656-7d55-44c2-a4d6-f3cd152d9408"
      },
      "source": [
        "import tensorflow as tf\n",
        "tf.random.set_seed(42)"
      ],
      "id": "44c10656-7d55-44c2-a4d6-f3cd152d9408",
      "execution_count": 6,
      "outputs": []
    },
    {
      "cell_type": "markdown",
      "metadata": {
        "id": "7defa96c-6231-44af-b798-c181959c4f15"
      },
      "source": [
        "- Let's declare some constants\n",
        "    - We want to optimize a network with 3 hidden layers\n",
        "    - Each hidden layer can have from 64 to 256 nodes\n",
        "    - The step size between nodes is 64\n",
        "        - So the possibilities are: 64, 128, 192, 256"
      ],
      "id": "7defa96c-6231-44af-b798-c181959c4f15"
    },
    {
      "cell_type": "code",
      "metadata": {
        "id": "81c3c263-e03b-44c2-a401-e986eda4af6c"
      },
      "source": [
        "num_layers = 3\n",
        "min_nodes_per_layer, max_nodes_per_layer = 64, 256\n",
        "node_step_size = 64"
      ],
      "id": "81c3c263-e03b-44c2-a401-e986eda4af6c",
      "execution_count": 7,
      "outputs": []
    },
    {
      "cell_type": "markdown",
      "metadata": {
        "id": "af1b807e-1d23-4b86-a469-99e902a12289"
      },
      "source": [
        "- Possibilities:"
      ],
      "id": "af1b807e-1d23-4b86-a469-99e902a12289"
    },
    {
      "cell_type": "code",
      "metadata": {
        "id": "b085f18a-7b3c-4cdc-b77e-50bed49e8d4e",
        "outputId": "3eddda12-b772-4580-fab3-0a619eb5a0f1",
        "colab": {
          "base_uri": "https://localhost:8080/"
        }
      },
      "source": [
        "node_options = list(range(\n",
        "    min_nodes_per_layer, \n",
        "    max_nodes_per_layer + 1, \n",
        "    node_step_size\n",
        "))\n",
        "node_options"
      ],
      "id": "b085f18a-7b3c-4cdc-b77e-50bed49e8d4e",
      "execution_count": 8,
      "outputs": [
        {
          "output_type": "execute_result",
          "data": {
            "text/plain": [
              "[64, 128, 192, 256]"
            ]
          },
          "metadata": {},
          "execution_count": 8
        }
      ]
    },
    {
      "cell_type": "markdown",
      "metadata": {
        "id": "09825b27-1194-44c2-8ff6-b3538036053b"
      },
      "source": [
        "- Taking them to two layers:"
      ],
      "id": "09825b27-1194-44c2-8ff6-b3538036053b"
    },
    {
      "cell_type": "code",
      "metadata": {
        "id": "8e81a831-0431-45bc-b38f-49dc5ba62441",
        "outputId": "1ef68d3f-0df9-498e-a03c-0f7b808c08d0",
        "colab": {
          "base_uri": "https://localhost:8080/"
        }
      },
      "source": [
        "two_layer_possibilities = [node_options, node_options]\n",
        "two_layer_possibilities"
      ],
      "id": "8e81a831-0431-45bc-b38f-49dc5ba62441",
      "execution_count": 9,
      "outputs": [
        {
          "output_type": "execute_result",
          "data": {
            "text/plain": [
              "[[64, 128, 192, 256], [64, 128, 192, 256]]"
            ]
          },
          "metadata": {},
          "execution_count": 9
        }
      ]
    },
    {
      "cell_type": "markdown",
      "metadata": {
        "id": "4df52357-5bf9-4df8-8797-ff4c09455be3"
      },
      "source": [
        "- And now it's just a task of calculating all permutations between these two lists:"
      ],
      "id": "4df52357-5bf9-4df8-8797-ff4c09455be3"
    },
    {
      "cell_type": "code",
      "metadata": {
        "id": "a442b96c-53a7-40d2-9997-cd12b771b8b6",
        "outputId": "28ee134f-7b4b-4b39-b84a-5d2ccc42819d",
        "colab": {
          "base_uri": "https://localhost:8080/"
        }
      },
      "source": [
        "list(itertools.product(*two_layer_possibilities))"
      ],
      "id": "a442b96c-53a7-40d2-9997-cd12b771b8b6",
      "execution_count": 10,
      "outputs": [
        {
          "output_type": "execute_result",
          "data": {
            "text/plain": [
              "[(64, 64),\n",
              " (64, 128),\n",
              " (64, 192),\n",
              " (64, 256),\n",
              " (128, 64),\n",
              " (128, 128),\n",
              " (128, 192),\n",
              " (128, 256),\n",
              " (192, 64),\n",
              " (192, 128),\n",
              " (192, 192),\n",
              " (192, 256),\n",
              " (256, 64),\n",
              " (256, 128),\n",
              " (256, 192),\n",
              " (256, 256)]"
            ]
          },
          "metadata": {},
          "execution_count": 10
        }
      ]
    },
    {
      "cell_type": "markdown",
      "metadata": {
        "id": "02ecc297-4c38-455c-ba07-16408fcf026c"
      },
      "source": [
        "- We want to optimize a 3-layer-deep neural network, so we'll have a bit more possibilities:"
      ],
      "id": "02ecc297-4c38-455c-ba07-16408fcf026c"
    },
    {
      "cell_type": "code",
      "metadata": {
        "id": "22b7259c-796c-48df-b722-89e0c6d752cd",
        "outputId": "1d545037-3f23-4ceb-a5cf-ea30ecfb2c4d",
        "colab": {
          "base_uri": "https://localhost:8080/"
        }
      },
      "source": [
        "layer_possibilities = [node_options] * num_layers\n",
        "layer_possibilities"
      ],
      "id": "22b7259c-796c-48df-b722-89e0c6d752cd",
      "execution_count": 11,
      "outputs": [
        {
          "output_type": "execute_result",
          "data": {
            "text/plain": [
              "[[64, 128, 192, 256], [64, 128, 192, 256], [64, 128, 192, 256]]"
            ]
          },
          "metadata": {},
          "execution_count": 11
        }
      ]
    },
    {
      "cell_type": "markdown",
      "metadata": {
        "id": "6910711c-5f28-4596-a144-256dfef759ce"
      },
      "source": [
        "- Here are the permutations:"
      ],
      "id": "6910711c-5f28-4596-a144-256dfef759ce"
    },
    {
      "cell_type": "code",
      "metadata": {
        "id": "ef365068-da6f-4653-9130-0d1c543dd6bf",
        "outputId": "5a47658c-e74f-4602-f980-3c36b28cd9b4",
        "colab": {
          "base_uri": "https://localhost:8080/"
        }
      },
      "source": [
        "layer_node_permutations = list(itertools.product(*layer_possibilities))\n",
        "layer_node_permutations"
      ],
      "id": "ef365068-da6f-4653-9130-0d1c543dd6bf",
      "execution_count": 12,
      "outputs": [
        {
          "output_type": "execute_result",
          "data": {
            "text/plain": [
              "[(64, 64, 64),\n",
              " (64, 64, 128),\n",
              " (64, 64, 192),\n",
              " (64, 64, 256),\n",
              " (64, 128, 64),\n",
              " (64, 128, 128),\n",
              " (64, 128, 192),\n",
              " (64, 128, 256),\n",
              " (64, 192, 64),\n",
              " (64, 192, 128),\n",
              " (64, 192, 192),\n",
              " (64, 192, 256),\n",
              " (64, 256, 64),\n",
              " (64, 256, 128),\n",
              " (64, 256, 192),\n",
              " (64, 256, 256),\n",
              " (128, 64, 64),\n",
              " (128, 64, 128),\n",
              " (128, 64, 192),\n",
              " (128, 64, 256),\n",
              " (128, 128, 64),\n",
              " (128, 128, 128),\n",
              " (128, 128, 192),\n",
              " (128, 128, 256),\n",
              " (128, 192, 64),\n",
              " (128, 192, 128),\n",
              " (128, 192, 192),\n",
              " (128, 192, 256),\n",
              " (128, 256, 64),\n",
              " (128, 256, 128),\n",
              " (128, 256, 192),\n",
              " (128, 256, 256),\n",
              " (192, 64, 64),\n",
              " (192, 64, 128),\n",
              " (192, 64, 192),\n",
              " (192, 64, 256),\n",
              " (192, 128, 64),\n",
              " (192, 128, 128),\n",
              " (192, 128, 192),\n",
              " (192, 128, 256),\n",
              " (192, 192, 64),\n",
              " (192, 192, 128),\n",
              " (192, 192, 192),\n",
              " (192, 192, 256),\n",
              " (192, 256, 64),\n",
              " (192, 256, 128),\n",
              " (192, 256, 192),\n",
              " (192, 256, 256),\n",
              " (256, 64, 64),\n",
              " (256, 64, 128),\n",
              " (256, 64, 192),\n",
              " (256, 64, 256),\n",
              " (256, 128, 64),\n",
              " (256, 128, 128),\n",
              " (256, 128, 192),\n",
              " (256, 128, 256),\n",
              " (256, 192, 64),\n",
              " (256, 192, 128),\n",
              " (256, 192, 192),\n",
              " (256, 192, 256),\n",
              " (256, 256, 64),\n",
              " (256, 256, 128),\n",
              " (256, 256, 192),\n",
              " (256, 256, 256)]"
            ]
          },
          "metadata": {},
          "execution_count": 12
        }
      ]
    },
    {
      "cell_type": "markdown",
      "metadata": {
        "id": "25982c3a-f544-4165-bb25-b8fd8c473886"
      },
      "source": [
        "We'll iterate over the permutations and then iterate again over the values of individual permutation to get the node count for each hidden layer:"
      ],
      "id": "25982c3a-f544-4165-bb25-b8fd8c473886"
    },
    {
      "cell_type": "code",
      "metadata": {
        "id": "fe0e2757-9d3a-4705-9ff5-c5827c29460b",
        "outputId": "9f37b497-9ad6-4829-9064-6d4ff893ff27",
        "colab": {
          "base_uri": "https://localhost:8080/"
        }
      },
      "source": [
        "for permutation in layer_node_permutations[:2]:\n",
        "    for nodes_at_layer in permutation:\n",
        "        print(nodes_at_layer)\n",
        "    print()"
      ],
      "id": "fe0e2757-9d3a-4705-9ff5-c5827c29460b",
      "execution_count": 13,
      "outputs": [
        {
          "output_type": "stream",
          "name": "stdout",
          "text": [
            "64\n",
            "64\n",
            "64\n",
            "\n",
            "64\n",
            "64\n",
            "128\n",
            "\n"
          ]
        }
      ]
    },
    {
      "cell_type": "markdown",
      "metadata": {
        "id": "3921118a-050f-4d69-8518-df588b0de4f3"
      },
      "source": [
        "- We'll create a new `Sequential` model at each iteration\n",
        "    - And add an `InputLayer` to it with a shape of `(12,)` (the number of columns in our dataset)\n",
        "- Then, we'll iterate over the items in a single permutation and add a `Dense` layer to the model with the current number of nodes\n",
        "- Finally, we'll add a `Dense` output layer\n",
        "- We'll also setting a name to the model so it's easier to compare them later:"
      ],
      "id": "3921118a-050f-4d69-8518-df588b0de4f3"
    },
    {
      "cell_type": "code",
      "metadata": {
        "id": "d664c48c-1698-4c5b-aa54-a420ff6d734a"
      },
      "source": [
        "models = []\n",
        "\n",
        "for permutation in layer_node_permutations:\n",
        "    model = tf.keras.Sequential()\n",
        "    model.add(tf.keras.layers.InputLayer(input_shape=(12,)))\n",
        "    model_name = ''\n",
        "    \n",
        "    for nodes_at_layer in permutation:\n",
        "        model.add(tf.keras.layers.Dense(nodes_at_layer, activation='relu'))\n",
        "        model_name += f'dense{nodes_at_layer}_'\n",
        "        \n",
        "    model.add(tf.keras.layers.Dense(1, activation='sigmoid'))\n",
        "    model._name = model_name[:-1]\n",
        "    \n",
        "    models.append(model)"
      ],
      "id": "d664c48c-1698-4c5b-aa54-a420ff6d734a",
      "execution_count": 14,
      "outputs": []
    },
    {
      "cell_type": "markdown",
      "metadata": {
        "id": "a7e85ed4-0bef-4969-9f33-86d6b8eb416e"
      },
      "source": [
        "- Here's how a single model looks like:"
      ],
      "id": "a7e85ed4-0bef-4969-9f33-86d6b8eb416e"
    },
    {
      "cell_type": "code",
      "metadata": {
        "id": "bcc34acb-44c5-4b06-ab11-2de3a83f0c0a",
        "outputId": "d404d5c8-f1cd-4335-ed62-b7a7382815a4",
        "colab": {
          "base_uri": "https://localhost:8080/"
        }
      },
      "source": [
        "models[0].summary()"
      ],
      "id": "bcc34acb-44c5-4b06-ab11-2de3a83f0c0a",
      "execution_count": 15,
      "outputs": [
        {
          "output_type": "stream",
          "name": "stdout",
          "text": [
            "Model: \"dense64_dense64_dense64\"\n",
            "_________________________________________________________________\n",
            "Layer (type)                 Output Shape              Param #   \n",
            "=================================================================\n",
            "dense (Dense)                (None, 64)                832       \n",
            "_________________________________________________________________\n",
            "dense_1 (Dense)              (None, 64)                4160      \n",
            "_________________________________________________________________\n",
            "dense_2 (Dense)              (None, 64)                4160      \n",
            "_________________________________________________________________\n",
            "dense_3 (Dense)              (None, 1)                 65        \n",
            "=================================================================\n",
            "Total params: 9,217\n",
            "Trainable params: 9,217\n",
            "Non-trainable params: 0\n",
            "_________________________________________________________________\n"
          ]
        }
      ]
    },
    {
      "cell_type": "markdown",
      "metadata": {
        "id": "46c3464d-f777-49f2-a1de-21f1dc0f6c5c"
      },
      "source": [
        "- Not too bad, right?\n",
        "- Let's wrap all this logic into a single function next.\n",
        "\n",
        "<br><br>\n",
        "\n",
        "# Get architecture possibilities from a function\n",
        "- This one will have a lot of parameters\n",
        "- But it doesn't do anything we haven't discussed so far:"
      ],
      "id": "46c3464d-f777-49f2-a1de-21f1dc0f6c5c"
    },
    {
      "cell_type": "code",
      "metadata": {
        "id": "0ca95622-7d80-4081-af90-3e5202d08535"
      },
      "source": [
        "def get_models(num_layers: int,\n",
        "               min_nodes_per_layer: int,\n",
        "               max_nodes_per_layer: int,\n",
        "               node_step_size: int,\n",
        "               input_shape: tuple,\n",
        "               hidden_layer_activation: str = 'relu',\n",
        "               num_nodes_at_output: int = 1,\n",
        "               output_layer_activation: str = 'sigmoid') -> list:\n",
        "    \n",
        "    node_options = list(range(min_nodes_per_layer, max_nodes_per_layer + 1, node_step_size))\n",
        "    layer_possibilities = [node_options] * num_layers\n",
        "    layer_node_permutations = list(itertools.product(*layer_possibilities))\n",
        "    \n",
        "    models = []\n",
        "    for permutation in layer_node_permutations:\n",
        "        model = tf.keras.Sequential()\n",
        "        model.add(tf.keras.layers.InputLayer(input_shape=input_shape))\n",
        "        model_name = ''\n",
        "\n",
        "        for nodes_at_layer in permutation:\n",
        "            model.add(tf.keras.layers.Dense(nodes_at_layer, activation=hidden_layer_activation))\n",
        "            model_name += f'dense{nodes_at_layer}_'\n",
        "\n",
        "        model.add(tf.keras.layers.Dense(num_nodes_at_output, activation=output_layer_activation))\n",
        "        model._name = model_name[:-1]\n",
        "        models.append(model)\n",
        "        \n",
        "    return models"
      ],
      "id": "0ca95622-7d80-4081-af90-3e5202d08535",
      "execution_count": 16,
      "outputs": []
    },
    {
      "cell_type": "markdown",
      "metadata": {
        "id": "970923d9-85ed-40d4-8733-5d0dd74f6ecc"
      },
      "source": [
        "- Let's test it:"
      ],
      "id": "970923d9-85ed-40d4-8733-5d0dd74f6ecc"
    },
    {
      "cell_type": "code",
      "metadata": {
        "id": "714f55ab-8555-4fcd-b5fb-7ed875fa52b2"
      },
      "source": [
        "all_models = get_models(\n",
        "    num_layers=3, \n",
        "    min_nodes_per_layer=64, \n",
        "    max_nodes_per_layer=256, \n",
        "    node_step_size=64, \n",
        "    input_shape=(12,)\n",
        ")"
      ],
      "id": "714f55ab-8555-4fcd-b5fb-7ed875fa52b2",
      "execution_count": 17,
      "outputs": []
    },
    {
      "cell_type": "markdown",
      "metadata": {
        "id": "3f798f64-f3bd-4047-8a25-cc57b4c17da5"
      },
      "source": [
        "- Let's print the names and the count:"
      ],
      "id": "3f798f64-f3bd-4047-8a25-cc57b4c17da5"
    },
    {
      "cell_type": "code",
      "metadata": {
        "id": "be548fc2-940e-44e8-ac9f-a5684d33e5a0",
        "outputId": "8a9ae1cb-a602-4932-e9a0-ba290e84eaf6",
        "colab": {
          "base_uri": "https://localhost:8080/"
        }
      },
      "source": [
        "print(f'#Models = {len(all_models)}')\n",
        "print()\n",
        "\n",
        "for model in all_models:\n",
        "    print(model.name)"
      ],
      "id": "be548fc2-940e-44e8-ac9f-a5684d33e5a0",
      "execution_count": 18,
      "outputs": [
        {
          "output_type": "stream",
          "name": "stdout",
          "text": [
            "#Models = 64\n",
            "\n",
            "dense64_dense64_dense64\n",
            "dense64_dense64_dense128\n",
            "dense64_dense64_dense192\n",
            "dense64_dense64_dense256\n",
            "dense64_dense128_dense64\n",
            "dense64_dense128_dense128\n",
            "dense64_dense128_dense192\n",
            "dense64_dense128_dense256\n",
            "dense64_dense192_dense64\n",
            "dense64_dense192_dense128\n",
            "dense64_dense192_dense192\n",
            "dense64_dense192_dense256\n",
            "dense64_dense256_dense64\n",
            "dense64_dense256_dense128\n",
            "dense64_dense256_dense192\n",
            "dense64_dense256_dense256\n",
            "dense128_dense64_dense64\n",
            "dense128_dense64_dense128\n",
            "dense128_dense64_dense192\n",
            "dense128_dense64_dense256\n",
            "dense128_dense128_dense64\n",
            "dense128_dense128_dense128\n",
            "dense128_dense128_dense192\n",
            "dense128_dense128_dense256\n",
            "dense128_dense192_dense64\n",
            "dense128_dense192_dense128\n",
            "dense128_dense192_dense192\n",
            "dense128_dense192_dense256\n",
            "dense128_dense256_dense64\n",
            "dense128_dense256_dense128\n",
            "dense128_dense256_dense192\n",
            "dense128_dense256_dense256\n",
            "dense192_dense64_dense64\n",
            "dense192_dense64_dense128\n",
            "dense192_dense64_dense192\n",
            "dense192_dense64_dense256\n",
            "dense192_dense128_dense64\n",
            "dense192_dense128_dense128\n",
            "dense192_dense128_dense192\n",
            "dense192_dense128_dense256\n",
            "dense192_dense192_dense64\n",
            "dense192_dense192_dense128\n",
            "dense192_dense192_dense192\n",
            "dense192_dense192_dense256\n",
            "dense192_dense256_dense64\n",
            "dense192_dense256_dense128\n",
            "dense192_dense256_dense192\n",
            "dense192_dense256_dense256\n",
            "dense256_dense64_dense64\n",
            "dense256_dense64_dense128\n",
            "dense256_dense64_dense192\n",
            "dense256_dense64_dense256\n",
            "dense256_dense128_dense64\n",
            "dense256_dense128_dense128\n",
            "dense256_dense128_dense192\n",
            "dense256_dense128_dense256\n",
            "dense256_dense192_dense64\n",
            "dense256_dense192_dense128\n",
            "dense256_dense192_dense192\n",
            "dense256_dense192_dense256\n",
            "dense256_dense256_dense64\n",
            "dense256_dense256_dense128\n",
            "dense256_dense256_dense192\n",
            "dense256_dense256_dense256\n"
          ]
        }
      ]
    },
    {
      "cell_type": "markdown",
      "metadata": {
        "id": "5433d59e-e36a-4866-8887-391dcb497bdd"
      },
      "source": [
        "- So we have 64 models in total\n",
        "- It will take some time to optimize\n",
        "- Let's declare another function for that\n",
        "\n",
        "<br><br>\n",
        "\n",
        "# Model optimization function\n",
        "- This one will accept the list of models, training and testing sets (both features and the target), and optionally a number of epochs and verbosity\n",
        "    - It's advised to set verbosity to 0 so you don't get overwhelmed with the console output"
      ],
      "id": "5433d59e-e36a-4866-8887-391dcb497bdd"
    },
    {
      "cell_type": "code",
      "metadata": {
        "id": "a7ad3417-a53b-44ac-a37d-5a911ffc7b65"
      },
      "source": [
        "from sklearn.metrics import accuracy_score, precision_score, recall_score, f1_score"
      ],
      "id": "a7ad3417-a53b-44ac-a37d-5a911ffc7b65",
      "execution_count": 19,
      "outputs": []
    },
    {
      "cell_type": "code",
      "metadata": {
        "id": "aa4c1af5-8c67-4c19-9fa8-63926ea2b6c6"
      },
      "source": [
        "def optimize(models: list,\n",
        "             X_train: np.array,\n",
        "             y_train: np.array,\n",
        "             X_test: np.array,\n",
        "             y_test: np.array,\n",
        "             epochs: int = 50,\n",
        "             verbose: int = 0) -> pd.DataFrame:\n",
        "    \n",
        "    # We'll store the results here\n",
        "    results = []\n",
        "    \n",
        "    def train(model: tf.keras.Sequential) -> dict:\n",
        "        # Change this however you want\n",
        "        model.compile(\n",
        "            loss=tf.keras.losses.binary_crossentropy,\n",
        "            optimizer=tf.keras.optimizers.Adam(),\n",
        "            metrics=[\n",
        "                tf.keras.metrics.BinaryAccuracy(name='accuracy')\n",
        "            ]\n",
        "        )\n",
        "        \n",
        "        # Train the model\n",
        "        model.fit(\n",
        "            X_train,\n",
        "            y_train,\n",
        "            epochs=epochs,\n",
        "            verbose=verbose\n",
        "        )\n",
        "        \n",
        "        # Make predictions on the test set\n",
        "        preds = model.predict(X_test)\n",
        "        prediction_classes = [1 if prob > 0.5 else 0 for prob in np.ravel(preds)]\n",
        "        \n",
        "        # Return evaluation metrics on the test set\n",
        "        return {\n",
        "            'model_name': model.name,\n",
        "            'test_accuracy': accuracy_score(y_test, prediction_classes),\n",
        "            'test_precision': precision_score(y_test, prediction_classes),\n",
        "            'test_recall': recall_score(y_test, prediction_classes),\n",
        "            'test_f1': f1_score(y_test, prediction_classes)\n",
        "        }\n",
        "    \n",
        "    # Train every model and save results\n",
        "    for model in models:\n",
        "        try:\n",
        "            print(model.name, end=' ... ')\n",
        "            res = train(model=model)\n",
        "            results.append(res)\n",
        "        except Exception as e:\n",
        "            print(f'{model.name} --> {str(e)}')\n",
        "        \n",
        "    return pd.DataFrame(results)"
      ],
      "id": "aa4c1af5-8c67-4c19-9fa8-63926ea2b6c6",
      "execution_count": 20,
      "outputs": []
    },
    {
      "cell_type": "markdown",
      "metadata": {
        "id": "9f7817f8-e353-45b9-925b-4f9c4a158c01"
      },
      "source": [
        "- Let's optimize the architecture!\n",
        "- It will take some time"
      ],
      "id": "9f7817f8-e353-45b9-925b-4f9c4a158c01"
    },
    {
      "cell_type": "code",
      "metadata": {
        "id": "d4617681-a35b-45e0-9e83-04e9d913f599",
        "outputId": "8ef33d5e-afc9-4454-b1ee-945e84383187",
        "colab": {
          "base_uri": "https://localhost:8080/"
        }
      },
      "source": [
        "optimization_results = optimize(\n",
        "    models=models,\n",
        "    X_train=X_train_scaled,\n",
        "    y_train=y_train,\n",
        "    X_test=X_test_scaled,\n",
        "    y_test=y_test\n",
        ")"
      ],
      "id": "d4617681-a35b-45e0-9e83-04e9d913f599",
      "execution_count": 21,
      "outputs": [
        {
          "output_type": "stream",
          "name": "stdout",
          "text": [
            "dense64_dense64_dense64 ... dense64_dense64_dense128 ... dense64_dense64_dense192 ... dense64_dense64_dense256 ... dense64_dense128_dense64 ... dense64_dense128_dense128 ... dense64_dense128_dense192 ... dense64_dense128_dense256 ... dense64_dense192_dense64 ... dense64_dense192_dense128 ... dense64_dense192_dense192 ... dense64_dense192_dense256 ... dense64_dense256_dense64 ... dense64_dense256_dense128 ... dense64_dense256_dense192 ... dense64_dense256_dense256 ... dense128_dense64_dense64 ... dense128_dense64_dense128 ... dense128_dense64_dense192 ... dense128_dense64_dense256 ... dense128_dense128_dense64 ... dense128_dense128_dense128 ... dense128_dense128_dense192 ... dense128_dense128_dense256 ... dense128_dense192_dense64 ... dense128_dense192_dense128 ... dense128_dense192_dense192 ... dense128_dense192_dense256 ... dense128_dense256_dense64 ... dense128_dense256_dense128 ... dense128_dense256_dense192 ... dense128_dense256_dense256 ... dense192_dense64_dense64 ... dense192_dense64_dense128 ... dense192_dense64_dense192 ... dense192_dense64_dense256 ... dense192_dense128_dense64 ... dense192_dense128_dense128 ... dense192_dense128_dense192 ... dense192_dense128_dense256 ... dense192_dense192_dense64 ... dense192_dense192_dense128 ... dense192_dense192_dense192 ... dense192_dense192_dense256 ... dense192_dense256_dense64 ... dense192_dense256_dense128 ... dense192_dense256_dense192 ... dense192_dense256_dense256 ... dense256_dense64_dense64 ... dense256_dense64_dense128 ... dense256_dense64_dense192 ... dense256_dense64_dense256 ... dense256_dense128_dense64 ... dense256_dense128_dense128 ... dense256_dense128_dense192 ... dense256_dense128_dense256 ... dense256_dense192_dense64 ... dense256_dense192_dense128 ... dense256_dense192_dense192 ... dense256_dense192_dense256 ... dense256_dense256_dense64 ... dense256_dense256_dense128 ... dense256_dense256_dense192 ... dense256_dense256_dense256 ... "
          ]
        }
      ]
    },
    {
      "cell_type": "code",
      "metadata": {
        "id": "3d266ebe-21c3-4227-a3f2-7c144384ce86",
        "outputId": "798cfd70-bee3-4889-bc39-7dc29e9cf4aa",
        "colab": {
          "base_uri": "https://localhost:8080/",
          "height": 423
        }
      },
      "source": [
        "optimization_results.sort_values(by='test_accuracy', ascending=False)"
      ],
      "id": "3d266ebe-21c3-4227-a3f2-7c144384ce86",
      "execution_count": 22,
      "outputs": [
        {
          "output_type": "execute_result",
          "data": {
            "text/html": [
              "<div>\n",
              "<style scoped>\n",
              "    .dataframe tbody tr th:only-of-type {\n",
              "        vertical-align: middle;\n",
              "    }\n",
              "\n",
              "    .dataframe tbody tr th {\n",
              "        vertical-align: top;\n",
              "    }\n",
              "\n",
              "    .dataframe thead th {\n",
              "        text-align: right;\n",
              "    }\n",
              "</style>\n",
              "<table border=\"1\" class=\"dataframe\">\n",
              "  <thead>\n",
              "    <tr style=\"text-align: right;\">\n",
              "      <th></th>\n",
              "      <th>model_name</th>\n",
              "      <th>test_accuracy</th>\n",
              "      <th>test_precision</th>\n",
              "      <th>test_recall</th>\n",
              "      <th>test_f1</th>\n",
              "    </tr>\n",
              "  </thead>\n",
              "  <tbody>\n",
              "    <tr>\n",
              "      <th>60</th>\n",
              "      <td>dense256_dense256_dense64</td>\n",
              "      <td>0.810518</td>\n",
              "      <td>0.851990</td>\n",
              "      <td>0.844636</td>\n",
              "      <td>0.848297</td>\n",
              "    </tr>\n",
              "    <tr>\n",
              "      <th>58</th>\n",
              "      <td>dense256_dense192_dense192</td>\n",
              "      <td>0.807425</td>\n",
              "      <td>0.837740</td>\n",
              "      <td>0.859433</td>\n",
              "      <td>0.848448</td>\n",
              "    </tr>\n",
              "    <tr>\n",
              "      <th>28</th>\n",
              "      <td>dense128_dense256_dense64</td>\n",
              "      <td>0.806651</td>\n",
              "      <td>0.835125</td>\n",
              "      <td>0.861899</td>\n",
              "      <td>0.848301</td>\n",
              "    </tr>\n",
              "    <tr>\n",
              "      <th>26</th>\n",
              "      <td>dense128_dense192_dense192</td>\n",
              "      <td>0.802784</td>\n",
              "      <td>0.850126</td>\n",
              "      <td>0.832306</td>\n",
              "      <td>0.841121</td>\n",
              "    </tr>\n",
              "    <tr>\n",
              "      <th>61</th>\n",
              "      <td>dense256_dense256_dense128</td>\n",
              "      <td>0.800464</td>\n",
              "      <td>0.835152</td>\n",
              "      <td>0.849568</td>\n",
              "      <td>0.842298</td>\n",
              "    </tr>\n",
              "    <tr>\n",
              "      <th>...</th>\n",
              "      <td>...</td>\n",
              "      <td>...</td>\n",
              "      <td>...</td>\n",
              "      <td>...</td>\n",
              "      <td>...</td>\n",
              "    </tr>\n",
              "    <tr>\n",
              "      <th>7</th>\n",
              "      <td>dense64_dense128_dense256</td>\n",
              "      <td>0.777262</td>\n",
              "      <td>0.818514</td>\n",
              "      <td>0.828607</td>\n",
              "      <td>0.823529</td>\n",
              "    </tr>\n",
              "    <tr>\n",
              "      <th>45</th>\n",
              "      <td>dense192_dense256_dense128</td>\n",
              "      <td>0.777262</td>\n",
              "      <td>0.807286</td>\n",
              "      <td>0.847102</td>\n",
              "      <td>0.826715</td>\n",
              "    </tr>\n",
              "    <tr>\n",
              "      <th>29</th>\n",
              "      <td>dense128_dense256_dense128</td>\n",
              "      <td>0.776489</td>\n",
              "      <td>0.826250</td>\n",
              "      <td>0.815043</td>\n",
              "      <td>0.820608</td>\n",
              "    </tr>\n",
              "    <tr>\n",
              "      <th>51</th>\n",
              "      <td>dense256_dense64_dense256</td>\n",
              "      <td>0.774942</td>\n",
              "      <td>0.820197</td>\n",
              "      <td>0.821208</td>\n",
              "      <td>0.820702</td>\n",
              "    </tr>\n",
              "    <tr>\n",
              "      <th>16</th>\n",
              "      <td>dense128_dense64_dense64</td>\n",
              "      <td>0.770302</td>\n",
              "      <td>0.809639</td>\n",
              "      <td>0.828607</td>\n",
              "      <td>0.819013</td>\n",
              "    </tr>\n",
              "  </tbody>\n",
              "</table>\n",
              "<p>64 rows × 5 columns</p>\n",
              "</div>"
            ],
            "text/plain": [
              "                    model_name  test_accuracy  ...  test_recall   test_f1\n",
              "60   dense256_dense256_dense64       0.810518  ...     0.844636  0.848297\n",
              "58  dense256_dense192_dense192       0.807425  ...     0.859433  0.848448\n",
              "28   dense128_dense256_dense64       0.806651  ...     0.861899  0.848301\n",
              "26  dense128_dense192_dense192       0.802784  ...     0.832306  0.841121\n",
              "61  dense256_dense256_dense128       0.800464  ...     0.849568  0.842298\n",
              "..                         ...            ...  ...          ...       ...\n",
              "7    dense64_dense128_dense256       0.777262  ...     0.828607  0.823529\n",
              "45  dense192_dense256_dense128       0.777262  ...     0.847102  0.826715\n",
              "29  dense128_dense256_dense128       0.776489  ...     0.815043  0.820608\n",
              "51   dense256_dense64_dense256       0.774942  ...     0.821208  0.820702\n",
              "16    dense128_dense64_dense64       0.770302  ...     0.828607  0.819013\n",
              "\n",
              "[64 rows x 5 columns]"
            ]
          },
          "metadata": {},
          "execution_count": 22
        }
      ]
    },
    {
      "cell_type": "markdown",
      "metadata": {
        "id": "fb132b54-13d5-4c25-8f4b-6feb6a873c55"
      },
      "source": [
        "- And there you have it!"
      ],
      "id": "fb132b54-13d5-4c25-8f4b-6feb6a873c55"
    }
  ]
}